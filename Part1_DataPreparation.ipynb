{
 "cells": [
  {
   "cell_type": "markdown",
   "metadata": {},
   "source": [
    "#### FINAL PROJECT:\n",
    "# UNDERSTANDING BIKE SHARE IN LOS ANGELES\n",
    "\n",
    "\n",
    "#### Oleh: Nadya Rizki Fadilah\n",
    "\n",
    "\n",
    "#### Datasets: Bike Share Trips 2019 (Los Angeles) \n",
    "sumber data: https://bikeshare.metro.net/about/data/\n",
    "\n",
    "<b>Tujuan:</b>\n",
    "1. Memprediksi demand di stasiun bike share berdasarkan karakteristik stasiun dan hari\n",
    "2. Mengetahui faktor-faktor karakteristik stasiun yang mempengaruhi demand  "
   ]
  },
  {
   "cell_type": "code",
   "execution_count": 1,
   "metadata": {},
   "outputs": [],
   "source": [
    "import pandas as pd\n",
    "import numpy as np\n",
    "import matplotlib.pyplot as plt\n",
    "from datetime import datetime\n",
    "import requests\n",
    "pd.set_option(\"display.max_rows\", 999)\n",
    "pd.set_option(\"display.max_columns\", 120)\n",
    "import time\n",
    "from sklearn.preprocessing import FunctionTransformer\n",
    "from sklearn.preprocessing import OrdinalEncoder\n",
    "import folium"
   ]
  },
  {
   "cell_type": "markdown",
   "metadata": {},
   "source": [
    "# PART ONE -  DATA PREPARATION"
   ]
  },
  {
   "cell_type": "markdown",
   "metadata": {},
   "source": [
    "## 0. Importing and Sampling Data"
   ]
  },
  {
   "cell_type": "markdown",
   "metadata": {},
   "source": [
    "Data tersebar di 4 CSV dimana masing-masing CSV mewakili data satu quartal:\n",
    "- q1 = Jan - Maret\n",
    "- q2 = April - Juni\n",
    "- q3 = Juli - September\n",
    "- q4 = November  - Desember"
   ]
  },
  {
   "cell_type": "code",
   "execution_count": 2,
   "metadata": {},
   "outputs": [
    {
     "name": "stderr",
     "output_type": "stream",
     "text": [
      "c:\\users\\user1\\appdata\\local\\programs\\python\\python38-32\\lib\\site-packages\\IPython\\core\\interactiveshell.py:3057: DtypeWarning: Columns (10) have mixed types. Specify dtype option on import or set low_memory=False.\n",
      "  has_raised = await self.run_ast_nodes(code_ast.body, cell_name,\n"
     ]
    }
   ],
   "source": [
    "dfq1 = pd.read_csv('metro-bike-share-trips-2019-q1.csv').sample(n=20000, random_state=1)\n",
    "dfq2 = pd.read_csv('metro-bike-share-trips-2019-q2.csv').sample(n=20000, random_state=1)\n",
    "dfq3 = pd.read_csv('metro-bike-share-trips-2019-q3.csv').sample(n=20000, random_state=1)\n",
    "dfq4 = pd.read_csv('metro-bike-share-trips-2019-q4.csv').sample(n=20000, random_state=1)"
   ]
  },
  {
   "cell_type": "markdown",
   "metadata": {},
   "source": [
    "Memastikan dataframe memiliki kolom dan format yang sama:"
   ]
  },
  {
   "cell_type": "code",
   "execution_count": 3,
   "metadata": {},
   "outputs": [
    {
     "data": {
      "text/html": [
       "<div>\n",
       "<style scoped>\n",
       "    .dataframe tbody tr th:only-of-type {\n",
       "        vertical-align: middle;\n",
       "    }\n",
       "\n",
       "    .dataframe tbody tr th {\n",
       "        vertical-align: top;\n",
       "    }\n",
       "\n",
       "    .dataframe thead th {\n",
       "        text-align: right;\n",
       "    }\n",
       "</style>\n",
       "<table border=\"1\" class=\"dataframe\">\n",
       "  <thead>\n",
       "    <tr style=\"text-align: right;\">\n",
       "      <th></th>\n",
       "      <th>trip_id</th>\n",
       "      <th>duration</th>\n",
       "      <th>start_time</th>\n",
       "      <th>end_time</th>\n",
       "      <th>start_station</th>\n",
       "      <th>start_lat</th>\n",
       "      <th>start_lon</th>\n",
       "      <th>end_station</th>\n",
       "      <th>end_lat</th>\n",
       "      <th>end_lon</th>\n",
       "      <th>bike_id</th>\n",
       "      <th>plan_duration</th>\n",
       "      <th>trip_route_category</th>\n",
       "      <th>passholder_type</th>\n",
       "      <th>bike_type</th>\n",
       "    </tr>\n",
       "  </thead>\n",
       "  <tbody>\n",
       "    <tr>\n",
       "      <th>57078</th>\n",
       "      <td>118546618</td>\n",
       "      <td>9</td>\n",
       "      <td>2019-03-31 14:57:00</td>\n",
       "      <td>2019-03-31 15:06:00</td>\n",
       "      <td>3047</td>\n",
       "      <td>34.039982</td>\n",
       "      <td>-118.266403</td>\n",
       "      <td>3031</td>\n",
       "      <td>34.044701</td>\n",
       "      <td>-118.252441</td>\n",
       "      <td>05806</td>\n",
       "      <td>30</td>\n",
       "      <td>One Way</td>\n",
       "      <td>Monthly Pass</td>\n",
       "      <td>standard</td>\n",
       "    </tr>\n",
       "    <tr>\n",
       "      <th>13320</th>\n",
       "      <td>114082839</td>\n",
       "      <td>9</td>\n",
       "      <td>2019-01-24 06:25:00</td>\n",
       "      <td>2019-01-24 06:34:00</td>\n",
       "      <td>3005</td>\n",
       "      <td>34.048500</td>\n",
       "      <td>-118.258537</td>\n",
       "      <td>3075</td>\n",
       "      <td>34.042110</td>\n",
       "      <td>-118.256187</td>\n",
       "      <td>12197</td>\n",
       "      <td>1</td>\n",
       "      <td>One Way</td>\n",
       "      <td>Walk-up</td>\n",
       "      <td>standard</td>\n",
       "    </tr>\n",
       "  </tbody>\n",
       "</table>\n",
       "</div>"
      ],
      "text/plain": [
       "         trip_id  duration           start_time             end_time  \\\n",
       "57078  118546618         9  2019-03-31 14:57:00  2019-03-31 15:06:00   \n",
       "13320  114082839         9  2019-01-24 06:25:00  2019-01-24 06:34:00   \n",
       "\n",
       "       start_station  start_lat   start_lon  end_station    end_lat  \\\n",
       "57078           3047  34.039982 -118.266403         3031  34.044701   \n",
       "13320           3005  34.048500 -118.258537         3075  34.042110   \n",
       "\n",
       "          end_lon bike_id  plan_duration trip_route_category passholder_type  \\\n",
       "57078 -118.252441   05806             30             One Way    Monthly Pass   \n",
       "13320 -118.256187   12197              1             One Way         Walk-up   \n",
       "\n",
       "      bike_type  \n",
       "57078  standard  \n",
       "13320  standard  "
      ]
     },
     "execution_count": 3,
     "metadata": {},
     "output_type": "execute_result"
    }
   ],
   "source": [
    "dfq1.head(2)"
   ]
  },
  {
   "cell_type": "code",
   "execution_count": 4,
   "metadata": {},
   "outputs": [
    {
     "data": {
      "text/html": [
       "<div>\n",
       "<style scoped>\n",
       "    .dataframe tbody tr th:only-of-type {\n",
       "        vertical-align: middle;\n",
       "    }\n",
       "\n",
       "    .dataframe tbody tr th {\n",
       "        vertical-align: top;\n",
       "    }\n",
       "\n",
       "    .dataframe thead th {\n",
       "        text-align: right;\n",
       "    }\n",
       "</style>\n",
       "<table border=\"1\" class=\"dataframe\">\n",
       "  <thead>\n",
       "    <tr style=\"text-align: right;\">\n",
       "      <th></th>\n",
       "      <th>trip_id</th>\n",
       "      <th>duration</th>\n",
       "      <th>start_time</th>\n",
       "      <th>end_time</th>\n",
       "      <th>start_station</th>\n",
       "      <th>start_lat</th>\n",
       "      <th>start_lon</th>\n",
       "      <th>end_station</th>\n",
       "      <th>end_lat</th>\n",
       "      <th>end_lon</th>\n",
       "      <th>bike_id</th>\n",
       "      <th>plan_duration</th>\n",
       "      <th>trip_route_category</th>\n",
       "      <th>passholder_type</th>\n",
       "      <th>bike_type</th>\n",
       "    </tr>\n",
       "  </thead>\n",
       "  <tbody>\n",
       "    <tr>\n",
       "      <th>13143</th>\n",
       "      <td>119969782</td>\n",
       "      <td>8</td>\n",
       "      <td>2019-04-21 16:08:00</td>\n",
       "      <td>2019-04-21 16:16:00</td>\n",
       "      <td>3040</td>\n",
       "      <td>34.053570</td>\n",
       "      <td>-118.266357</td>\n",
       "      <td>3031</td>\n",
       "      <td>34.044701</td>\n",
       "      <td>-118.252441</td>\n",
       "      <td>6492</td>\n",
       "      <td>1</td>\n",
       "      <td>One Way</td>\n",
       "      <td>Walk-up</td>\n",
       "      <td>standard</td>\n",
       "    </tr>\n",
       "    <tr>\n",
       "      <th>13443</th>\n",
       "      <td>120020198</td>\n",
       "      <td>40</td>\n",
       "      <td>2019-04-22 10:11:00</td>\n",
       "      <td>2019-04-22 10:51:00</td>\n",
       "      <td>3067</td>\n",
       "      <td>34.045181</td>\n",
       "      <td>-118.250237</td>\n",
       "      <td>3078</td>\n",
       "      <td>34.064281</td>\n",
       "      <td>-118.238937</td>\n",
       "      <td>12102</td>\n",
       "      <td>1</td>\n",
       "      <td>One Way</td>\n",
       "      <td>Walk-up</td>\n",
       "      <td>standard</td>\n",
       "    </tr>\n",
       "  </tbody>\n",
       "</table>\n",
       "</div>"
      ],
      "text/plain": [
       "         trip_id  duration           start_time             end_time  \\\n",
       "13143  119969782         8  2019-04-21 16:08:00  2019-04-21 16:16:00   \n",
       "13443  120020198        40  2019-04-22 10:11:00  2019-04-22 10:51:00   \n",
       "\n",
       "       start_station  start_lat   start_lon  end_station    end_lat  \\\n",
       "13143           3040  34.053570 -118.266357         3031  34.044701   \n",
       "13443           3067  34.045181 -118.250237         3078  34.064281   \n",
       "\n",
       "          end_lon  bike_id  plan_duration trip_route_category passholder_type  \\\n",
       "13143 -118.252441     6492              1             One Way         Walk-up   \n",
       "13443 -118.238937    12102              1             One Way         Walk-up   \n",
       "\n",
       "      bike_type  \n",
       "13143  standard  \n",
       "13443  standard  "
      ]
     },
     "execution_count": 4,
     "metadata": {},
     "output_type": "execute_result"
    }
   ],
   "source": [
    "dfq2.head(2)"
   ]
  },
  {
   "cell_type": "code",
   "execution_count": 5,
   "metadata": {},
   "outputs": [
    {
     "data": {
      "text/html": [
       "<div>\n",
       "<style scoped>\n",
       "    .dataframe tbody tr th:only-of-type {\n",
       "        vertical-align: middle;\n",
       "    }\n",
       "\n",
       "    .dataframe tbody tr th {\n",
       "        vertical-align: top;\n",
       "    }\n",
       "\n",
       "    .dataframe thead th {\n",
       "        text-align: right;\n",
       "    }\n",
       "</style>\n",
       "<table border=\"1\" class=\"dataframe\">\n",
       "  <thead>\n",
       "    <tr style=\"text-align: right;\">\n",
       "      <th></th>\n",
       "      <th>trip_id</th>\n",
       "      <th>duration</th>\n",
       "      <th>start_time</th>\n",
       "      <th>end_time</th>\n",
       "      <th>start_station</th>\n",
       "      <th>start_lat</th>\n",
       "      <th>start_lon</th>\n",
       "      <th>end_station</th>\n",
       "      <th>end_lat</th>\n",
       "      <th>end_lon</th>\n",
       "      <th>bike_id</th>\n",
       "      <th>plan_duration</th>\n",
       "      <th>trip_route_category</th>\n",
       "      <th>passholder_type</th>\n",
       "      <th>bike_type</th>\n",
       "    </tr>\n",
       "  </thead>\n",
       "  <tbody>\n",
       "    <tr>\n",
       "      <th>49305</th>\n",
       "      <td>127642188</td>\n",
       "      <td>2</td>\n",
       "      <td>8/21/2019 5:25</td>\n",
       "      <td>8/21/2019 5:27</td>\n",
       "      <td>3064</td>\n",
       "      <td>34.046810</td>\n",
       "      <td>-118.256981</td>\n",
       "      <td>3007</td>\n",
       "      <td>34.05048</td>\n",
       "      <td>-118.254593</td>\n",
       "      <td>19131</td>\n",
       "      <td>365</td>\n",
       "      <td>One Way</td>\n",
       "      <td>Annual Pass</td>\n",
       "      <td>electric</td>\n",
       "    </tr>\n",
       "    <tr>\n",
       "      <th>17340</th>\n",
       "      <td>125773553</td>\n",
       "      <td>4</td>\n",
       "      <td>7/19/2019 23:46</td>\n",
       "      <td>7/19/2019 23:50</td>\n",
       "      <td>3032</td>\n",
       "      <td>34.049889</td>\n",
       "      <td>-118.255882</td>\n",
       "      <td>3006</td>\n",
       "      <td>34.04554</td>\n",
       "      <td>-118.256668</td>\n",
       "      <td>5988</td>\n",
       "      <td>1</td>\n",
       "      <td>One Way</td>\n",
       "      <td>Walk-up</td>\n",
       "      <td>standard</td>\n",
       "    </tr>\n",
       "  </tbody>\n",
       "</table>\n",
       "</div>"
      ],
      "text/plain": [
       "         trip_id  duration       start_time         end_time  start_station  \\\n",
       "49305  127642188         2   8/21/2019 5:25   8/21/2019 5:27           3064   \n",
       "17340  125773553         4  7/19/2019 23:46  7/19/2019 23:50           3032   \n",
       "\n",
       "       start_lat   start_lon  end_station   end_lat     end_lon bike_id  \\\n",
       "49305  34.046810 -118.256981         3007  34.05048 -118.254593   19131   \n",
       "17340  34.049889 -118.255882         3006  34.04554 -118.256668    5988   \n",
       "\n",
       "       plan_duration trip_route_category passholder_type bike_type  \n",
       "49305            365             One Way     Annual Pass  electric  \n",
       "17340              1             One Way         Walk-up  standard  "
      ]
     },
     "execution_count": 5,
     "metadata": {},
     "output_type": "execute_result"
    }
   ],
   "source": [
    "dfq3.head(2)"
   ]
  },
  {
   "cell_type": "code",
   "execution_count": 6,
   "metadata": {},
   "outputs": [
    {
     "data": {
      "text/html": [
       "<div>\n",
       "<style scoped>\n",
       "    .dataframe tbody tr th:only-of-type {\n",
       "        vertical-align: middle;\n",
       "    }\n",
       "\n",
       "    .dataframe tbody tr th {\n",
       "        vertical-align: top;\n",
       "    }\n",
       "\n",
       "    .dataframe thead th {\n",
       "        text-align: right;\n",
       "    }\n",
       "</style>\n",
       "<table border=\"1\" class=\"dataframe\">\n",
       "  <thead>\n",
       "    <tr style=\"text-align: right;\">\n",
       "      <th></th>\n",
       "      <th>trip_id</th>\n",
       "      <th>duration</th>\n",
       "      <th>start_time</th>\n",
       "      <th>end_time</th>\n",
       "      <th>start_station</th>\n",
       "      <th>start_lat</th>\n",
       "      <th>start_lon</th>\n",
       "      <th>end_station</th>\n",
       "      <th>end_lat</th>\n",
       "      <th>end_lon</th>\n",
       "      <th>bike_id</th>\n",
       "      <th>plan_duration</th>\n",
       "      <th>trip_route_category</th>\n",
       "      <th>passholder_type</th>\n",
       "      <th>bike_type</th>\n",
       "    </tr>\n",
       "  </thead>\n",
       "  <tbody>\n",
       "    <tr>\n",
       "      <th>6832</th>\n",
       "      <td>130369347</td>\n",
       "      <td>10</td>\n",
       "      <td>2019-10-06 17:43:43</td>\n",
       "      <td>2019-10-06 17:53:15</td>\n",
       "      <td>3051</td>\n",
       "      <td>34.045422</td>\n",
       "      <td>-118.253517</td>\n",
       "      <td>3038</td>\n",
       "      <td>34.046822</td>\n",
       "      <td>-118.248352</td>\n",
       "      <td>16724</td>\n",
       "      <td>30</td>\n",
       "      <td>One Way</td>\n",
       "      <td>Monthly Pass</td>\n",
       "      <td>electric</td>\n",
       "    </tr>\n",
       "    <tr>\n",
       "      <th>65257</th>\n",
       "      <td>134115716</td>\n",
       "      <td>4</td>\n",
       "      <td>2019-12-15 19:01:36</td>\n",
       "      <td>2019-12-15 19:05:29</td>\n",
       "      <td>3074</td>\n",
       "      <td>34.044170</td>\n",
       "      <td>-118.261169</td>\n",
       "      <td>3005</td>\n",
       "      <td>34.048500</td>\n",
       "      <td>-118.258537</td>\n",
       "      <td>19895</td>\n",
       "      <td>30</td>\n",
       "      <td>One Way</td>\n",
       "      <td>Monthly Pass</td>\n",
       "      <td>electric</td>\n",
       "    </tr>\n",
       "  </tbody>\n",
       "</table>\n",
       "</div>"
      ],
      "text/plain": [
       "         trip_id  duration           start_time             end_time  \\\n",
       "6832   130369347        10  2019-10-06 17:43:43  2019-10-06 17:53:15   \n",
       "65257  134115716         4  2019-12-15 19:01:36  2019-12-15 19:05:29   \n",
       "\n",
       "       start_station  start_lat   start_lon  end_station    end_lat  \\\n",
       "6832            3051  34.045422 -118.253517         3038  34.046822   \n",
       "65257           3074  34.044170 -118.261169         3005  34.048500   \n",
       "\n",
       "          end_lon  bike_id  plan_duration trip_route_category passholder_type  \\\n",
       "6832  -118.248352    16724             30             One Way    Monthly Pass   \n",
       "65257 -118.258537    19895             30             One Way    Monthly Pass   \n",
       "\n",
       "      bike_type  \n",
       "6832   electric  \n",
       "65257  electric  "
      ]
     },
     "execution_count": 6,
     "metadata": {},
     "output_type": "execute_result"
    }
   ],
   "source": [
    "dfq4.head(2)"
   ]
  },
  {
   "cell_type": "markdown",
   "metadata": {},
   "source": [
    "Dari 4 data frame di atas dapat dilihat bahwa <b>format waktu</b> di dfq3 berbeda dengan format waktu di dataframe lainnya. Untuk menghindari masalah nantinya maka format waktu perlu diubah terlebih dahulu.<br>\n",
    "\n",
    "<b> Menyamakan format waktu dan memasukan datetime </b>"
   ]
  },
  {
   "cell_type": "code",
   "execution_count": 7,
   "metadata": {},
   "outputs": [],
   "source": [
    "dfq1['start_time'] = dfq1['start_time'].apply(lambda x: datetime.strptime(x, '%Y-%m-%d %H:%M:%S')) \n",
    "dfq2['start_time'] = dfq2['start_time'].apply(lambda x: datetime.strptime(x, '%Y-%m-%d %H:%M:%S')) \n",
    "dfq3['start_time'] = dfq3['start_time'].apply(lambda x: datetime.strptime(x, '%m/%d/%Y %H:%M')) \n",
    "dfq4['start_time'] = dfq4['start_time'].apply(lambda x: datetime.strptime(x, '%Y-%m-%d %H:%M:%S')) \n",
    "\n",
    "dfq1['end_time'] = dfq1['end_time'].apply(lambda x: datetime.strptime(x, '%Y-%m-%d %H:%M:%S')) \n",
    "dfq2['end_time'] = dfq2['end_time'].apply(lambda x: datetime.strptime(x, '%Y-%m-%d %H:%M:%S')) \n",
    "dfq3['end_time'] = dfq3['end_time'].apply(lambda x: datetime.strptime(x, '%m/%d/%Y %H:%M')) \n",
    "dfq4['end_time'] = dfq4['end_time'].apply(lambda x: datetime.strptime(x, '%Y-%m-%d %H:%M:%S')) \n",
    "\n",
    "dfq3['start_time'] = dfq3['start_time'].apply(lambda x: x.strftime('%Y-%m-%d %H:%M:%S'))\n",
    "dfq3['end_time'] = dfq3['end_time'].apply(lambda x: x.strftime('%Y-%m-%d %H:%M:%S'))\n",
    "dfq3['start_time'] = dfq3['start_time'].apply(lambda x: datetime.strptime(x, '%Y-%m-%d %H:%M:%S')) \n",
    "dfq3['end_time'] = dfq3['end_time'].apply(lambda x: datetime.strptime(x, '%Y-%m-%d %H:%M:%S'))\n"
   ]
  },
  {
   "cell_type": "markdown",
   "metadata": {},
   "source": [
    "<b>Menggabungkan data</b>"
   ]
  },
  {
   "cell_type": "code",
   "execution_count": 8,
   "metadata": {},
   "outputs": [],
   "source": [
    "df = pd.concat([dfq1, dfq2, dfq3, dfq4], axis = 0)"
   ]
  },
  {
   "cell_type": "markdown",
   "metadata": {},
   "source": [
    "## 1. Memeriksa dan Mengatasi Nilai Null"
   ]
  },
  {
   "cell_type": "code",
   "execution_count": 9,
   "metadata": {},
   "outputs": [
    {
     "data": {
      "text/plain": [
       "trip_id                   0\n",
       "duration                  0\n",
       "start_time                0\n",
       "end_time                  0\n",
       "start_station             0\n",
       "start_lat              1258\n",
       "start_lon              1258\n",
       "end_station               0\n",
       "end_lat                2770\n",
       "end_lon                2770\n",
       "bike_id                   0\n",
       "plan_duration             0\n",
       "trip_route_category       0\n",
       "passholder_type           0\n",
       "bike_type                 0\n",
       "dtype: int64"
      ]
     },
     "execution_count": 9,
     "metadata": {},
     "output_type": "execute_result"
    }
   ],
   "source": [
    "df.isna().sum()"
   ]
  },
  {
   "cell_type": "markdown",
   "metadata": {},
   "source": [
    "Terdapat nilai null pada titik koordinat Start Station dan End Station. Mengingat kedua data tersebut penting untuk pemetaan nantinya, maka nilai null tersebut perlu untuk dicari lebih lanjut. "
   ]
  },
  {
   "cell_type": "code",
   "execution_count": 10,
   "metadata": {},
   "outputs": [
    {
     "name": "stdout",
     "output_type": "stream",
     "text": [
      "{3000, 4285, 4286}\n",
      "{3000, 4285, 4286}\n"
     ]
    }
   ],
   "source": [
    "startstat = []\n",
    "for i in range(len(df[df['start_lat'].isnull()])):\n",
    "       startstat.append(df[df['start_lat'].isnull()].iloc[i]['start_station'])\n",
    "        \n",
    "endstat = []\n",
    "for i in range(len(df[df['end_lat'].isnull()])):\n",
    "       endstat.append(df[df['end_lat'].isnull()].iloc[i]['end_station'])\n",
    "        \n",
    "print (set(endstat))\n",
    "print (set(startstat))"
   ]
  },
  {
   "cell_type": "markdown",
   "metadata": {},
   "source": [
    "Diketahui bahwa longitude dan latititude stasiun yang tidak diketahui pada end dan start stasiun merupakan stasiun yang sama. Metro Bike Share menyediakan file csv untuk membantu mengidentifikasi lokasi stasiun lebih lanjut: "
   ]
  },
  {
   "cell_type": "code",
   "execution_count": 11,
   "metadata": {},
   "outputs": [
    {
     "name": "stdout",
     "output_type": "stream",
     "text": [
      "Virtual Station\n",
      "Metro Bike Share Free Bikes\n",
      "Metro Bike Share Out of Service Area Smart Bike\n"
     ]
    }
   ],
   "source": [
    "dfst = pd.read_csv('metro-bike-share-stations-2020-01-01.csv')\n",
    "\n",
    "print(dfst[dfst['Station_ID']==list(set(startstat))[0]]['Station_Name'].iloc[0])\n",
    "print(dfst[dfst['Station_ID']==list(set(startstat))[1]]['Station_Name'].iloc[0])\n",
    "print(dfst[dfst['Station_ID']==list(set(startstat))[2]]['Station_Name'].iloc[0])"
   ]
  },
  {
   "cell_type": "markdown",
   "metadata": {},
   "source": [
    "Pada website Metro Bike Share terdapat informasi bahwa \"Virtual Station is used by staff to check in or check out a bike remotely for a special event\". Dapat disimpulkan bahwa ketiga stasiun ini bukan merupakan stasiun regular sehingga lebih baik untuk drop rows. "
   ]
  },
  {
   "cell_type": "code",
   "execution_count": 12,
   "metadata": {},
   "outputs": [],
   "source": [
    "df.dropna(axis =0, inplace=True)"
   ]
  },
  {
   "cell_type": "markdown",
   "metadata": {},
   "source": [
    "## 2. Menambahkan Data dari Sumber Eksternal\n",
    "Pada bagian ini kita akan menambahkan data dari sumber eksternal untuk memperkaya informasi: \n",
    "1. Region Station (dari data Metro Bike Share)\n",
    "2. Temperatur dan Cuaca (dari API National Centers for Environmental Information)\n",
    "3. Karakteristik Station (Walk Score, Bike Score, Transit Score) (dari walkscore.com)"
   ]
  },
  {
   "cell_type": "markdown",
   "metadata": {},
   "source": [
    "#### 2.1 Menambahkan Region Stasiun"
   ]
  },
  {
   "cell_type": "markdown",
   "metadata": {},
   "source": [
    "Menambahkan Region Stasiun berdasarkan data yang disediakan Metro Bike Share"
   ]
  },
  {
   "cell_type": "markdown",
   "metadata": {},
   "source": [
    "Saat menjalankan algoritma di penambahan keterangan Region, diketahui bahwa terdapat 7 station id yang tidak terdapat di data yang disediakan oleh Metro Bike LA (di CSV maupun di Website). Mengingat hanya ada 20 trip yang berasal/berakhir di stasiun-stasiun tersebut maka diputuskan untuk drop row tersebut."
   ]
  },
  {
   "cell_type": "code",
   "execution_count": 13,
   "metadata": {},
   "outputs": [
    {
     "name": "stdout",
     "output_type": "stream",
     "text": [
      "jumlah trip di stasiun 4327: start:  1  end:  0\n",
      "jumlah trip di stasiun 4362: start:  0  end:  0\n",
      "jumlah trip di stasiun 4363: start:  6  end:  2\n",
      "jumlah trip di stasiun 4108: start:  4  end:  4\n",
      "jumlah trip di stasiun 4321: start:  0  end:  0\n",
      "jumlah trip di stasiun 4467: start:  0  end:  3\n",
      "jumlah trip di stasiun 4468: start:  0  end:  1\n"
     ]
    }
   ],
   "source": [
    "print('jumlah trip di stasiun 4327: start: ',len(df[df['start_station'] == 4327]), ' end: ', len(df[df['end_station'] == 4327]))\n",
    "df = df[df['start_station']!=4327]\n",
    "df = df[df['end_station']!=4327]\n",
    "\n",
    "print('jumlah trip di stasiun 4362: start: ',len(df[df['start_station'] == 4362]), ' end: ', len(df[df['end_station'] == 4362]))\n",
    "df = df[df['start_station']!=4362]\n",
    "df = df[df['end_station']!=4362]\n",
    "\n",
    "print('jumlah trip di stasiun 4363: start: ',len(df[df['start_station'] == 4363]), ' end: ', len(df[df['end_station'] == 4363]))\n",
    "df = df[df['start_station']!=4363]\n",
    "df = df[df['end_station']!=4363]\n",
    "\n",
    "print('jumlah trip di stasiun 4108: start: ',len(df[df['start_station'] == 4108]), ' end: ', len(df[df['end_station'] == 4108]))\n",
    "df = df[df['start_station']!=4108]\n",
    "df = df[df['end_station']!=4108]\n",
    "\n",
    "print('jumlah trip di stasiun 4321: start: ',len(df[df['start_station'] == 4321]), ' end: ', len(df[df['end_station'] == 4321]))\n",
    "df = df[df['start_station']!=4321]\n",
    "df = df[df['end_station']!=4321]\n",
    "\n",
    "print('jumlah trip di stasiun 4467: start: ',len(df[df['start_station'] == 4467]), ' end: ', len(df[df['end_station'] == 4467]))\n",
    "df = df[df['start_station']!=4467]\n",
    "df = df[df['end_station']!=4467]\n",
    "\n",
    "print('jumlah trip di stasiun 4468: start: ',len(df[df['start_station'] == 4468]), ' end: ', len(df[df['end_station'] == 4468]))\n",
    "df = df[df['start_station']!=4468]\n",
    "df = df[df['end_station']!=4468]"
   ]
  },
  {
   "cell_type": "code",
   "execution_count": 14,
   "metadata": {},
   "outputs": [],
   "source": [
    "df['reg_start'] = df['start_station'].apply(lambda x: dfst[dfst['Station_ID']==x]['Region '].iloc[0])\n",
    "df['reg_end'] = df['end_station'].apply(lambda x: dfst[dfst['Station_ID']==x]['Region '].iloc[0])"
   ]
  },
  {
   "cell_type": "code",
   "execution_count": 15,
   "metadata": {},
   "outputs": [],
   "source": [
    "df['time'] = df['start_time'].apply(lambda x: x.hour)"
   ]
  },
  {
   "cell_type": "markdown",
   "metadata": {},
   "source": [
    "#### 2.2 Menambahkan Cuaca \n",
    "\n",
    "Menambahkan temperatur dan hujan berdasarkan tanggal. Data didapatkan dari API yang disediakan oleh https://www.ncdc.noaa.gov/\n",
    "\n",
    "Data yg dihasilkan:\n",
    "- Temperatur : (1/10 C) -> C\n",
    "- Precipitation: (1/10 mm) -> Inch"
   ]
  },
  {
   "cell_type": "code",
   "execution_count": 16,
   "metadata": {},
   "outputs": [],
   "source": [
    "token = 'PmAArvbxiZiycuIFQMBIqUJauXgJhAEC'\n",
    "station_id = 'GHCND:USW00093134' # station Downtown Los Angeles\n",
    "baseurl = 'https://www.ncdc.noaa.gov/cdo-web/api/v2/data?'\n",
    "datasetid = 'GHCND'\n",
    "datatypeid0 = 'TMIN' ## minimum temperature\n",
    "datatypeid1 = 'TMAX' ## maximum temperature\n",
    "datatypeid2 = 'PRCP' ## percipitation\n",
    "url1 = baseurl+'datasetid='+datasetid+'&datatypeid='+datatypeid1+'&limit=1000&stationid='+station_id+'&startdate=2019-01-01&enddate=2019-12-31'\n",
    "url2 = baseurl+'datasetid='+datasetid+'&datatypeid='+datatypeid2+'&limit=1000&stationid='+station_id+'&startdate=2019-01-01&enddate=2019-12-31'\n",
    "url0 = baseurl+'datasetid='+datasetid+'&datatypeid='+datatypeid0+'&limit=1000&stationid='+station_id+'&startdate=2019-01-01&enddate=2019-12-31'\n",
    "headers={'token': token}"
   ]
  },
  {
   "cell_type": "code",
   "execution_count": 17,
   "metadata": {},
   "outputs": [],
   "source": [
    "data0 = requests.get(url0, headers={'token': token})\n",
    "data0 = data0.json()\n",
    "date0 = []\n",
    "tempmin = []\n",
    "for i in data0['results']:\n",
    "    tempmin.append(i['value']/10)\n",
    "    date0.append(i['date'])\n",
    "\n",
    "data1 = requests.get(url1, headers={'token': token})\n",
    "data1 = data1.json()\n",
    "data1\n",
    "date1 = []\n",
    "tempmax = []\n",
    "for i in data1['results']:\n",
    "    tempmax.append(i['value']/10)\n",
    "    date1.append(i['date'])\n",
    "    \n",
    "data2 = requests.get(url2, headers={'token': token})\n",
    "data2 = data2.json()\n",
    "data2\n",
    "pcp = []\n",
    "date2 = []\n",
    "for i in data2['results']:\n",
    "    pcp.append(round(i['value']/10/25.4, 2))\n",
    "    date2.append(i['date'])"
   ]
  },
  {
   "cell_type": "code",
   "execution_count": 18,
   "metadata": {},
   "outputs": [],
   "source": [
    "dfcuaca = pd.DataFrame()\n",
    "dfcuaca['date'] = date1\n",
    "dfcuaca['temp_max'] = tempmax\n",
    "dfcuaca['temp_min'] = tempmin\n",
    "dfcuaca['pcp'] = pcp\n",
    "dfcuaca['date'] = dfcuaca['date'].apply(lambda x: datetime.strptime(x, '%Y-%m-%dT%H:%M:%S'))\n",
    "dfcuaca['date'] = dfcuaca['date'].apply(lambda x: x.strftime('%Y-%m-%d %H:%M:%S'))\n",
    "dfcuaca['date'] = dfcuaca['date'].apply(lambda x: datetime.strptime(x, '%Y-%m-%d %H:%M:%S'))\n"
   ]
  },
  {
   "cell_type": "code",
   "execution_count": 19,
   "metadata": {},
   "outputs": [],
   "source": [
    "df['date'] = df['start_time'].apply(lambda x: x.date())"
   ]
  },
  {
   "cell_type": "code",
   "execution_count": 20,
   "metadata": {},
   "outputs": [
    {
     "name": "stderr",
     "output_type": "stream",
     "text": [
      "<ipython-input-20-48bbe40457f4>:1: FutureWarning: Comparing Series of datetimes with 'datetime.date'.  Currently, the\n",
      "'datetime.date' is coerced to a datetime. In the future pandas will\n",
      "not coerce, and 'the values will not compare equal to the\n",
      "'datetime.date'. To retain the current behavior, convert the\n",
      "'datetime.date' to a datetime with 'pd.Timestamp'.\n",
      "  df['tempmax'] = df['date'].apply(lambda x: dfcuaca[dfcuaca['date'] == x]['temp_max'].iloc[0])\n",
      "<ipython-input-20-48bbe40457f4>:2: FutureWarning: Comparing Series of datetimes with 'datetime.date'.  Currently, the\n",
      "'datetime.date' is coerced to a datetime. In the future pandas will\n",
      "not coerce, and 'the values will not compare equal to the\n",
      "'datetime.date'. To retain the current behavior, convert the\n",
      "'datetime.date' to a datetime with 'pd.Timestamp'.\n",
      "  df['tempmin'] = df['date'].apply(lambda x: dfcuaca[dfcuaca['date'] == x]['temp_min'].iloc[0])\n",
      "<ipython-input-20-48bbe40457f4>:3: FutureWarning: Comparing Series of datetimes with 'datetime.date'.  Currently, the\n",
      "'datetime.date' is coerced to a datetime. In the future pandas will\n",
      "not coerce, and 'the values will not compare equal to the\n",
      "'datetime.date'. To retain the current behavior, convert the\n",
      "'datetime.date' to a datetime with 'pd.Timestamp'.\n",
      "  df['pcp'] = df['date'].apply(lambda x: dfcuaca[dfcuaca['date'] == x]['pcp'].iloc[0])\n"
     ]
    }
   ],
   "source": [
    "df['tempmax'] = df['date'].apply(lambda x: dfcuaca[dfcuaca['date'] == x]['temp_max'].iloc[0])\n",
    "df['tempmin'] = df['date'].apply(lambda x: dfcuaca[dfcuaca['date'] == x]['temp_min'].iloc[0])\n",
    "df['pcp'] = df['date'].apply(lambda x: dfcuaca[dfcuaca['date'] == x]['pcp'].iloc[0])"
   ]
  },
  {
   "cell_type": "markdown",
   "metadata": {},
   "source": [
    "#### 2.3 Menambahkan Karakteristik Stasiun"
   ]
  },
  {
   "cell_type": "markdown",
   "metadata": {},
   "source": [
    "Untuk memperkaya analisis, perlu ditambahkan karakteristik dari setiap-setiap stasiun"
   ]
  },
  {
   "cell_type": "code",
   "execution_count": 21,
   "metadata": {},
   "outputs": [
    {
     "data": {
      "text/plain": [
       "226"
      ]
     },
     "execution_count": 21,
     "metadata": {},
     "output_type": "execute_result"
    }
   ],
   "source": [
    "uniquestat = list (df['start_station'].unique()) + list(df['end_station'].unique())\n",
    "uniquestat = list(set(uniquestat))\n",
    "len(uniquestat)"
   ]
  },
  {
   "cell_type": "markdown",
   "metadata": {},
   "source": [
    "Pada data LA Metro Bike Share terdapat 275 stasiun, namun pada datasets yang digunakan hanya terdapat 226 stasiun. Hal ini disebabkan terdapat beberapa stasiun yang sudah tidak aktif. "
   ]
  },
  {
   "cell_type": "markdown",
   "metadata": {},
   "source": [
    "<b> 2.3.1 Membuat DataFrame Stasiun </b><br>\n",
    "\n",
    "Membuat Dataframe tentang informasi per stasiun untuk memudahkan memasukan data selanjutnya"
   ]
  },
  {
   "cell_type": "code",
   "execution_count": 22,
   "metadata": {},
   "outputs": [],
   "source": [
    "statname = []\n",
    "statlat = []\n",
    "statlong = []\n",
    "statid=[]\n",
    "statreg = []\n",
    "\n",
    "for i in list (df['start_station'].unique()): \n",
    "    statid.append(i)\n",
    "    statname.append(dfst[dfst['Station_ID']==i]['Station_Name'].iloc[0])\n",
    "    statlat.append(df[df['start_station']==i]['start_lat'].iloc[0])\n",
    "    statlong.append(df[df['start_station']==i]['start_lon'].iloc[0])\n",
    "    statreg.append(df[df['start_station']==i]['reg_start'].iloc[0])\n",
    "    \n",
    "for i in list (df['end_station'].unique()): \n",
    "    statid.append(i)\n",
    "    statname.append(dfst[dfst['Station_ID']==i]['Station_Name'].iloc[0])\n",
    "    statlat.append(df[df['end_station']==i]['end_lat'].iloc[0])\n",
    "    statlong.append(df[df['end_station']==i]['end_lon'].iloc[0])\n",
    "    statreg.append(df[df['end_station']==i]['reg_end'].iloc[0])\n",
    "\n",
    "dfstat = pd.DataFrame()\n",
    "dfstat['statid'] = statid\n",
    "dfstat['name'] =statname\n",
    "dfstat['statlat'] = statlat\n",
    "dfstat['statlong'] = statlong\n",
    "dfstat['statreg'] = statreg\n",
    "dfstat = dfstat.drop_duplicates()"
   ]
  },
  {
   "cell_type": "markdown",
   "metadata": {},
   "source": [
    "<b>2.3.2 Menambahkan Walking Score, Biking Score, Transit Score </b> \n",
    "\n",
    "Sumber data: https://www.walkscore.com/<br>\n",
    "Tujuan: Menggambarkan kondisi di sekitar stasiun yang berpotensi mempengaruhi penggunaan sepeda.<br><br>\n",
    "Variabel yang ditambahkan: \n",
    "1. Walking Score: Measures walkability on a scale from 0 - 100 based on walking routes to destinations such as grocery stores, schools, parks, restaurants, and retail.\n",
    "2. Transit Score: Measures transit accessibility on a scale from 0 - 100. Calculates distance to closest stop on each route, analyzes route frequency and type.\n",
    "3. Measures bike accessibility on a scale from 0 - 100 based on bike infrastructure, topography, destinations and road connectivity.\n"
   ]
  },
  {
   "cell_type": "code",
   "execution_count": 23,
   "metadata": {},
   "outputs": [
    {
     "data": {
      "text/html": [
       "<div>\n",
       "<style scoped>\n",
       "    .dataframe tbody tr th:only-of-type {\n",
       "        vertical-align: middle;\n",
       "    }\n",
       "\n",
       "    .dataframe tbody tr th {\n",
       "        vertical-align: top;\n",
       "    }\n",
       "\n",
       "    .dataframe thead th {\n",
       "        text-align: right;\n",
       "    }\n",
       "</style>\n",
       "<table border=\"1\" class=\"dataframe\">\n",
       "  <thead>\n",
       "    <tr style=\"text-align: right;\">\n",
       "      <th></th>\n",
       "      <th>statid</th>\n",
       "      <th>Walk</th>\n",
       "      <th>Transit</th>\n",
       "      <th>Bike</th>\n",
       "    </tr>\n",
       "  </thead>\n",
       "  <tbody>\n",
       "    <tr>\n",
       "      <th>0</th>\n",
       "      <td>3030</td>\n",
       "      <td>93</td>\n",
       "      <td>100.0</td>\n",
       "      <td>74</td>\n",
       "    </tr>\n",
       "    <tr>\n",
       "      <th>1</th>\n",
       "      <td>3066</td>\n",
       "      <td>96</td>\n",
       "      <td>87.0</td>\n",
       "      <td>56</td>\n",
       "    </tr>\n",
       "    <tr>\n",
       "      <th>2</th>\n",
       "      <td>3082</td>\n",
       "      <td>93</td>\n",
       "      <td>96.0</td>\n",
       "      <td>73</td>\n",
       "    </tr>\n",
       "  </tbody>\n",
       "</table>\n",
       "</div>"
      ],
      "text/plain": [
       "   statid  Walk  Transit  Bike\n",
       "0    3030    93    100.0    74\n",
       "1    3066    96     87.0    56\n",
       "2    3082    93     96.0    73"
      ]
     },
     "execution_count": 23,
     "metadata": {},
     "output_type": "execute_result"
    }
   ],
   "source": [
    "dfscore = pd.read_excel('StationScore.xlsx')\n",
    "dfscore.head(3)"
   ]
  },
  {
   "cell_type": "code",
   "execution_count": 24,
   "metadata": {},
   "outputs": [],
   "source": [
    "dfstat['walk_score'] =  dfstat['statid'].apply(lambda x: dfscore[dfscore['statid']==x]['Walk'].iloc[0])  \n",
    "dfstat['transit_score'] =  dfstat['statid'].apply(lambda x: dfscore[dfscore['statid']==x]['Transit'].iloc[0])   \n",
    "dfstat['bike_score'] =  dfstat['statid'].apply(lambda x: dfscore[dfscore['statid']==x]['Bike'].iloc[0])   "
   ]
  },
  {
   "cell_type": "markdown",
   "metadata": {},
   "source": [
    "<b>2.3.3 Memeriksa Nilai Null </b>"
   ]
  },
  {
   "cell_type": "code",
   "execution_count": 25,
   "metadata": {},
   "outputs": [
    {
     "data": {
      "text/plain": [
       "statid           0\n",
       "name             0\n",
       "statlat          0\n",
       "statlong         0\n",
       "statreg          0\n",
       "walk_score       0\n",
       "transit_score    6\n",
       "bike_score       0\n",
       "dtype: int64"
      ]
     },
     "execution_count": 25,
     "metadata": {},
     "output_type": "execute_result"
    }
   ],
   "source": [
    "dfstat.isna().sum()"
   ]
  },
  {
   "cell_type": "markdown",
   "metadata": {},
   "source": [
    "Terdapat nilai null untuk 6 stasiun pada transit score:"
   ]
  },
  {
   "cell_type": "code",
   "execution_count": 26,
   "metadata": {},
   "outputs": [
    {
     "data": {
      "text/html": [
       "<div>\n",
       "<style scoped>\n",
       "    .dataframe tbody tr th:only-of-type {\n",
       "        vertical-align: middle;\n",
       "    }\n",
       "\n",
       "    .dataframe tbody tr th {\n",
       "        vertical-align: top;\n",
       "    }\n",
       "\n",
       "    .dataframe thead th {\n",
       "        text-align: right;\n",
       "    }\n",
       "</style>\n",
       "<table border=\"1\" class=\"dataframe\">\n",
       "  <thead>\n",
       "    <tr style=\"text-align: right;\">\n",
       "      <th></th>\n",
       "      <th>statid</th>\n",
       "      <th>name</th>\n",
       "      <th>statlat</th>\n",
       "      <th>statlong</th>\n",
       "      <th>statreg</th>\n",
       "      <th>walk_score</th>\n",
       "      <th>transit_score</th>\n",
       "      <th>bike_score</th>\n",
       "    </tr>\n",
       "  </thead>\n",
       "  <tbody>\n",
       "    <tr>\n",
       "      <th>111</th>\n",
       "      <td>4341</td>\n",
       "      <td>7th &amp; Westminster</td>\n",
       "      <td>33.995300</td>\n",
       "      <td>-118.464844</td>\n",
       "      <td>Westside</td>\n",
       "      <td>95</td>\n",
       "      <td>NaN</td>\n",
       "      <td>96</td>\n",
       "    </tr>\n",
       "    <tr>\n",
       "      <th>124</th>\n",
       "      <td>4342</td>\n",
       "      <td>Abbot Kinney &amp; Cadiz</td>\n",
       "      <td>33.991161</td>\n",
       "      <td>-118.468292</td>\n",
       "      <td>Westside</td>\n",
       "      <td>94</td>\n",
       "      <td>NaN</td>\n",
       "      <td>99</td>\n",
       "    </tr>\n",
       "    <tr>\n",
       "      <th>137</th>\n",
       "      <td>4380</td>\n",
       "      <td>Centinela &amp; Lucile</td>\n",
       "      <td>33.982922</td>\n",
       "      <td>-118.410927</td>\n",
       "      <td>Westside</td>\n",
       "      <td>60</td>\n",
       "      <td>NaN</td>\n",
       "      <td>82</td>\n",
       "    </tr>\n",
       "    <tr>\n",
       "      <th>173</th>\n",
       "      <td>4420</td>\n",
       "      <td>North Hollywood Station</td>\n",
       "      <td>34.168629</td>\n",
       "      <td>-118.377068</td>\n",
       "      <td>North Hollywood</td>\n",
       "      <td>91</td>\n",
       "      <td>NaN</td>\n",
       "      <td>73</td>\n",
       "    </tr>\n",
       "    <tr>\n",
       "      <th>181</th>\n",
       "      <td>4419</td>\n",
       "      <td>Magnolia &amp; Clybourn</td>\n",
       "      <td>34.165218</td>\n",
       "      <td>-118.355148</td>\n",
       "      <td>North Hollywood</td>\n",
       "      <td>71</td>\n",
       "      <td>NaN</td>\n",
       "      <td>71</td>\n",
       "    </tr>\n",
       "    <tr>\n",
       "      <th>190</th>\n",
       "      <td>4432</td>\n",
       "      <td>Public Bike Rack: Universal City/Studio City R...</td>\n",
       "      <td>34.139568</td>\n",
       "      <td>-118.362251</td>\n",
       "      <td>North Hollywood</td>\n",
       "      <td>53</td>\n",
       "      <td>NaN</td>\n",
       "      <td>24</td>\n",
       "    </tr>\n",
       "  </tbody>\n",
       "</table>\n",
       "</div>"
      ],
      "text/plain": [
       "     statid                                               name    statlat  \\\n",
       "111    4341                                  7th & Westminster  33.995300   \n",
       "124    4342                               Abbot Kinney & Cadiz  33.991161   \n",
       "137    4380                                 Centinela & Lucile  33.982922   \n",
       "173    4420                            North Hollywood Station  34.168629   \n",
       "181    4419                                Magnolia & Clybourn  34.165218   \n",
       "190    4432  Public Bike Rack: Universal City/Studio City R...  34.139568   \n",
       "\n",
       "       statlong          statreg  walk_score  transit_score  bike_score  \n",
       "111 -118.464844         Westside          95            NaN          96  \n",
       "124 -118.468292         Westside          94            NaN          99  \n",
       "137 -118.410927         Westside          60            NaN          82  \n",
       "173 -118.377068  North Hollywood          91            NaN          73  \n",
       "181 -118.355148  North Hollywood          71            NaN          71  \n",
       "190 -118.362251  North Hollywood          53            NaN          24  "
      ]
     },
     "execution_count": 26,
     "metadata": {},
     "output_type": "execute_result"
    }
   ],
   "source": [
    "dfstat[dfstat['transit_score'].isnull()]"
   ]
  },
  {
   "cell_type": "markdown",
   "metadata": {},
   "source": [
    "Nilai null hanya terdapat pada stasiun di region Westside dan North Hollywood"
   ]
  },
  {
   "cell_type": "code",
   "execution_count": 27,
   "metadata": {},
   "outputs": [
    {
     "name": "stderr",
     "output_type": "stream",
     "text": [
      "c:\\users\\user1\\appdata\\local\\programs\\python\\python38-32\\lib\\site-packages\\pandas\\core\\indexing.py:205: SettingWithCopyWarning: \n",
      "A value is trying to be set on a copy of a slice from a DataFrame\n",
      "\n",
      "See the caveats in the documentation: http://pandas.pydata.org/pandas-docs/stable/user_guide/indexing.html#returning-a-view-versus-a-copy\n",
      "  self._setitem_with_indexer(indexer, value)\n"
     ]
    }
   ],
   "source": [
    "# for i in range(len(dfstat[dfstat['transit_score'].isnull()]))\n",
    "\n",
    "for i in dfstat[dfstat['transit_score'].isnull()].index:\n",
    "    if dfstat.loc[i]['statreg']=='Westside':\n",
    "        dfstat['transit_score'].loc[i] = dfstat[dfstat['statreg']=='Westside']['transit_score'].mean()\n",
    "    elif dfstat.loc[i]['statreg']=='North Hollywood':\n",
    "        dfstat['transit_score'].loc[i] = dfstat[dfstat['statreg']=='North Hollywood']['transit_score'].mean()"
   ]
  },
  {
   "cell_type": "code",
   "execution_count": 28,
   "metadata": {},
   "outputs": [
    {
     "data": {
      "text/plain": [
       "statid           0\n",
       "name             0\n",
       "statlat          0\n",
       "statlong         0\n",
       "statreg          0\n",
       "walk_score       0\n",
       "transit_score    0\n",
       "bike_score       0\n",
       "dtype: int64"
      ]
     },
     "execution_count": 28,
     "metadata": {},
     "output_type": "execute_result"
    }
   ],
   "source": [
    "dfstat.isna().sum()"
   ]
  },
  {
   "cell_type": "markdown",
   "metadata": {},
   "source": [
    "## 3. Menambahkan Variabel Turunan"
   ]
  },
  {
   "cell_type": "markdown",
   "metadata": {},
   "source": [
    "#### 3.1 Menambahkan variable 'dist_center' untuk setiap stasiun</b><br>\n"
   ]
  },
  {
   "cell_type": "code",
   "execution_count": 29,
   "metadata": {},
   "outputs": [
    {
     "data": {
      "text/plain": [
       "array(['DTLA', 'Port of LA', 'Westside', 'North Hollywood'], dtype=object)"
      ]
     },
     "execution_count": 29,
     "metadata": {},
     "output_type": "execute_result"
    }
   ],
   "source": [
    "dfstat['statreg'].unique()"
   ]
  },
  {
   "cell_type": "code",
   "execution_count": 30,
   "metadata": {},
   "outputs": [
    {
     "data": {
      "image/png": "[encoded data removed]",
      "text/plain": [
       "<Figure size 432x504 with 1 Axes>"
      ]
     },
     "metadata": {
      "needs_background": "light"
     },
     "output_type": "display_data"
    }
   ],
   "source": [
    "plt.figure(figsize = (6,7))\n",
    "plt.scatter(dfstat[dfstat['statreg']=='DTLA']['statlong'], dfstat[dfstat['statreg']=='DTLA']['statlat'],alpha=0.4)\n",
    "plt.scatter(dfstat[dfstat['statreg']=='Port of LA']['statlong'], dfstat[dfstat['statreg']=='Port of LA']['statlat'],alpha=0.4)\n",
    "plt.scatter(dfstat[dfstat['statreg']=='Westside']['statlong'], dfstat[dfstat['statreg']=='Westside']['statlat'],alpha=0.4)\n",
    "plt.scatter(dfstat[dfstat['statreg']=='North Hollywood']['statlong'], dfstat[dfstat['statreg']=='North Hollywood']['statlat'],alpha=0.4)\n",
    "\n",
    "plt.annotate('Port of LA', (dfstat[dfstat['statreg']=='Port of LA']['statlong'].mean(), dfstat[dfstat['statreg']=='Port of LA']['statlat'].mean()))\n",
    "plt.annotate('Downtown Los Angeles', (dfstat[dfstat['statreg']=='DTLA']['statlong'].mean()-0.06, dfstat[dfstat['statreg']=='DTLA']['statlat'].mean()))\n",
    "plt.annotate('Westside', (dfstat[dfstat['statreg']=='Westside']['statlong'].mean(), dfstat[dfstat['statreg']=='Westside']['statlat'].mean()))\n",
    "plt.annotate('North Hollywood', (dfstat[dfstat['statreg']=='North Hollywood']['statlong'].mean(), dfstat[dfstat['statreg']=='North Hollywood']['statlat'].mean()))\n",
    "plt.xlabel('Longtidude')\n",
    "plt.ylabel('Latitude')\n",
    "plt.grid(True)"
   ]
  },
  {
   "cell_type": "markdown",
   "metadata": {},
   "source": [
    "Dari scatter plot di atas dapat dilihat bahwa stasiun peminjaman sepeda di masing-masing regional membentuk suatu cluster."
   ]
  },
  {
   "cell_type": "code",
   "execution_count": 31,
   "metadata": {},
   "outputs": [
    {
     "name": "stdout",
     "output_type": "stream",
     "text": [
      "Dari jumlah total  76489  perjalanan, hanya terdapat  23  perjalanan yang lintas region ( 0.03 %)\n"
     ]
    }
   ],
   "source": [
    "print ('Dari jumlah total ', len(df), ' perjalanan, hanya terdapat ', len(df[df['reg_start']!=df['reg_end']]), ' perjalanan yang lintas region (', round(len(df[df['reg_start']!=df['reg_end']])/len(df)*100, 2), '%)')"
   ]
  },
  {
   "cell_type": "markdown",
   "metadata": {},
   "source": [
    "Berdasarkan informasi di atas kita dapat menyimpulkan bahwa sebagian besar perjalanan berada di dalam region. Untuk memberikan gambaran letak stasiun secara spasial terhadap region tersebut dan terhadap sebaran stasiun di dalam region tersebut, kita dapat membuat suatu variabel yang menggambarkan jarak stasiun terhadap 'pusat' stasiun di region tersebut (berdasrkan letak, bukan network).\n",
    "\n",
    "Distance ke center dihitung dengan pitagoras biasa -> tidak menggambarkan jarak real di atas bumi, hanya sebagai pengukuran dibandingkan titik lainnya."
   ]
  },
  {
   "cell_type": "code",
   "execution_count": 32,
   "metadata": {},
   "outputs": [],
   "source": [
    "center_pola_lon = dfstat[dfstat['statreg']=='Port of LA']['statlong'].mean()\n",
    "center_pola_lat = dfstat[dfstat['statreg']=='Port of LA']['statlat'].mean()\n",
    "center_dtla_lon = dfstat[dfstat['statreg']=='DTLA']['statlong'].mean()\n",
    "center_dtla_lat = dfstat[dfstat['statreg']=='DTLA']['statlat'].mean()\n",
    "center_west_lon = dfstat[dfstat['statreg']=='Westside']['statlong'].mean()\n",
    "center_west_lat = dfstat[dfstat['statreg']=='Westside']['statlat'].mean()\n",
    "center_noh_lon = dfstat[dfstat['statreg']=='North Hollywood']['statlong'].mean()\n",
    "center_noh_lat = dfstat[dfstat['statreg']=='North Hollywood']['statlat'].mean()"
   ]
  },
  {
   "cell_type": "code",
   "execution_count": 33,
   "metadata": {},
   "outputs": [],
   "source": [
    "dist_c = []\n",
    "for i in range(len(dfstat)): \n",
    "    if dfstat['statreg'].iloc[i] == 'Port of LA':\n",
    "        dist_c.append(round(np.sqrt(((dfstat.statlong.iloc[i] - center_pola_lon)**2) + ((dfstat.statlat.iloc[i] - center_pola_lat)**2)), 4))\n",
    "    elif dfstat['statreg'].iloc[i] == 'DTLA':\n",
    "        dist_c.append(round(np.sqrt(((dfstat.statlong.iloc[i] - center_dtla_lon)**2) + ((dfstat.statlat.iloc[i] - center_dtla_lat)**2)), 4))\n",
    "    elif dfstat['statreg'].iloc[i] == 'Westside':\n",
    "        dist_c.append(round(np.sqrt(((dfstat.statlong.iloc[i] - center_west_lon)**2) + ((dfstat.statlat.iloc[i] - center_west_lat)**2)), 4))\n",
    "    elif dfstat['statreg'].iloc[i] == 'North Hollywood':\n",
    "        dist_c.append(round(np.sqrt(((dfstat.statlong.iloc[i] - center_noh_lon)**2) + ((dfstat.statlat.iloc[i] - center_noh_lat)**2)), 4))\n",
    "        \n",
    "dfstat['dist_creg'] = dist_c"
   ]
  },
  {
   "cell_type": "code",
   "execution_count": 34,
   "metadata": {},
   "outputs": [],
   "source": [
    "dfcenter = pd.DataFrame([\n",
    "    {\"region\": 'DTLA',\n",
    "    \"lat\":center_dtla_lat,\n",
    "    \"long\": center_dtla_lon},\n",
    "    {\"region\": 'Port of LA',\n",
    "    \"lat\":center_pola_lat,\n",
    "    \"long\": center_pola_lon},\n",
    "    {\"region\": 'Westside',\n",
    "    \"lat\":center_west_lat,\n",
    "    \"long\": center_west_lon},\n",
    "    {\"region\": 'North Hollywood',\n",
    "    \"lat\":center_noh_lat,\n",
    "    \"long\": center_noh_lon}])\n",
    "\n",
    "dfcenter.to_csv('dfcenter.csv')"
   ]
  },
  {
   "cell_type": "markdown",
   "metadata": {},
   "source": [
    "#### 3.2 Membedakan Weekend dan Weekday\n",
    "\n",
    "Dengan asumsi bahwa terdapat perbedaan pola pergerakan masyarakat antara weekend dan weekday, maka data waktu dipisahkan berdasarkan weekend dan weekday:"
   ]
  },
  {
   "cell_type": "code",
   "execution_count": 35,
   "metadata": {},
   "outputs": [],
   "source": [
    "df['date'] = df['start_time'].apply(lambda x: x.date())\n",
    "\n",
    "def weekend(x):\n",
    "    if x.weekday() == 5 or x.weekday() == 6:\n",
    "        return 1\n",
    "    else:\n",
    "        return 0\n",
    "\n",
    "df['weekend'] = df['date'].apply(weekend)"
   ]
  },
  {
   "cell_type": "markdown",
   "metadata": {},
   "source": [
    "#### 3.3 Menambahkan Feature Jam"
   ]
  },
  {
   "cell_type": "code",
   "execution_count": 36,
   "metadata": {},
   "outputs": [],
   "source": [
    "df['hour'] = df['start_time'].apply(lambda x: x.hour)"
   ]
  },
  {
   "cell_type": "markdown",
   "metadata": {},
   "source": [
    "#### 3.4 Membagi Temperatur Berdasarkan Range"
   ]
  },
  {
   "cell_type": "markdown",
   "metadata": {},
   "source": [
    "Untuk mempermudah perhitungan, akan dibuat variabel baru untuk mengklasifikasikan temperatur rata-rata"
   ]
  },
  {
   "cell_type": "code",
   "execution_count": 37,
   "metadata": {},
   "outputs": [
    {
     "data": {
      "text/plain": [
       "count    76489.000000\n",
       "mean        19.195743\n",
       "std          4.387156\n",
       "min          9.700000\n",
       "25%         16.150000\n",
       "50%         19.450000\n",
       "75%         23.050000\n",
       "max         28.900000\n",
       "Name: temp_avg, dtype: float64"
      ]
     },
     "execution_count": 37,
     "metadata": {},
     "output_type": "execute_result"
    }
   ],
   "source": [
    "df['temp_avg'] = (df['tempmax'] + df['tempmin'])/2\n",
    "df['temp_avg'].describe()"
   ]
  },
  {
   "cell_type": "code",
   "execution_count": 38,
   "metadata": {},
   "outputs": [],
   "source": [
    "def temp(x):\n",
    "    if x <= (df['temp_avg'].mean() - df['temp_avg'].std()):\n",
    "        return 'cool'\n",
    "    elif x > (df['temp_avg'].mean() - df['temp_avg'].std()) and x <= (df['temp_avg'].mean() + df['temp_avg'].std()):\n",
    "        return 'regular'\n",
    "    elif x > (df['temp_avg'].mean() + df['temp_avg'].std()):\n",
    "        return 'warm'\n",
    "    \n",
    "df['temp_class'] = df['temp_avg'].apply(temp) "
   ]
  },
  {
   "cell_type": "code",
   "execution_count": 39,
   "metadata": {},
   "outputs": [],
   "source": [
    "encodertemp = OrdinalEncoder(categories=[['cool', 'regular', 'warm']])\n",
    "\n",
    "df['temp_class'] = encodertemp.fit_transform(df['temp_class'].values.reshape(-1, 1))"
   ]
  },
  {
   "cell_type": "markdown",
   "metadata": {},
   "source": [
    "#### 3.5 Menandakan Hari Hujan"
   ]
  },
  {
   "cell_type": "markdown",
   "metadata": {},
   "source": [
    "Trip dikelompokan berdasarkan Precipitation hari itu, apabila precipitation >=1 maka disimpulkan pada hari tersebut terjadi hujan."
   ]
  },
  {
   "cell_type": "code",
   "execution_count": 40,
   "metadata": {},
   "outputs": [],
   "source": [
    "def rain (x):\n",
    "    if x >= 1:\n",
    "        return 1\n",
    "    else:\n",
    "        return 0\n",
    "\n",
    "df['rain'] = df['pcp'].apply(rain)"
   ]
  },
  {
   "cell_type": "markdown",
   "metadata": {},
   "source": [
    "### 4. Feature Exploration"
   ]
  },
  {
   "cell_type": "markdown",
   "metadata": {},
   "source": [
    "Pada bagian ini akan dilakukan:\n",
    "1. Gambaran (visualisasi) sederhana untuk menambah pengertian terhadap data yang ada\n",
    "2. Mengalisis distribusi  data\n",
    "3. Encoding data categorical/ordinal untuk memudahkan modelling"
   ]
  },
  {
   "cell_type": "code",
   "execution_count": 41,
   "metadata": {},
   "outputs": [
    {
     "data": {
      "text/html": [
       "<div>\n",
       "<style scoped>\n",
       "    .dataframe tbody tr th:only-of-type {\n",
       "        vertical-align: middle;\n",
       "    }\n",
       "\n",
       "    .dataframe tbody tr th {\n",
       "        vertical-align: top;\n",
       "    }\n",
       "\n",
       "    .dataframe thead th {\n",
       "        text-align: right;\n",
       "    }\n",
       "</style>\n",
       "<table border=\"1\" class=\"dataframe\">\n",
       "  <thead>\n",
       "    <tr style=\"text-align: right;\">\n",
       "      <th></th>\n",
       "      <th>trip_id</th>\n",
       "      <th>duration</th>\n",
       "      <th>start_station</th>\n",
       "      <th>start_lat</th>\n",
       "      <th>start_lon</th>\n",
       "      <th>end_station</th>\n",
       "      <th>end_lat</th>\n",
       "      <th>end_lon</th>\n",
       "      <th>plan_duration</th>\n",
       "      <th>time</th>\n",
       "      <th>tempmax</th>\n",
       "      <th>tempmin</th>\n",
       "      <th>pcp</th>\n",
       "      <th>weekend</th>\n",
       "      <th>hour</th>\n",
       "      <th>temp_avg</th>\n",
       "      <th>temp_class</th>\n",
       "      <th>rain</th>\n",
       "    </tr>\n",
       "  </thead>\n",
       "  <tbody>\n",
       "    <tr>\n",
       "      <th>count</th>\n",
       "      <td>7.648900e+04</td>\n",
       "      <td>76489.000000</td>\n",
       "      <td>76489.000000</td>\n",
       "      <td>76489.000000</td>\n",
       "      <td>76489.000000</td>\n",
       "      <td>76489.000000</td>\n",
       "      <td>76489.000000</td>\n",
       "      <td>76489.000000</td>\n",
       "      <td>76489.000000</td>\n",
       "      <td>76489.000000</td>\n",
       "      <td>76489.000000</td>\n",
       "      <td>76489.000000</td>\n",
       "      <td>76489.000000</td>\n",
       "      <td>76489.000000</td>\n",
       "      <td>76489.000000</td>\n",
       "      <td>76489.000000</td>\n",
       "      <td>76489.000000</td>\n",
       "      <td>76489.000000</td>\n",
       "    </tr>\n",
       "    <tr>\n",
       "      <th>mean</th>\n",
       "      <td>1.242725e+08</td>\n",
       "      <td>26.725372</td>\n",
       "      <td>3380.542300</td>\n",
       "      <td>34.036530</td>\n",
       "      <td>-118.280747</td>\n",
       "      <td>3381.175947</td>\n",
       "      <td>34.036244</td>\n",
       "      <td>-118.280905</td>\n",
       "      <td>56.930866</td>\n",
       "      <td>13.980115</td>\n",
       "      <td>24.099272</td>\n",
       "      <td>14.292215</td>\n",
       "      <td>0.034021</td>\n",
       "      <td>0.245133</td>\n",
       "      <td>13.980115</td>\n",
       "      <td>19.195743</td>\n",
       "      <td>0.998941</td>\n",
       "      <td>0.008354</td>\n",
       "    </tr>\n",
       "    <tr>\n",
       "      <th>std</th>\n",
       "      <td>6.492901e+06</td>\n",
       "      <td>92.686682</td>\n",
       "      <td>565.654642</td>\n",
       "      <td>0.050842</td>\n",
       "      <td>0.069150</td>\n",
       "      <td>565.967701</td>\n",
       "      <td>0.050797</td>\n",
       "      <td>0.069819</td>\n",
       "      <td>106.739329</td>\n",
       "      <td>4.749323</td>\n",
       "      <td>5.210867</td>\n",
       "      <td>4.129163</td>\n",
       "      <td>0.180211</td>\n",
       "      <td>0.430169</td>\n",
       "      <td>4.749323</td>\n",
       "      <td>4.387156</td>\n",
       "      <td>0.616266</td>\n",
       "      <td>0.091019</td>\n",
       "    </tr>\n",
       "    <tr>\n",
       "      <th>min</th>\n",
       "      <td>1.125377e+08</td>\n",
       "      <td>1.000000</td>\n",
       "      <td>3005.000000</td>\n",
       "      <td>33.710979</td>\n",
       "      <td>-118.495422</td>\n",
       "      <td>3005.000000</td>\n",
       "      <td>33.710979</td>\n",
       "      <td>-118.495422</td>\n",
       "      <td>1.000000</td>\n",
       "      <td>0.000000</td>\n",
       "      <td>11.100000</td>\n",
       "      <td>3.300000</td>\n",
       "      <td>0.000000</td>\n",
       "      <td>0.000000</td>\n",
       "      <td>0.000000</td>\n",
       "      <td>9.700000</td>\n",
       "      <td>0.000000</td>\n",
       "      <td>0.000000</td>\n",
       "    </tr>\n",
       "    <tr>\n",
       "      <th>25%</th>\n",
       "      <td>1.184701e+08</td>\n",
       "      <td>6.000000</td>\n",
       "      <td>3027.000000</td>\n",
       "      <td>34.039871</td>\n",
       "      <td>-118.270813</td>\n",
       "      <td>3027.000000</td>\n",
       "      <td>34.039219</td>\n",
       "      <td>-118.270813</td>\n",
       "      <td>1.000000</td>\n",
       "      <td>11.000000</td>\n",
       "      <td>20.000000</td>\n",
       "      <td>11.700000</td>\n",
       "      <td>0.000000</td>\n",
       "      <td>0.000000</td>\n",
       "      <td>11.000000</td>\n",
       "      <td>16.150000</td>\n",
       "      <td>1.000000</td>\n",
       "      <td>0.000000</td>\n",
       "    </tr>\n",
       "    <tr>\n",
       "      <th>50%</th>\n",
       "      <td>1.245931e+08</td>\n",
       "      <td>11.000000</td>\n",
       "      <td>3049.000000</td>\n",
       "      <td>34.046810</td>\n",
       "      <td>-118.256668</td>\n",
       "      <td>3049.000000</td>\n",
       "      <td>34.046612</td>\n",
       "      <td>-118.256668</td>\n",
       "      <td>30.000000</td>\n",
       "      <td>14.000000</td>\n",
       "      <td>23.900000</td>\n",
       "      <td>14.400000</td>\n",
       "      <td>0.000000</td>\n",
       "      <td>0.000000</td>\n",
       "      <td>14.000000</td>\n",
       "      <td>19.450000</td>\n",
       "      <td>1.000000</td>\n",
       "      <td>0.000000</td>\n",
       "    </tr>\n",
       "    <tr>\n",
       "      <th>75%</th>\n",
       "      <td>1.300666e+08</td>\n",
       "      <td>21.000000</td>\n",
       "      <td>4135.000000</td>\n",
       "      <td>34.051941</td>\n",
       "      <td>-118.247162</td>\n",
       "      <td>4135.000000</td>\n",
       "      <td>34.050880</td>\n",
       "      <td>-118.246422</td>\n",
       "      <td>30.000000</td>\n",
       "      <td>18.000000</td>\n",
       "      <td>28.300000</td>\n",
       "      <td>17.800000</td>\n",
       "      <td>0.000000</td>\n",
       "      <td>0.000000</td>\n",
       "      <td>18.000000</td>\n",
       "      <td>23.050000</td>\n",
       "      <td>1.000000</td>\n",
       "      <td>0.000000</td>\n",
       "    </tr>\n",
       "    <tr>\n",
       "      <th>max</th>\n",
       "      <td>1.349825e+08</td>\n",
       "      <td>1440.000000</td>\n",
       "      <td>4493.000000</td>\n",
       "      <td>34.177662</td>\n",
       "      <td>-118.231277</td>\n",
       "      <td>4493.000000</td>\n",
       "      <td>34.177662</td>\n",
       "      <td>-118.231277</td>\n",
       "      <td>999.000000</td>\n",
       "      <td>23.000000</td>\n",
       "      <td>36.100000</td>\n",
       "      <td>22.800000</td>\n",
       "      <td>2.120000</td>\n",
       "      <td>1.000000</td>\n",
       "      <td>23.000000</td>\n",
       "      <td>28.900000</td>\n",
       "      <td>2.000000</td>\n",
       "      <td>1.000000</td>\n",
       "    </tr>\n",
       "  </tbody>\n",
       "</table>\n",
       "</div>"
      ],
      "text/plain": [
       "            trip_id      duration  start_station     start_lat     start_lon  \\\n",
       "count  7.648900e+04  76489.000000   76489.000000  76489.000000  76489.000000   \n",
       "mean   1.242725e+08     26.725372    3380.542300     34.036530   -118.280747   \n",
       "std    6.492901e+06     92.686682     565.654642      0.050842      0.069150   \n",
       "min    1.125377e+08      1.000000    3005.000000     33.710979   -118.495422   \n",
       "25%    1.184701e+08      6.000000    3027.000000     34.039871   -118.270813   \n",
       "50%    1.245931e+08     11.000000    3049.000000     34.046810   -118.256668   \n",
       "75%    1.300666e+08     21.000000    4135.000000     34.051941   -118.247162   \n",
       "max    1.349825e+08   1440.000000    4493.000000     34.177662   -118.231277   \n",
       "\n",
       "        end_station       end_lat       end_lon  plan_duration          time  \\\n",
       "count  76489.000000  76489.000000  76489.000000   76489.000000  76489.000000   \n",
       "mean    3381.175947     34.036244   -118.280905      56.930866     13.980115   \n",
       "std      565.967701      0.050797      0.069819     106.739329      4.749323   \n",
       "min     3005.000000     33.710979   -118.495422       1.000000      0.000000   \n",
       "25%     3027.000000     34.039219   -118.270813       1.000000     11.000000   \n",
       "50%     3049.000000     34.046612   -118.256668      30.000000     14.000000   \n",
       "75%     4135.000000     34.050880   -118.246422      30.000000     18.000000   \n",
       "max     4493.000000     34.177662   -118.231277     999.000000     23.000000   \n",
       "\n",
       "            tempmax       tempmin           pcp       weekend          hour  \\\n",
       "count  76489.000000  76489.000000  76489.000000  76489.000000  76489.000000   \n",
       "mean      24.099272     14.292215      0.034021      0.245133     13.980115   \n",
       "std        5.210867      4.129163      0.180211      0.430169      4.749323   \n",
       "min       11.100000      3.300000      0.000000      0.000000      0.000000   \n",
       "25%       20.000000     11.700000      0.000000      0.000000     11.000000   \n",
       "50%       23.900000     14.400000      0.000000      0.000000     14.000000   \n",
       "75%       28.300000     17.800000      0.000000      0.000000     18.000000   \n",
       "max       36.100000     22.800000      2.120000      1.000000     23.000000   \n",
       "\n",
       "           temp_avg    temp_class          rain  \n",
       "count  76489.000000  76489.000000  76489.000000  \n",
       "mean      19.195743      0.998941      0.008354  \n",
       "std        4.387156      0.616266      0.091019  \n",
       "min        9.700000      0.000000      0.000000  \n",
       "25%       16.150000      1.000000      0.000000  \n",
       "50%       19.450000      1.000000      0.000000  \n",
       "75%       23.050000      1.000000      0.000000  \n",
       "max       28.900000      2.000000      1.000000  "
      ]
     },
     "execution_count": 41,
     "metadata": {},
     "output_type": "execute_result"
    }
   ],
   "source": [
    "df.describe()"
   ]
  },
  {
   "cell_type": "code",
   "execution_count": 42,
   "metadata": {},
   "outputs": [
    {
     "data": {
      "text/plain": [
       "Index(['trip_id', 'duration', 'start_time', 'end_time', 'start_station',\n",
       "       'start_lat', 'start_lon', 'end_station', 'end_lat', 'end_lon',\n",
       "       'bike_id', 'plan_duration', 'trip_route_category', 'passholder_type',\n",
       "       'bike_type', 'reg_start', 'reg_end', 'time', 'date', 'tempmax',\n",
       "       'tempmin', 'pcp', 'weekend', 'hour', 'temp_avg', 'temp_class', 'rain'],\n",
       "      dtype='object')"
      ]
     },
     "execution_count": 42,
     "metadata": {},
     "output_type": "execute_result"
    }
   ],
   "source": [
    "df.columns"
   ]
  },
  {
   "cell_type": "markdown",
   "metadata": {},
   "source": [
    "#### 4.0 Latitude and Longitude "
   ]
  },
  {
   "cell_type": "code",
   "execution_count": 43,
   "metadata": {},
   "outputs": [
    {
     "data": {
      "text/html": [
       "<div style=\"width:100%;\"><div style=\"position:relative;width:100%;height:0;padding-bottom:60%;\"><iframe src=\"data:text/html;charset=utf-8;base64,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\" style=\"position:absolute;width:100%;height:100%;left:0;top:0;border:none !important;\" allowfullscreen webkitallowfullscreen mozallowfullscreen></iframe></div></div>"
      ],
      "text/plain": [
       "<folium.folium.Map at 0x157e3ee0>"
      ]
     },
     "execution_count": 43,
     "metadata": {},
     "output_type": "execute_result"
    }
   ],
   "source": [
    "locs = dfstat[['statlat', 'statlong']]\n",
    "locslist = locs.values.tolist()\n",
    "\n",
    "lat = ((df[['start_lat']].max() + df[['start_lat']].min())/2)+0.05\n",
    "lon = ((df[['start_lon']].max() + df[['start_lon']].min())/2)+0.1\n",
    "\n",
    "map1 = folium.Map(location=[lat, lon], control_scale=True, zoom_start=[10.15])\n",
    "\n",
    "for point in range(0, len(locslist)):\n",
    "    pop  = dfstat['name'][point] , dfstat['statreg'][point]\n",
    "    if dfstat['statreg'][point] == 'DTLA':\n",
    "        folium.Marker(locslist[point], popup=pop, icon=folium.Icon(color='cadetblue')).add_to(map1)\n",
    "    elif dfstat['statreg'][point] == 'Westside':\n",
    "        folium.Marker(locslist[point], popup=pop, icon=folium.Icon(color='orange')).add_to(map1)\n",
    "    elif dfstat['statreg'][point] == 'Port of LA':\n",
    "        folium.Marker(locslist[point], popup=pop, icon=folium.Icon(color='lightblue')).add_to(map1)\n",
    "    elif dfstat['statreg'][point] == 'North Hollywood':\n",
    "        folium.Marker(locslist[point], popup=pop, icon=folium.Icon(color='darkpurple')).add_to(map1)\n",
    "map1"
   ]
  },
  {
   "cell_type": "markdown",
   "metadata": {},
   "source": [
    "<b>Interaksi antar stasiun: </b>"
   ]
  },
  {
   "cell_type": "code",
   "execution_count": 125,
   "metadata": {},
   "outputs": [
    {
     "data": {
      "text/html": [
       "<div>\n",
       "<style scoped>\n",
       "    .dataframe tbody tr th:only-of-type {\n",
       "        vertical-align: middle;\n",
       "    }\n",
       "\n",
       "    .dataframe tbody tr th {\n",
       "        vertical-align: top;\n",
       "    }\n",
       "\n",
       "    .dataframe thead th {\n",
       "        text-align: right;\n",
       "    }\n",
       "</style>\n",
       "<table border=\"1\" class=\"dataframe\">\n",
       "  <thead>\n",
       "    <tr style=\"text-align: right;\">\n",
       "      <th></th>\n",
       "      <th>start_station</th>\n",
       "      <th>end_station</th>\n",
       "      <th>reg_start</th>\n",
       "      <th>reg_end</th>\n",
       "      <th>trip_id</th>\n",
       "    </tr>\n",
       "  </thead>\n",
       "  <tbody>\n",
       "    <tr>\n",
       "      <th>1284</th>\n",
       "      <td>3030</td>\n",
       "      <td>3014</td>\n",
       "      <td>DTLA</td>\n",
       "      <td>DTLA</td>\n",
       "      <td>1396</td>\n",
       "    </tr>\n",
       "    <tr>\n",
       "      <th>498</th>\n",
       "      <td>3014</td>\n",
       "      <td>3030</td>\n",
       "      <td>DTLA</td>\n",
       "      <td>DTLA</td>\n",
       "      <td>1209</td>\n",
       "    </tr>\n",
       "    <tr>\n",
       "      <th>5568</th>\n",
       "      <td>4345</td>\n",
       "      <td>4345</td>\n",
       "      <td>Westside</td>\n",
       "      <td>Westside</td>\n",
       "      <td>994</td>\n",
       "    </tr>\n",
       "    <tr>\n",
       "      <th>5595</th>\n",
       "      <td>4346</td>\n",
       "      <td>4346</td>\n",
       "      <td>Westside</td>\n",
       "      <td>Westside</td>\n",
       "      <td>578</td>\n",
       "    </tr>\n",
       "    <tr>\n",
       "      <th>1305</th>\n",
       "      <td>3030</td>\n",
       "      <td>3042</td>\n",
       "      <td>DTLA</td>\n",
       "      <td>DTLA</td>\n",
       "      <td>397</td>\n",
       "    </tr>\n",
       "    <tr>\n",
       "      <th>5542</th>\n",
       "      <td>4344</td>\n",
       "      <td>4344</td>\n",
       "      <td>Westside</td>\n",
       "      <td>Westside</td>\n",
       "      <td>392</td>\n",
       "    </tr>\n",
       "    <tr>\n",
       "      <th>0</th>\n",
       "      <td>3005</td>\n",
       "      <td>3005</td>\n",
       "      <td>DTLA</td>\n",
       "      <td>DTLA</td>\n",
       "      <td>369</td>\n",
       "    </tr>\n",
       "    <tr>\n",
       "      <th>2018</th>\n",
       "      <td>3042</td>\n",
       "      <td>3030</td>\n",
       "      <td>DTLA</td>\n",
       "      <td>DTLA</td>\n",
       "      <td>369</td>\n",
       "    </tr>\n",
       "    <tr>\n",
       "      <th>486</th>\n",
       "      <td>3014</td>\n",
       "      <td>3016</td>\n",
       "      <td>DTLA</td>\n",
       "      <td>DTLA</td>\n",
       "      <td>349</td>\n",
       "    </tr>\n",
       "    <tr>\n",
       "      <th>558</th>\n",
       "      <td>3016</td>\n",
       "      <td>3014</td>\n",
       "      <td>DTLA</td>\n",
       "      <td>DTLA</td>\n",
       "      <td>348</td>\n",
       "    </tr>\n",
       "  </tbody>\n",
       "</table>\n",
       "</div>"
      ],
      "text/plain": [
       "      start_station  end_station reg_start   reg_end  trip_id\n",
       "1284           3030         3014      DTLA      DTLA     1396\n",
       "498            3014         3030      DTLA      DTLA     1209\n",
       "5568           4345         4345  Westside  Westside      994\n",
       "5595           4346         4346  Westside  Westside      578\n",
       "1305           3030         3042      DTLA      DTLA      397\n",
       "5542           4344         4344  Westside  Westside      392\n",
       "0              3005         3005      DTLA      DTLA      369\n",
       "2018           3042         3030      DTLA      DTLA      369\n",
       "486            3014         3016      DTLA      DTLA      349\n",
       "558            3016         3014      DTLA      DTLA      348"
      ]
     },
     "execution_count": 125,
     "metadata": {},
     "output_type": "execute_result"
    }
   ],
   "source": [
    "x = df.groupby(['start_station', 'end_station', 'reg_start', 'reg_end'], as_index=False).count().sort_values(by='trip_id', ascending=False).head(10)\n",
    "x[['start_station', 'end_station', 'reg_start', 'reg_end', 'trip_id']]"
   ]
  },
  {
   "cell_type": "markdown",
   "metadata": {},
   "source": [
    "#### 4.1. Duration\n"
   ]
  },
  {
   "cell_type": "code",
   "execution_count": 44,
   "metadata": {},
   "outputs": [
    {
     "data": {
      "text/plain": [
       "count    76489.000000\n",
       "mean        26.725372\n",
       "std         92.686682\n",
       "min          1.000000\n",
       "25%          6.000000\n",
       "50%         11.000000\n",
       "75%         21.000000\n",
       "max       1440.000000\n",
       "Name: duration, dtype: float64"
      ]
     },
     "execution_count": 44,
     "metadata": {},
     "output_type": "execute_result"
    }
   ],
   "source": [
    "df['duration'].describe()"
   ]
  },
  {
   "cell_type": "code",
   "execution_count": 45,
   "metadata": {},
   "outputs": [
    {
     "data": {
      "image/png": "[encoded data removed]",
      "text/plain": [
       "<Figure size 1584x216 with 1 Axes>"
      ]
     },
     "metadata": {
      "needs_background": "light"
     },
     "output_type": "display_data"
    }
   ],
   "source": [
    "plt.figure(figsize = (22,3))\n",
    "plt.boxplot(df['duration'], vert=False)\n",
    "plt.xticks(range(0, 1441, 40))\n",
    "plt.grid(True)"
   ]
  },
  {
   "cell_type": "markdown",
   "metadata": {},
   "source": [
    "Boxplot di atas menggambarkan persebaran titik data dimana dapat dilihat bahwa terdapat banyak data yang terletak diluar upper limit (> 1,5 * IQR). Data yang berada di luar upper limit tersebut dianggap sebagai outliers (outliers diukur menggunakan IQR karena terdapat outliers yang sangat besar dan mempengaruhi mean dan standar deviasi, sehingga mean dan standar deviasi tidak bisa menggambarkan sentralitas data)."
   ]
  },
  {
   "cell_type": "code",
   "execution_count": 46,
   "metadata": {},
   "outputs": [
    {
     "name": "stdout",
     "output_type": "stream",
     "text": [
      "IQR =  15.0\n",
      "upper =  43.5\n",
      "jumlah outlier:  6947 , yaitu 9.08 % dari jumlah data\n"
     ]
    }
   ],
   "source": [
    "iqr = np.subtract(*np.percentile(df['duration'], [75, 25]))\n",
    "print('IQR = ', iqr)\n",
    "upper = np.percentile(df['duration'], 75) + (1.5 * iqr)\n",
    "print('upper = ', (np.percentile(df['duration'], 75)) + (1.5 * iqr))\n",
    "print ('jumlah outlier: ', len(df[df['duration']> upper]),', yaitu', round(len(df[df['duration']>upper])/len(df)*100, 2),'% dari jumlah data')\n"
   ]
  },
  {
   "cell_type": "markdown",
   "metadata": {},
   "source": [
    "Karena jumlah outliers cukup besar, dan durasi tidak akan dimasukan ke dalam model, maka diputuskan untuk tidak drop data outliers. "
   ]
  },
  {
   "cell_type": "markdown",
   "metadata": {},
   "source": [
    "#### 4.2. Plan Duration\n",
    "\n",
    "The number of days that the plan the passholder is using entitles them to ride;"
   ]
  },
  {
   "cell_type": "markdown",
   "metadata": {},
   "source": [
    "<!-- <img_src='pricing.PNG> -->\n",
    "\n",
    "<img src=\"pricing.PNG\" alt=\"pricing\" width=\"800\"/>\n",
    "sumber: https://bikeshare.metro.net/pricing/"
   ]
  },
  {
   "cell_type": "code",
   "execution_count": 47,
   "metadata": {},
   "outputs": [
    {
     "data": {
      "text/plain": [
       "array([ 30,   1, 365, 999], dtype=int64)"
      ]
     },
     "execution_count": 47,
     "metadata": {},
     "output_type": "execute_result"
    }
   ],
   "source": [
    "df['plan_duration'].unique()"
   ]
  },
  {
   "cell_type": "markdown",
   "metadata": {},
   "source": [
    "Terdapat plan duration dengan nilai sebesar 999 (tidak ada pada plan yang tertera pada official website). "
   ]
  },
  {
   "cell_type": "code",
   "execution_count": 48,
   "metadata": {},
   "outputs": [
    {
     "data": {
      "text/html": [
       "<div>\n",
       "<style scoped>\n",
       "    .dataframe tbody tr th:only-of-type {\n",
       "        vertical-align: middle;\n",
       "    }\n",
       "\n",
       "    .dataframe tbody tr th {\n",
       "        vertical-align: top;\n",
       "    }\n",
       "\n",
       "    .dataframe thead th {\n",
       "        text-align: right;\n",
       "    }\n",
       "</style>\n",
       "<table border=\"1\" class=\"dataframe\">\n",
       "  <thead>\n",
       "    <tr style=\"text-align: right;\">\n",
       "      <th></th>\n",
       "      <th>trip_id</th>\n",
       "      <th>duration</th>\n",
       "      <th>start_time</th>\n",
       "      <th>end_time</th>\n",
       "      <th>start_station</th>\n",
       "      <th>start_lat</th>\n",
       "      <th>start_lon</th>\n",
       "      <th>end_station</th>\n",
       "      <th>end_lat</th>\n",
       "      <th>end_lon</th>\n",
       "      <th>bike_id</th>\n",
       "      <th>plan_duration</th>\n",
       "      <th>trip_route_category</th>\n",
       "      <th>passholder_type</th>\n",
       "      <th>bike_type</th>\n",
       "      <th>reg_start</th>\n",
       "      <th>reg_end</th>\n",
       "      <th>time</th>\n",
       "      <th>date</th>\n",
       "      <th>tempmax</th>\n",
       "      <th>tempmin</th>\n",
       "      <th>pcp</th>\n",
       "      <th>weekend</th>\n",
       "      <th>hour</th>\n",
       "      <th>temp_avg</th>\n",
       "      <th>temp_class</th>\n",
       "      <th>rain</th>\n",
       "    </tr>\n",
       "  </thead>\n",
       "  <tbody>\n",
       "    <tr>\n",
       "      <th>11949</th>\n",
       "      <td>119823134</td>\n",
       "      <td>1</td>\n",
       "      <td>2019-04-19 11:26:00</td>\n",
       "      <td>2019-04-19 11:27:00</td>\n",
       "      <td>4372</td>\n",
       "      <td>34.027882</td>\n",
       "      <td>-118.388901</td>\n",
       "      <td>4372</td>\n",
       "      <td>34.027882</td>\n",
       "      <td>-118.388901</td>\n",
       "      <td>15868</td>\n",
       "      <td>999</td>\n",
       "      <td>Round Trip</td>\n",
       "      <td>Testing</td>\n",
       "      <td>smart</td>\n",
       "      <td>Westside</td>\n",
       "      <td>Westside</td>\n",
       "      <td>11</td>\n",
       "      <td>2019-04-19</td>\n",
       "      <td>22.8</td>\n",
       "      <td>13.9</td>\n",
       "      <td>0.0</td>\n",
       "      <td>0</td>\n",
       "      <td>11</td>\n",
       "      <td>18.35</td>\n",
       "      <td>1.0</td>\n",
       "      <td>0</td>\n",
       "    </tr>\n",
       "    <tr>\n",
       "      <th>23797</th>\n",
       "      <td>121292877</td>\n",
       "      <td>1440</td>\n",
       "      <td>2019-05-09 10:52:00</td>\n",
       "      <td>2019-05-11 13:55:00</td>\n",
       "      <td>4383</td>\n",
       "      <td>34.009022</td>\n",
       "      <td>-118.425011</td>\n",
       "      <td>4383</td>\n",
       "      <td>34.009022</td>\n",
       "      <td>-118.425011</td>\n",
       "      <td>15976</td>\n",
       "      <td>999</td>\n",
       "      <td>Round Trip</td>\n",
       "      <td>Testing</td>\n",
       "      <td>smart</td>\n",
       "      <td>Westside</td>\n",
       "      <td>Westside</td>\n",
       "      <td>10</td>\n",
       "      <td>2019-05-09</td>\n",
       "      <td>18.9</td>\n",
       "      <td>15.6</td>\n",
       "      <td>0.0</td>\n",
       "      <td>0</td>\n",
       "      <td>10</td>\n",
       "      <td>17.25</td>\n",
       "      <td>1.0</td>\n",
       "      <td>0</td>\n",
       "    </tr>\n",
       "    <tr>\n",
       "      <th>26985</th>\n",
       "      <td>126388082</td>\n",
       "      <td>5</td>\n",
       "      <td>2019-07-30 14:26:00</td>\n",
       "      <td>2019-07-30 14:31:00</td>\n",
       "      <td>4346</td>\n",
       "      <td>33.984341</td>\n",
       "      <td>-118.471550</td>\n",
       "      <td>4346</td>\n",
       "      <td>33.984341</td>\n",
       "      <td>-118.471550</td>\n",
       "      <td>15608</td>\n",
       "      <td>999</td>\n",
       "      <td>Round Trip</td>\n",
       "      <td>Testing</td>\n",
       "      <td>smart</td>\n",
       "      <td>Westside</td>\n",
       "      <td>Westside</td>\n",
       "      <td>14</td>\n",
       "      <td>2019-07-30</td>\n",
       "      <td>28.9</td>\n",
       "      <td>19.4</td>\n",
       "      <td>0.0</td>\n",
       "      <td>0</td>\n",
       "      <td>14</td>\n",
       "      <td>24.15</td>\n",
       "      <td>2.0</td>\n",
       "      <td>0</td>\n",
       "    </tr>\n",
       "    <tr>\n",
       "      <th>64517</th>\n",
       "      <td>128481094</td>\n",
       "      <td>24</td>\n",
       "      <td>2019-09-04 09:14:00</td>\n",
       "      <td>2019-09-04 09:38:00</td>\n",
       "      <td>4330</td>\n",
       "      <td>34.025688</td>\n",
       "      <td>-118.395302</td>\n",
       "      <td>4330</td>\n",
       "      <td>34.025688</td>\n",
       "      <td>-118.395302</td>\n",
       "      <td>16237</td>\n",
       "      <td>999</td>\n",
       "      <td>Round Trip</td>\n",
       "      <td>Testing</td>\n",
       "      <td>smart</td>\n",
       "      <td>Westside</td>\n",
       "      <td>Westside</td>\n",
       "      <td>9</td>\n",
       "      <td>2019-09-04</td>\n",
       "      <td>35.0</td>\n",
       "      <td>22.2</td>\n",
       "      <td>0.0</td>\n",
       "      <td>0</td>\n",
       "      <td>9</td>\n",
       "      <td>28.60</td>\n",
       "      <td>2.0</td>\n",
       "      <td>0</td>\n",
       "    </tr>\n",
       "    <tr>\n",
       "      <th>6753</th>\n",
       "      <td>125110166</td>\n",
       "      <td>7</td>\n",
       "      <td>2019-07-08 15:36:00</td>\n",
       "      <td>2019-07-08 15:43:00</td>\n",
       "      <td>4344</td>\n",
       "      <td>34.014309</td>\n",
       "      <td>-118.491341</td>\n",
       "      <td>4344</td>\n",
       "      <td>34.014309</td>\n",
       "      <td>-118.491341</td>\n",
       "      <td>15363</td>\n",
       "      <td>999</td>\n",
       "      <td>Round Trip</td>\n",
       "      <td>Testing</td>\n",
       "      <td>smart</td>\n",
       "      <td>Westside</td>\n",
       "      <td>Westside</td>\n",
       "      <td>15</td>\n",
       "      <td>2019-07-08</td>\n",
       "      <td>23.9</td>\n",
       "      <td>18.3</td>\n",
       "      <td>0.0</td>\n",
       "      <td>0</td>\n",
       "      <td>15</td>\n",
       "      <td>21.10</td>\n",
       "      <td>1.0</td>\n",
       "      <td>0</td>\n",
       "    </tr>\n",
       "    <tr>\n",
       "      <th>82763</th>\n",
       "      <td>129496147</td>\n",
       "      <td>47</td>\n",
       "      <td>2019-09-21 15:53:00</td>\n",
       "      <td>2019-09-21 16:40:00</td>\n",
       "      <td>4389</td>\n",
       "      <td>34.035351</td>\n",
       "      <td>-118.434143</td>\n",
       "      <td>4345</td>\n",
       "      <td>33.995560</td>\n",
       "      <td>-118.481552</td>\n",
       "      <td>16099</td>\n",
       "      <td>999</td>\n",
       "      <td>One Way</td>\n",
       "      <td>Testing</td>\n",
       "      <td>smart</td>\n",
       "      <td>Westside</td>\n",
       "      <td>Westside</td>\n",
       "      <td>15</td>\n",
       "      <td>2019-09-21</td>\n",
       "      <td>30.6</td>\n",
       "      <td>18.3</td>\n",
       "      <td>0.0</td>\n",
       "      <td>1</td>\n",
       "      <td>15</td>\n",
       "      <td>24.45</td>\n",
       "      <td>2.0</td>\n",
       "      <td>0</td>\n",
       "    </tr>\n",
       "    <tr>\n",
       "      <th>58704</th>\n",
       "      <td>128161238</td>\n",
       "      <td>292</td>\n",
       "      <td>2019-08-29 13:45:00</td>\n",
       "      <td>2019-08-29 18:37:00</td>\n",
       "      <td>4420</td>\n",
       "      <td>34.168629</td>\n",
       "      <td>-118.377068</td>\n",
       "      <td>4420</td>\n",
       "      <td>34.168629</td>\n",
       "      <td>-118.377068</td>\n",
       "      <td>15110</td>\n",
       "      <td>999</td>\n",
       "      <td>Round Trip</td>\n",
       "      <td>Testing</td>\n",
       "      <td>smart</td>\n",
       "      <td>North Hollywood</td>\n",
       "      <td>North Hollywood</td>\n",
       "      <td>13</td>\n",
       "      <td>2019-08-29</td>\n",
       "      <td>30.0</td>\n",
       "      <td>20.6</td>\n",
       "      <td>0.0</td>\n",
       "      <td>0</td>\n",
       "      <td>13</td>\n",
       "      <td>25.30</td>\n",
       "      <td>2.0</td>\n",
       "      <td>0</td>\n",
       "    </tr>\n",
       "    <tr>\n",
       "      <th>25119</th>\n",
       "      <td>131548279</td>\n",
       "      <td>16</td>\n",
       "      <td>2019-10-26 15:32:09</td>\n",
       "      <td>2019-10-26 15:48:03</td>\n",
       "      <td>4336</td>\n",
       "      <td>34.022449</td>\n",
       "      <td>-118.438332</td>\n",
       "      <td>4354</td>\n",
       "      <td>34.017681</td>\n",
       "      <td>-118.409081</td>\n",
       "      <td>15125</td>\n",
       "      <td>999</td>\n",
       "      <td>One Way</td>\n",
       "      <td>Testing</td>\n",
       "      <td>smart</td>\n",
       "      <td>Westside</td>\n",
       "      <td>Westside</td>\n",
       "      <td>15</td>\n",
       "      <td>2019-10-26</td>\n",
       "      <td>31.7</td>\n",
       "      <td>17.8</td>\n",
       "      <td>0.0</td>\n",
       "      <td>1</td>\n",
       "      <td>15</td>\n",
       "      <td>24.75</td>\n",
       "      <td>2.0</td>\n",
       "      <td>0</td>\n",
       "    </tr>\n",
       "    <tr>\n",
       "      <th>24964</th>\n",
       "      <td>131541356</td>\n",
       "      <td>17</td>\n",
       "      <td>2019-10-26 12:58:33</td>\n",
       "      <td>2019-10-26 13:15:28</td>\n",
       "      <td>4344</td>\n",
       "      <td>34.014309</td>\n",
       "      <td>-118.491341</td>\n",
       "      <td>4345</td>\n",
       "      <td>33.995281</td>\n",
       "      <td>-118.479752</td>\n",
       "      <td>15555</td>\n",
       "      <td>999</td>\n",
       "      <td>One Way</td>\n",
       "      <td>Testing</td>\n",
       "      <td>smart</td>\n",
       "      <td>Westside</td>\n",
       "      <td>Westside</td>\n",
       "      <td>12</td>\n",
       "      <td>2019-10-26</td>\n",
       "      <td>31.7</td>\n",
       "      <td>17.8</td>\n",
       "      <td>0.0</td>\n",
       "      <td>1</td>\n",
       "      <td>12</td>\n",
       "      <td>24.75</td>\n",
       "      <td>2.0</td>\n",
       "      <td>0</td>\n",
       "    </tr>\n",
       "  </tbody>\n",
       "</table>\n",
       "</div>"
      ],
      "text/plain": [
       "         trip_id  duration          start_time            end_time  \\\n",
       "11949  119823134         1 2019-04-19 11:26:00 2019-04-19 11:27:00   \n",
       "23797  121292877      1440 2019-05-09 10:52:00 2019-05-11 13:55:00   \n",
       "26985  126388082         5 2019-07-30 14:26:00 2019-07-30 14:31:00   \n",
       "64517  128481094        24 2019-09-04 09:14:00 2019-09-04 09:38:00   \n",
       "6753   125110166         7 2019-07-08 15:36:00 2019-07-08 15:43:00   \n",
       "82763  129496147        47 2019-09-21 15:53:00 2019-09-21 16:40:00   \n",
       "58704  128161238       292 2019-08-29 13:45:00 2019-08-29 18:37:00   \n",
       "25119  131548279        16 2019-10-26 15:32:09 2019-10-26 15:48:03   \n",
       "24964  131541356        17 2019-10-26 12:58:33 2019-10-26 13:15:28   \n",
       "\n",
       "       start_station  start_lat   start_lon  end_station    end_lat  \\\n",
       "11949           4372  34.027882 -118.388901         4372  34.027882   \n",
       "23797           4383  34.009022 -118.425011         4383  34.009022   \n",
       "26985           4346  33.984341 -118.471550         4346  33.984341   \n",
       "64517           4330  34.025688 -118.395302         4330  34.025688   \n",
       "6753            4344  34.014309 -118.491341         4344  34.014309   \n",
       "82763           4389  34.035351 -118.434143         4345  33.995560   \n",
       "58704           4420  34.168629 -118.377068         4420  34.168629   \n",
       "25119           4336  34.022449 -118.438332         4354  34.017681   \n",
       "24964           4344  34.014309 -118.491341         4345  33.995281   \n",
       "\n",
       "          end_lon bike_id  plan_duration trip_route_category passholder_type  \\\n",
       "11949 -118.388901   15868            999          Round Trip         Testing   \n",
       "23797 -118.425011   15976            999          Round Trip         Testing   \n",
       "26985 -118.471550   15608            999          Round Trip         Testing   \n",
       "64517 -118.395302   16237            999          Round Trip         Testing   \n",
       "6753  -118.491341   15363            999          Round Trip         Testing   \n",
       "82763 -118.481552   16099            999             One Way         Testing   \n",
       "58704 -118.377068   15110            999          Round Trip         Testing   \n",
       "25119 -118.409081   15125            999             One Way         Testing   \n",
       "24964 -118.479752   15555            999             One Way         Testing   \n",
       "\n",
       "      bike_type        reg_start          reg_end  time        date  tempmax  \\\n",
       "11949     smart         Westside         Westside    11  2019-04-19     22.8   \n",
       "23797     smart         Westside         Westside    10  2019-05-09     18.9   \n",
       "26985     smart         Westside         Westside    14  2019-07-30     28.9   \n",
       "64517     smart         Westside         Westside     9  2019-09-04     35.0   \n",
       "6753      smart         Westside         Westside    15  2019-07-08     23.9   \n",
       "82763     smart         Westside         Westside    15  2019-09-21     30.6   \n",
       "58704     smart  North Hollywood  North Hollywood    13  2019-08-29     30.0   \n",
       "25119     smart         Westside         Westside    15  2019-10-26     31.7   \n",
       "24964     smart         Westside         Westside    12  2019-10-26     31.7   \n",
       "\n",
       "       tempmin  pcp  weekend  hour  temp_avg  temp_class  rain  \n",
       "11949     13.9  0.0        0    11     18.35         1.0     0  \n",
       "23797     15.6  0.0        0    10     17.25         1.0     0  \n",
       "26985     19.4  0.0        0    14     24.15         2.0     0  \n",
       "64517     22.2  0.0        0     9     28.60         2.0     0  \n",
       "6753      18.3  0.0        0    15     21.10         1.0     0  \n",
       "82763     18.3  0.0        1    15     24.45         2.0     0  \n",
       "58704     20.6  0.0        0    13     25.30         2.0     0  \n",
       "25119     17.8  0.0        1    15     24.75         2.0     0  \n",
       "24964     17.8  0.0        1    12     24.75         2.0     0  "
      ]
     },
     "execution_count": 48,
     "metadata": {},
     "output_type": "execute_result"
    }
   ],
   "source": [
    "df[df['plan_duration']==999]"
   ]
  },
  {
   "cell_type": "markdown",
   "metadata": {},
   "source": [
    "Setelah dilihat lebih lanjut, perjalanan dengan plan duration = 999 memiliki passholder type = Testing. Karena perjalanan tersebut bukan perjalanan reguler yg dilakukan oleh pelanggan maka data tersebut di-drop. "
   ]
  },
  {
   "cell_type": "code",
   "execution_count": 49,
   "metadata": {},
   "outputs": [],
   "source": [
    "df = df[df['plan_duration']!=999]"
   ]
  },
  {
   "cell_type": "code",
   "execution_count": 50,
   "metadata": {},
   "outputs": [
    {
     "data": {
      "image/png": "[encoded data removed]",
      "text/plain": [
       "<Figure size 432x288 with 1 Axes>"
      ]
     },
     "metadata": {},
     "output_type": "display_data"
    }
   ],
   "source": [
    "plt.pie([len(df[df['plan_duration'] == 1]), len(df[df['plan_duration'] == 30]), len(df[df['plan_duration'] == 365])],labels= ['One Day', 'One Month', 'One Year'], autopct='%2f%%')\n",
    "plt.show()"
   ]
  },
  {
   "cell_type": "markdown",
   "metadata": {},
   "source": [
    "Sebagian besar pelanggan bike share merupakan pelanggan dengan subcription plan bulanan"
   ]
  },
  {
   "cell_type": "markdown",
   "metadata": {},
   "source": [
    "#### 4.3 Trip Route Category"
   ]
  },
  {
   "cell_type": "code",
   "execution_count": 51,
   "metadata": {},
   "outputs": [
    {
     "data": {
      "text/plain": [
       "array(['One Way', 'Round Trip'], dtype=object)"
      ]
     },
     "execution_count": 51,
     "metadata": {},
     "output_type": "execute_result"
    }
   ],
   "source": [
    "df['trip_route_category'].unique()"
   ]
  },
  {
   "cell_type": "code",
   "execution_count": 52,
   "metadata": {},
   "outputs": [
    {
     "data": {
      "image/png": "[encoded data removed]",
      "text/plain": [
       "<Figure size 432x288 with 1 Axes>"
      ]
     },
     "metadata": {},
     "output_type": "display_data"
    }
   ],
   "source": [
    "plt.pie([len(df[df['trip_route_category'] == 'One Way']), len(df[df['trip_route_category'] == 'Round Trip'])],labels= ['One Way', 'Round Trip'], autopct='%2f%%')\n",
    "plt.show()"
   ]
  },
  {
   "cell_type": "markdown",
   "metadata": {},
   "source": [
    "Secara umum dapat dilihat bahwa sebagian besar perjalanan yang menggunakan bike share di Los Angeles adalah One Way Trip\n"
   ]
  },
  {
   "cell_type": "markdown",
   "metadata": {},
   "source": [
    "#### 4.4 Passholder Type"
   ]
  },
  {
   "cell_type": "code",
   "execution_count": 53,
   "metadata": {},
   "outputs": [
    {
     "data": {
      "text/plain": [
       "array(['Monthly Pass', 'Walk-up', 'One Day Pass', 'Annual Pass',\n",
       "       'Flex Pass'], dtype=object)"
      ]
     },
     "execution_count": 53,
     "metadata": {},
     "output_type": "execute_result"
    }
   ],
   "source": [
    "df['passholder_type'].unique()"
   ]
  },
  {
   "cell_type": "code",
   "execution_count": 54,
   "metadata": {},
   "outputs": [
    {
     "data": {
      "image/png": "[encoded data removed]",
      "text/plain": [
       "<Figure size 432x288 with 1 Axes>"
      ]
     },
     "metadata": {},
     "output_type": "display_data"
    }
   ],
   "source": [
    "plt.pie([len(df[df['passholder_type'] =='Monthly Pass']), len(df[df['passholder_type'] =='Walk-up']), len(df[df['passholder_type'] =='One Day Pass']),\n",
    "        len(df[df['passholder_type'] =='Annual Pass']), len(df[df['passholder_type'] =='Flex Pass'])],\n",
    "       labels= ['Monthly Pass', 'Walk-up', 'One Day Pass', 'Annual Pass', 'Flex Pass'], autopct='%2f%%')\n",
    "plt.show()"
   ]
  },
  {
   "cell_type": "markdown",
   "metadata": {},
   "source": [
    "Grafik di atas memperlihatkan bahwa sebagian besar pelanggan menggunakan program langganan bulanan."
   ]
  },
  {
   "cell_type": "code",
   "execution_count": 55,
   "metadata": {},
   "outputs": [
    {
     "data": {
      "image/png": "[encoded data removed]",
      "text/plain": [
       "<Figure size 864x720 with 2 Axes>"
      ]
     },
     "metadata": {},
     "output_type": "display_data"
    }
   ],
   "source": [
    "weekpass = df.groupby(['weekend', 'passholder_type'], as_index=False).count()\n",
    "\n",
    "plt.figure(figsize=(12,10))\n",
    "plt.subplot(121)\n",
    "plt.pie(weekpass[weekpass['weekend']==1]['trip_id'], labels =['Annual Pass', 'Flex Pass', 'Monthly Pass', 'One Day Pass', 'Walk Up'], autopct='%2f')\n",
    "plt.title('Passholder Type Weekend Trip')\n",
    "\n",
    "plt.subplot(122)\n",
    "plt.pie(weekpass[weekpass['weekend']==0]['trip_id'], labels =['Annual Pass', 'Flex Pass', 'Monthly Pass', 'One Day Pass', 'Walk Up'], autopct='%2f')\n",
    "plt.title('Passholder Type Weekday Trip')\n",
    "plt.show()"
   ]
  },
  {
   "cell_type": "markdown",
   "metadata": {},
   "source": [
    "Dari chart di atas dapat dilihat bahwa persentase pelanggan dengan passholder type 'Walk Up' dan 'One Day Pass' lebih besar di weekend. Hal ini memperlihatkan bahwa pada weekend lebih banyak pelanggan yang 'mencoba' atau sekedar 'rekresional'."
   ]
  },
  {
   "cell_type": "markdown",
   "metadata": {},
   "source": [
    "Setelah diteliti lebih lanjut, passholder_type menjelaskan tentang status berlangganan customer lebih jelas dibanding variabel plan_duration yang tidak membedakan antara One Day Pass dan Walk-up. Agar tidak redundan maka variabel plan_duration akan didrop:"
   ]
  },
  {
   "cell_type": "code",
   "execution_count": 56,
   "metadata": {},
   "outputs": [],
   "source": [
    "df2 = df.drop('plan_duration', axis = 1)"
   ]
  },
  {
   "cell_type": "markdown",
   "metadata": {},
   "source": [
    "#### 4.5 Bike Type"
   ]
  },
  {
   "cell_type": "code",
   "execution_count": 57,
   "metadata": {},
   "outputs": [
    {
     "data": {
      "text/plain": [
       "array(['standard', 'smart', 'electric'], dtype=object)"
      ]
     },
     "execution_count": 57,
     "metadata": {},
     "output_type": "execute_result"
    }
   ],
   "source": [
    "df['bike_type'].unique()"
   ]
  },
  {
   "cell_type": "code",
   "execution_count": 58,
   "metadata": {},
   "outputs": [
    {
     "data": {
      "image/png": "[encoded data removed]",
      "text/plain": [
       "<Figure size 432x288 with 1 Axes>"
      ]
     },
     "metadata": {},
     "output_type": "display_data"
    }
   ],
   "source": [
    "plt.pie([len(df[df['bike_type'] =='standard']), len(df[df['bike_type'] =='smart']), len(df[df['bike_type'] =='electric'])],\n",
    "       labels= ['standard', 'smart', 'electric'], autopct='%2f%%')\n",
    "plt.show()"
   ]
  },
  {
   "cell_type": "markdown",
   "metadata": {},
   "source": [
    "#### 4.6 Time "
   ]
  },
  {
   "cell_type": "code",
   "execution_count": 59,
   "metadata": {},
   "outputs": [
    {
     "data": {
      "image/png": "[encoded data removed]",
      "text/plain": [
       "<Figure size 1080x576 with 1 Axes>"
      ]
     },
     "metadata": {
      "needs_background": "light"
     },
     "output_type": "display_data"
    }
   ],
   "source": [
    "jumlahwaktu = df.groupby(['time'])['trip_id'].count()\n",
    "west = df.groupby(['reg_start', 'time'])['trip_id'].count().loc['Westside']\n",
    "west.loc[3] = 0\n",
    "pola = df.groupby(['reg_start', 'time'])['trip_id'].count().loc['Port of LA']\n",
    "pola.loc[0] = 0\n",
    "pola.loc[2] = 0\n",
    "plt.figure(figsize = (15,8))\n",
    "plt.plot(range(0,24), jumlahwaktu)\n",
    "plt.plot(range(0,24), df.groupby(['reg_start', 'time'])['trip_id'].count().loc['DTLA'])\n",
    "plt.plot(range(0,24), pola)\n",
    "plt.plot(range(0,24), west)\n",
    "plt.plot(range(0,24), df.groupby(['reg_start', 'time'])['trip_id'].count().loc['North Hollywood'])\n",
    "plt.xticks(range(0,24))\n",
    "plt.grid(True)\n",
    "plt.title('Jumlah perjalanan per jam')\n",
    "plt.legend(['Total', 'DTLA', 'Port of LA', 'Westside', 'North Hollywood'])\n",
    "plt.show()"
   ]
  },
  {
   "cell_type": "markdown",
   "metadata": {},
   "source": [
    "Dari grafik di atas dapat dilihat bahwa peak hour untuk region Port of LA dan Westside,cenderung sama yaitu antara jam 11.00 - 15.00 sedangkan untuk daerah down town peak time nya adalah jam 17.00"
   ]
  },
  {
   "cell_type": "markdown",
   "metadata": {},
   "source": [
    "#### 4.7 Region (End)"
   ]
  },
  {
   "cell_type": "code",
   "execution_count": 60,
   "metadata": {},
   "outputs": [
    {
     "data": {
      "text/plain": [
       "array(['DTLA', 'Port of LA', 'Westside', 'North Hollywood'], dtype=object)"
      ]
     },
     "execution_count": 60,
     "metadata": {},
     "output_type": "execute_result"
    }
   ],
   "source": [
    "df['reg_end'].unique()"
   ]
  },
  {
   "cell_type": "code",
   "execution_count": 61,
   "metadata": {},
   "outputs": [
    {
     "data": {
      "image/png": "[encoded data removed]",
      "text/plain": [
       "<Figure size 432x288 with 1 Axes>"
      ]
     },
     "metadata": {},
     "output_type": "display_data"
    }
   ],
   "source": [
    "plt.pie([len(df[df['reg_end'] =='DTLA']), len(df[df['reg_end'] =='Port of LA']), len(df[df['reg_end'] =='Westside']), len(df[df['reg_end'] =='North Hollywood'])],\n",
    "       labels= ['DTLA', 'Port of LA', 'Westside', 'North Hollywood'], autopct='%2f%%')\n",
    "plt.show()"
   ]
  },
  {
   "cell_type": "markdown",
   "metadata": {},
   "source": [
    "### Feature Exploration: Data to be Modelled"
   ]
  },
  {
   "cell_type": "markdown",
   "metadata": {},
   "source": [
    "#### 4.6 Region (Start)"
   ]
  },
  {
   "cell_type": "code",
   "execution_count": 62,
   "metadata": {},
   "outputs": [
    {
     "data": {
      "text/plain": [
       "array(['DTLA', 'Port of LA', 'Westside', 'North Hollywood'], dtype=object)"
      ]
     },
     "execution_count": 62,
     "metadata": {},
     "output_type": "execute_result"
    }
   ],
   "source": [
    "df['reg_start'].unique()"
   ]
  },
  {
   "cell_type": "code",
   "execution_count": 63,
   "metadata": {},
   "outputs": [],
   "source": [
    "region_start = pd.get_dummies(df['reg_start']) \n",
    "df = pd.concat([df, region_start[['Port of LA', 'DTLA', 'North Hollywood']]], axis = 1)"
   ]
  },
  {
   "cell_type": "code",
   "execution_count": 64,
   "metadata": {},
   "outputs": [
    {
     "data": {
      "image/png": "[encoded data removed]",
      "text/plain": [
       "<Figure size 432x288 with 1 Axes>"
      ]
     },
     "metadata": {},
     "output_type": "display_data"
    }
   ],
   "source": [
    "plt.pie([len(df[df['reg_start'] =='DTLA']), len(df[df['reg_start'] =='Port of LA']), len(df[df['reg_start'] =='Westside']), len(df[df['reg_start'] =='North Hollywood'])],\n",
    "       labels= ['DTLA', 'Port of LA', 'Westside', 'North Hollywood'], autopct='%2f%%')\n",
    "plt.show()"
   ]
  },
  {
   "cell_type": "markdown",
   "metadata": {},
   "source": [
    "#### 4.7 Temperature"
   ]
  },
  {
   "cell_type": "code",
   "execution_count": 65,
   "metadata": {},
   "outputs": [
    {
     "data": {
      "image/png": "[encoded data removed]",
      "text/plain": [
       "<Figure size 432x288 with 1 Axes>"
      ]
     },
     "metadata": {},
     "output_type": "display_data"
    }
   ],
   "source": [
    "plt.pie([len(df[df['temp_class']==0]), len(df[df['temp_class']==1]), len(df[df['temp_class']==2])], autopct='%2f%%',  labels= ['cooler', 'regular', 'warmer'])\n",
    "plt.show()"
   ]
  },
  {
   "cell_type": "markdown",
   "metadata": {},
   "source": [
    "#### 4.8 Rain"
   ]
  },
  {
   "cell_type": "code",
   "execution_count": 66,
   "metadata": {},
   "outputs": [
    {
     "data": {
      "image/png": "[encoded data removed]",
      "text/plain": [
       "<Figure size 432x288 with 1 Axes>"
      ]
     },
     "metadata": {},
     "output_type": "display_data"
    }
   ],
   "source": [
    "plt.pie([len(df[df['rain']==1]), len(df[df['rain']==0])], autopct='%2f', explode=[0,0.7], labels= ['rain', 'clear'])\n",
    "plt.show()"
   ]
  },
  {
   "cell_type": "markdown",
   "metadata": {},
   "source": [
    "#### 4.9 Weekend/ Weekday"
   ]
  },
  {
   "cell_type": "code",
   "execution_count": 67,
   "metadata": {},
   "outputs": [
    {
     "data": {
      "image/png": "[encoded data removed]",
      "text/plain": [
       "<Figure size 432x288 with 1 Axes>"
      ]
     },
     "metadata": {},
     "output_type": "display_data"
    }
   ],
   "source": [
    "plt.pie([len(df[df['weekend']==1]), len(df[df['weekend']==0])], autopct='%2f')\n",
    "plt.show()"
   ]
  },
  {
   "cell_type": "markdown",
   "metadata": {},
   "source": [
    "#### 4.10 Walk Score"
   ]
  },
  {
   "cell_type": "code",
   "execution_count": 68,
   "metadata": {},
   "outputs": [
    {
     "data": {
      "text/plain": [
       "count    226.000000\n",
       "mean      85.814159\n",
       "std       14.196118\n",
       "min       10.000000\n",
       "25%       82.000000\n",
       "50%       91.000000\n",
       "75%       94.000000\n",
       "max       99.000000\n",
       "Name: walk_score, dtype: float64"
      ]
     },
     "execution_count": 68,
     "metadata": {},
     "output_type": "execute_result"
    }
   ],
   "source": [
    "dfstat['walk_score'].describe()"
   ]
  },
  {
   "cell_type": "code",
   "execution_count": 69,
   "metadata": {},
   "outputs": [
    {
     "data": {
      "image/png": "[encoded data removed]",
      "text/plain": [
       "<Figure size 1152x432 with 2 Axes>"
      ]
     },
     "metadata": {
      "needs_background": "light"
     },
     "output_type": "display_data"
    }
   ],
   "source": [
    "plt.figure(figsize = (16,6))\n",
    "plt.subplot(121)\n",
    "plt.hist(dfstat['walk_score'], bins =100)\n",
    "plt.subplot(122)\n",
    "plt.hist(dfstat[dfstat['statreg']=='DTLA']['walk_score'], bins =50, alpha=0.6)\n",
    "plt.hist(dfstat[dfstat['statreg']=='Port of LA']['walk_score'], bins =50, alpha=0.6)\n",
    "plt.hist(dfstat[dfstat['statreg']=='North Hollywood']['walk_score'], bins =50, alpha=0.6)\n",
    "plt.hist(dfstat[dfstat['statreg']=='Westside']['walk_score'], bins =50, alpha=0.6)\n",
    "plt.legend(['DTLA', 'Port of LA', 'North Hollywood', 'Westside'])\n",
    "plt.show()"
   ]
  },
  {
   "cell_type": "markdown",
   "metadata": {},
   "source": [
    "Distribusi walk score berbentuk skew negatif. "
   ]
  },
  {
   "cell_type": "markdown",
   "metadata": {},
   "source": [
    "#### 4.11 Bike Score"
   ]
  },
  {
   "cell_type": "code",
   "execution_count": 70,
   "metadata": {},
   "outputs": [
    {
     "data": {
      "text/plain": [
       "count    226.000000\n",
       "mean      76.084071\n",
       "std       13.642320\n",
       "min       24.000000\n",
       "25%       67.000000\n",
       "50%       77.000000\n",
       "75%       86.000000\n",
       "max      100.000000\n",
       "Name: bike_score, dtype: float64"
      ]
     },
     "execution_count": 70,
     "metadata": {},
     "output_type": "execute_result"
    }
   ],
   "source": [
    "dfstat['bike_score'].describe()"
   ]
  },
  {
   "cell_type": "code",
   "execution_count": 71,
   "metadata": {},
   "outputs": [
    {
     "data": {
      "image/png": "[encoded data removed]",
      "text/plain": [
       "<Figure size 1152x432 with 2 Axes>"
      ]
     },
     "metadata": {
      "needs_background": "light"
     },
     "output_type": "display_data"
    }
   ],
   "source": [
    "plt.figure(figsize = (16,6))\n",
    "plt.subplot(121)\n",
    "plt.hist(dfstat['bike_score'], bins =100)\n",
    "plt.subplot(122)\n",
    "plt.hist(dfstat[dfstat['statreg']=='DTLA']['bike_score'], bins =50, alpha=0.6)\n",
    "plt.hist(dfstat[dfstat['statreg']=='Port of LA']['bike_score'], bins =50, alpha=0.6)\n",
    "plt.hist(dfstat[dfstat['statreg']=='North Hollywood']['bike_score'], bins =50, alpha=0.6)\n",
    "plt.hist(dfstat[dfstat['statreg']=='Westside']['bike_score'], bins =50, alpha=0.6)\n",
    "plt.legend(['DTLA', 'Port of LA', 'North Hollywood', 'Westside'])\n",
    "plt.show()"
   ]
  },
  {
   "cell_type": "markdown",
   "metadata": {},
   "source": [
    "#### 4.12 Transit Score"
   ]
  },
  {
   "cell_type": "code",
   "execution_count": 72,
   "metadata": {},
   "outputs": [
    {
     "data": {
      "text/plain": [
       "count    226.000000\n",
       "mean      70.193743\n",
       "std       20.591981\n",
       "min       18.000000\n",
       "25%       55.000000\n",
       "50%       67.000000\n",
       "75%       87.000000\n",
       "max      100.000000\n",
       "Name: transit_score, dtype: float64"
      ]
     },
     "execution_count": 72,
     "metadata": {},
     "output_type": "execute_result"
    }
   ],
   "source": [
    "dfstat['transit_score'].describe()"
   ]
  },
  {
   "cell_type": "code",
   "execution_count": 73,
   "metadata": {},
   "outputs": [
    {
     "data": {
      "image/png": "[encoded data removed]",
      "text/plain": [
       "<Figure size 1152x432 with 2 Axes>"
      ]
     },
     "metadata": {
      "needs_background": "light"
     },
     "output_type": "display_data"
    }
   ],
   "source": [
    "plt.figure(figsize = (16,6))\n",
    "plt.subplot(121)\n",
    "plt.hist(dfstat['transit_score'], bins =100)\n",
    "plt.subplot(122)\n",
    "plt.hist(dfstat[dfstat['statreg']=='DTLA']['transit_score'], bins =50, alpha=0.6)\n",
    "plt.hist(dfstat[dfstat['statreg']=='Port of LA']['transit_score'], bins =50, alpha=0.6)\n",
    "plt.hist(dfstat[dfstat['statreg']=='North Hollywood']['transit_score'], bins =50, alpha=0.6)\n",
    "plt.hist(dfstat[dfstat['statreg']=='Westside']['transit_score'], bins =50, alpha=0.6)\n",
    "plt.legend(['DTLA', 'Port of LA', 'North Hollywood', 'Westside'])\n",
    "plt.show()"
   ]
  },
  {
   "cell_type": "markdown",
   "metadata": {},
   "source": [
    "#### 4.13 Distance to Region Center"
   ]
  },
  {
   "cell_type": "code",
   "execution_count": 74,
   "metadata": {},
   "outputs": [
    {
     "data": {
      "text/plain": [
       "count    226.000000\n",
       "mean       0.028377\n",
       "std        0.016680\n",
       "min        0.000900\n",
       "25%        0.017625\n",
       "50%        0.026800\n",
       "75%        0.036225\n",
       "max        0.168000\n",
       "Name: dist_creg, dtype: float64"
      ]
     },
     "execution_count": 74,
     "metadata": {},
     "output_type": "execute_result"
    }
   ],
   "source": [
    "dfstat['dist_creg'].describe()"
   ]
  },
  {
   "cell_type": "code",
   "execution_count": 75,
   "metadata": {},
   "outputs": [
    {
     "data": {
      "image/png": "[encoded data removed]",
      "text/plain": [
       "<Figure size 1152x432 with 2 Axes>"
      ]
     },
     "metadata": {
      "needs_background": "light"
     },
     "output_type": "display_data"
    }
   ],
   "source": [
    "plt.figure(figsize = (16,6))\n",
    "plt.subplot(121)\n",
    "plt.hist(dfstat['dist_creg'], bins =100)\n",
    "plt.subplot(122)\n",
    "plt.hist(dfstat[dfstat['statreg']=='Westside']['dist_creg'], bins =50, alpha=0.6)\n",
    "plt.hist(dfstat[dfstat['statreg']=='DTLA']['dist_creg'], bins =50, alpha=0.6)\n",
    "plt.hist(dfstat[dfstat['statreg']=='Port of LA']['dist_creg'], bins =50, alpha=0.6)\n",
    "plt.hist(dfstat[dfstat['statreg']=='North Hollywood']['dist_creg'], bins =50, alpha=0.6)\n",
    "plt.legend(['DTLA', 'Port of LA', 'North Hollywood', 'Westside'])\n",
    "plt.show()"
   ]
  },
  {
   "cell_type": "markdown",
   "metadata": {},
   "source": [
    "<b> Menyimpan DataFrame ke CSV</b>"
   ]
  },
  {
   "cell_type": "code",
   "execution_count": 76,
   "metadata": {},
   "outputs": [],
   "source": [
    "df.to_csv('df.csv')"
   ]
  },
  {
   "cell_type": "code",
   "execution_count": 77,
   "metadata": {},
   "outputs": [],
   "source": [
    "dfstat.to_csv('dfstat.csv')"
   ]
  },
  {
   "cell_type": "markdown",
   "metadata": {},
   "source": [
    "### 5. Menggabungkan Dataframe Trips dan Stations\n",
    "\n",
    "Dengan tujuan membuat model yang dapat memprediksi besar demand di stasiun bike sharing berdasarkan hari dan karakteristik stasiun, dibentuk dataframe baru berdasarkan informasi yang sudah ada sebelumnya:"
   ]
  },
  {
   "cell_type": "code",
   "execution_count": 100,
   "metadata": {},
   "outputs": [],
   "source": [
    "dfx = (df[['trip_id', 'start_station', 'weekend', 'rain', 'temp_class',\n",
    "       'North Hollywood', 'Port of LA', 'DTLA']]).groupby(['start_station', 'weekend', 'rain', 'temp_class',\n",
    "       'North Hollywood', 'Port of LA', 'DTLA'], as_index=False).count()\n",
    "dfx = dfx.rename(columns={'trip_id':'total_trip', 'start_station':'station_id'})"
   ]
  },
  {
   "cell_type": "code",
   "execution_count": 101,
   "metadata": {},
   "outputs": [
    {
     "data": {
      "text/html": [
       "<div>\n",
       "<style scoped>\n",
       "    .dataframe tbody tr th:only-of-type {\n",
       "        vertical-align: middle;\n",
       "    }\n",
       "\n",
       "    .dataframe tbody tr th {\n",
       "        vertical-align: top;\n",
       "    }\n",
       "\n",
       "    .dataframe thead th {\n",
       "        text-align: right;\n",
       "    }\n",
       "</style>\n",
       "<table border=\"1\" class=\"dataframe\">\n",
       "  <thead>\n",
       "    <tr style=\"text-align: right;\">\n",
       "      <th></th>\n",
       "      <th>station_id</th>\n",
       "      <th>weekend</th>\n",
       "      <th>rain</th>\n",
       "      <th>temp_class</th>\n",
       "      <th>North Hollywood</th>\n",
       "      <th>Port of LA</th>\n",
       "      <th>DTLA</th>\n",
       "      <th>total_trip</th>\n",
       "    </tr>\n",
       "  </thead>\n",
       "  <tbody>\n",
       "    <tr>\n",
       "      <th>0</th>\n",
       "      <td>3005</td>\n",
       "      <td>0</td>\n",
       "      <td>0</td>\n",
       "      <td>0.0</td>\n",
       "      <td>0</td>\n",
       "      <td>0</td>\n",
       "      <td>1</td>\n",
       "      <td>557</td>\n",
       "    </tr>\n",
       "    <tr>\n",
       "      <th>1</th>\n",
       "      <td>3005</td>\n",
       "      <td>0</td>\n",
       "      <td>0</td>\n",
       "      <td>1.0</td>\n",
       "      <td>0</td>\n",
       "      <td>0</td>\n",
       "      <td>1</td>\n",
       "      <td>1822</td>\n",
       "    </tr>\n",
       "    <tr>\n",
       "      <th>2</th>\n",
       "      <td>3005</td>\n",
       "      <td>0</td>\n",
       "      <td>0</td>\n",
       "      <td>2.0</td>\n",
       "      <td>0</td>\n",
       "      <td>0</td>\n",
       "      <td>1</td>\n",
       "      <td>609</td>\n",
       "    </tr>\n",
       "    <tr>\n",
       "      <th>3</th>\n",
       "      <td>3005</td>\n",
       "      <td>0</td>\n",
       "      <td>1</td>\n",
       "      <td>0.0</td>\n",
       "      <td>0</td>\n",
       "      <td>0</td>\n",
       "      <td>1</td>\n",
       "      <td>28</td>\n",
       "    </tr>\n",
       "    <tr>\n",
       "      <th>4</th>\n",
       "      <td>3005</td>\n",
       "      <td>0</td>\n",
       "      <td>1</td>\n",
       "      <td>1.0</td>\n",
       "      <td>0</td>\n",
       "      <td>0</td>\n",
       "      <td>1</td>\n",
       "      <td>4</td>\n",
       "    </tr>\n",
       "  </tbody>\n",
       "</table>\n",
       "</div>"
      ],
      "text/plain": [
       "   station_id  weekend  rain  temp_class  North Hollywood  Port of LA  DTLA  \\\n",
       "0        3005        0     0         0.0                0           0     1   \n",
       "1        3005        0     0         1.0                0           0     1   \n",
       "2        3005        0     0         2.0                0           0     1   \n",
       "3        3005        0     1         0.0                0           0     1   \n",
       "4        3005        0     1         1.0                0           0     1   \n",
       "\n",
       "   total_trip  \n",
       "0         557  \n",
       "1        1822  \n",
       "2         609  \n",
       "3          28  \n",
       "4           4  "
      ]
     },
     "execution_count": 101,
     "metadata": {},
     "output_type": "execute_result"
    }
   ],
   "source": [
    "dfx.head()"
   ]
  },
  {
   "cell_type": "code",
   "execution_count": 102,
   "metadata": {},
   "outputs": [],
   "source": [
    "dfx['stat_name'] = dfx['station_id'].apply(lambda x: dfstat[dfstat['statid']==x]['name'].iloc[0])\n",
    "dfx['lat'] = dfx['station_id'].apply(lambda x: dfstat[dfstat['statid']==x]['statlat'].iloc[0])\n",
    "dfx['long'] = dfx['station_id'].apply(lambda x: dfstat[dfstat['statid']==x]['statlong'].iloc[0])\n",
    "dfx['walk_score'] = dfx['station_id'].apply(lambda x: dfstat[dfstat['statid']==x]['walk_score'].iloc[0])\n",
    "dfx['transit_score'] = dfx['station_id'].apply(lambda x: dfstat[dfstat['statid']==x]['transit_score'].iloc[0])\n",
    "dfx['bike_score'] = dfx['station_id'].apply(lambda x: dfstat[dfstat['statid']==x]['bike_score'].iloc[0])\n",
    "dfx['dregioncenter'] = dfx['station_id'].apply(lambda x: dfstat[dfstat['statid']==x]['dist_creg'].iloc[0])"
   ]
  },
  {
   "cell_type": "code",
   "execution_count": 81,
   "metadata": {},
   "outputs": [
    {
     "data": {
      "text/html": [
       "<div>\n",
       "<style scoped>\n",
       "    .dataframe tbody tr th:only-of-type {\n",
       "        vertical-align: middle;\n",
       "    }\n",
       "\n",
       "    .dataframe tbody tr th {\n",
       "        vertical-align: top;\n",
       "    }\n",
       "\n",
       "    .dataframe thead th {\n",
       "        text-align: right;\n",
       "    }\n",
       "</style>\n",
       "<table border=\"1\" class=\"dataframe\">\n",
       "  <thead>\n",
       "    <tr style=\"text-align: right;\">\n",
       "      <th></th>\n",
       "      <th>station_id</th>\n",
       "      <th>weekend</th>\n",
       "      <th>rain</th>\n",
       "      <th>temp_class</th>\n",
       "      <th>North Hollywood</th>\n",
       "      <th>Port of LA</th>\n",
       "      <th>DTLA</th>\n",
       "      <th>total_trip</th>\n",
       "      <th>stat_name</th>\n",
       "      <th>lat</th>\n",
       "      <th>long</th>\n",
       "      <th>walk_score</th>\n",
       "      <th>transit_score</th>\n",
       "      <th>bike_score</th>\n",
       "      <th>dregioncenter</th>\n",
       "    </tr>\n",
       "  </thead>\n",
       "  <tbody>\n",
       "    <tr>\n",
       "      <th>0</th>\n",
       "      <td>3005</td>\n",
       "      <td>0</td>\n",
       "      <td>0</td>\n",
       "      <td>0.0</td>\n",
       "      <td>0</td>\n",
       "      <td>0</td>\n",
       "      <td>1</td>\n",
       "      <td>557</td>\n",
       "      <td>7th &amp; Flower</td>\n",
       "      <td>34.04850</td>\n",
       "      <td>-118.258537</td>\n",
       "      <td>97</td>\n",
       "      <td>100.0</td>\n",
       "      <td>85</td>\n",
       "      <td>0.0114</td>\n",
       "    </tr>\n",
       "    <tr>\n",
       "      <th>1</th>\n",
       "      <td>3005</td>\n",
       "      <td>0</td>\n",
       "      <td>0</td>\n",
       "      <td>1.0</td>\n",
       "      <td>0</td>\n",
       "      <td>0</td>\n",
       "      <td>1</td>\n",
       "      <td>1822</td>\n",
       "      <td>7th &amp; Flower</td>\n",
       "      <td>34.04850</td>\n",
       "      <td>-118.258537</td>\n",
       "      <td>97</td>\n",
       "      <td>100.0</td>\n",
       "      <td>85</td>\n",
       "      <td>0.0114</td>\n",
       "    </tr>\n",
       "    <tr>\n",
       "      <th>2</th>\n",
       "      <td>3005</td>\n",
       "      <td>0</td>\n",
       "      <td>0</td>\n",
       "      <td>2.0</td>\n",
       "      <td>0</td>\n",
       "      <td>0</td>\n",
       "      <td>1</td>\n",
       "      <td>609</td>\n",
       "      <td>7th &amp; Flower</td>\n",
       "      <td>34.04850</td>\n",
       "      <td>-118.258537</td>\n",
       "      <td>97</td>\n",
       "      <td>100.0</td>\n",
       "      <td>85</td>\n",
       "      <td>0.0114</td>\n",
       "    </tr>\n",
       "    <tr>\n",
       "      <th>3</th>\n",
       "      <td>3005</td>\n",
       "      <td>0</td>\n",
       "      <td>1</td>\n",
       "      <td>0.0</td>\n",
       "      <td>0</td>\n",
       "      <td>0</td>\n",
       "      <td>1</td>\n",
       "      <td>28</td>\n",
       "      <td>7th &amp; Flower</td>\n",
       "      <td>34.04850</td>\n",
       "      <td>-118.258537</td>\n",
       "      <td>97</td>\n",
       "      <td>100.0</td>\n",
       "      <td>85</td>\n",
       "      <td>0.0114</td>\n",
       "    </tr>\n",
       "    <tr>\n",
       "      <th>4</th>\n",
       "      <td>3005</td>\n",
       "      <td>0</td>\n",
       "      <td>1</td>\n",
       "      <td>1.0</td>\n",
       "      <td>0</td>\n",
       "      <td>0</td>\n",
       "      <td>1</td>\n",
       "      <td>4</td>\n",
       "      <td>7th &amp; Flower</td>\n",
       "      <td>34.04850</td>\n",
       "      <td>-118.258537</td>\n",
       "      <td>97</td>\n",
       "      <td>100.0</td>\n",
       "      <td>85</td>\n",
       "      <td>0.0114</td>\n",
       "    </tr>\n",
       "    <tr>\n",
       "      <th>5</th>\n",
       "      <td>3005</td>\n",
       "      <td>1</td>\n",
       "      <td>0</td>\n",
       "      <td>0.0</td>\n",
       "      <td>0</td>\n",
       "      <td>0</td>\n",
       "      <td>1</td>\n",
       "      <td>161</td>\n",
       "      <td>7th &amp; Flower</td>\n",
       "      <td>34.04850</td>\n",
       "      <td>-118.258537</td>\n",
       "      <td>97</td>\n",
       "      <td>100.0</td>\n",
       "      <td>85</td>\n",
       "      <td>0.0114</td>\n",
       "    </tr>\n",
       "    <tr>\n",
       "      <th>6</th>\n",
       "      <td>3005</td>\n",
       "      <td>1</td>\n",
       "      <td>0</td>\n",
       "      <td>1.0</td>\n",
       "      <td>0</td>\n",
       "      <td>0</td>\n",
       "      <td>1</td>\n",
       "      <td>523</td>\n",
       "      <td>7th &amp; Flower</td>\n",
       "      <td>34.04850</td>\n",
       "      <td>-118.258537</td>\n",
       "      <td>97</td>\n",
       "      <td>100.0</td>\n",
       "      <td>85</td>\n",
       "      <td>0.0114</td>\n",
       "    </tr>\n",
       "    <tr>\n",
       "      <th>7</th>\n",
       "      <td>3005</td>\n",
       "      <td>1</td>\n",
       "      <td>0</td>\n",
       "      <td>2.0</td>\n",
       "      <td>0</td>\n",
       "      <td>0</td>\n",
       "      <td>1</td>\n",
       "      <td>139</td>\n",
       "      <td>7th &amp; Flower</td>\n",
       "      <td>34.04850</td>\n",
       "      <td>-118.258537</td>\n",
       "      <td>97</td>\n",
       "      <td>100.0</td>\n",
       "      <td>85</td>\n",
       "      <td>0.0114</td>\n",
       "    </tr>\n",
       "    <tr>\n",
       "      <th>8</th>\n",
       "      <td>3005</td>\n",
       "      <td>1</td>\n",
       "      <td>1</td>\n",
       "      <td>0.0</td>\n",
       "      <td>0</td>\n",
       "      <td>0</td>\n",
       "      <td>1</td>\n",
       "      <td>2</td>\n",
       "      <td>7th &amp; Flower</td>\n",
       "      <td>34.04850</td>\n",
       "      <td>-118.258537</td>\n",
       "      <td>97</td>\n",
       "      <td>100.0</td>\n",
       "      <td>85</td>\n",
       "      <td>0.0114</td>\n",
       "    </tr>\n",
       "    <tr>\n",
       "      <th>9</th>\n",
       "      <td>3006</td>\n",
       "      <td>0</td>\n",
       "      <td>0</td>\n",
       "      <td>0.0</td>\n",
       "      <td>0</td>\n",
       "      <td>0</td>\n",
       "      <td>1</td>\n",
       "      <td>272</td>\n",
       "      <td>Olive &amp; 8th</td>\n",
       "      <td>34.04554</td>\n",
       "      <td>-118.256668</td>\n",
       "      <td>97</td>\n",
       "      <td>100.0</td>\n",
       "      <td>87</td>\n",
       "      <td>0.0147</td>\n",
       "    </tr>\n",
       "    <tr>\n",
       "      <th>10</th>\n",
       "      <td>3006</td>\n",
       "      <td>0</td>\n",
       "      <td>0</td>\n",
       "      <td>1.0</td>\n",
       "      <td>0</td>\n",
       "      <td>0</td>\n",
       "      <td>1</td>\n",
       "      <td>833</td>\n",
       "      <td>Olive &amp; 8th</td>\n",
       "      <td>34.04554</td>\n",
       "      <td>-118.256668</td>\n",
       "      <td>97</td>\n",
       "      <td>100.0</td>\n",
       "      <td>87</td>\n",
       "      <td>0.0147</td>\n",
       "    </tr>\n",
       "    <tr>\n",
       "      <th>11</th>\n",
       "      <td>3006</td>\n",
       "      <td>0</td>\n",
       "      <td>0</td>\n",
       "      <td>2.0</td>\n",
       "      <td>0</td>\n",
       "      <td>0</td>\n",
       "      <td>1</td>\n",
       "      <td>268</td>\n",
       "      <td>Olive &amp; 8th</td>\n",
       "      <td>34.04554</td>\n",
       "      <td>-118.256668</td>\n",
       "      <td>97</td>\n",
       "      <td>100.0</td>\n",
       "      <td>87</td>\n",
       "      <td>0.0147</td>\n",
       "    </tr>\n",
       "    <tr>\n",
       "      <th>12</th>\n",
       "      <td>3006</td>\n",
       "      <td>0</td>\n",
       "      <td>1</td>\n",
       "      <td>0.0</td>\n",
       "      <td>0</td>\n",
       "      <td>0</td>\n",
       "      <td>1</td>\n",
       "      <td>10</td>\n",
       "      <td>Olive &amp; 8th</td>\n",
       "      <td>34.04554</td>\n",
       "      <td>-118.256668</td>\n",
       "      <td>97</td>\n",
       "      <td>100.0</td>\n",
       "      <td>87</td>\n",
       "      <td>0.0147</td>\n",
       "    </tr>\n",
       "    <tr>\n",
       "      <th>13</th>\n",
       "      <td>3006</td>\n",
       "      <td>0</td>\n",
       "      <td>1</td>\n",
       "      <td>1.0</td>\n",
       "      <td>0</td>\n",
       "      <td>0</td>\n",
       "      <td>1</td>\n",
       "      <td>3</td>\n",
       "      <td>Olive &amp; 8th</td>\n",
       "      <td>34.04554</td>\n",
       "      <td>-118.256668</td>\n",
       "      <td>97</td>\n",
       "      <td>100.0</td>\n",
       "      <td>87</td>\n",
       "      <td>0.0147</td>\n",
       "    </tr>\n",
       "    <tr>\n",
       "      <th>14</th>\n",
       "      <td>3006</td>\n",
       "      <td>1</td>\n",
       "      <td>0</td>\n",
       "      <td>0.0</td>\n",
       "      <td>0</td>\n",
       "      <td>0</td>\n",
       "      <td>1</td>\n",
       "      <td>90</td>\n",
       "      <td>Olive &amp; 8th</td>\n",
       "      <td>34.04554</td>\n",
       "      <td>-118.256668</td>\n",
       "      <td>97</td>\n",
       "      <td>100.0</td>\n",
       "      <td>87</td>\n",
       "      <td>0.0147</td>\n",
       "    </tr>\n",
       "  </tbody>\n",
       "</table>\n",
       "</div>"
      ],
      "text/plain": [
       "    station_id  weekend  rain  temp_class  North Hollywood  Port of LA  DTLA  \\\n",
       "0         3005        0     0         0.0                0           0     1   \n",
       "1         3005        0     0         1.0                0           0     1   \n",
       "2         3005        0     0         2.0                0           0     1   \n",
       "3         3005        0     1         0.0                0           0     1   \n",
       "4         3005        0     1         1.0                0           0     1   \n",
       "5         3005        1     0         0.0                0           0     1   \n",
       "6         3005        1     0         1.0                0           0     1   \n",
       "7         3005        1     0         2.0                0           0     1   \n",
       "8         3005        1     1         0.0                0           0     1   \n",
       "9         3006        0     0         0.0                0           0     1   \n",
       "10        3006        0     0         1.0                0           0     1   \n",
       "11        3006        0     0         2.0                0           0     1   \n",
       "12        3006        0     1         0.0                0           0     1   \n",
       "13        3006        0     1         1.0                0           0     1   \n",
       "14        3006        1     0         0.0                0           0     1   \n",
       "\n",
       "    total_trip     stat_name       lat        long  walk_score  transit_score  \\\n",
       "0          557  7th & Flower  34.04850 -118.258537          97          100.0   \n",
       "1         1822  7th & Flower  34.04850 -118.258537          97          100.0   \n",
       "2          609  7th & Flower  34.04850 -118.258537          97          100.0   \n",
       "3           28  7th & Flower  34.04850 -118.258537          97          100.0   \n",
       "4            4  7th & Flower  34.04850 -118.258537          97          100.0   \n",
       "5          161  7th & Flower  34.04850 -118.258537          97          100.0   \n",
       "6          523  7th & Flower  34.04850 -118.258537          97          100.0   \n",
       "7          139  7th & Flower  34.04850 -118.258537          97          100.0   \n",
       "8            2  7th & Flower  34.04850 -118.258537          97          100.0   \n",
       "9          272   Olive & 8th  34.04554 -118.256668          97          100.0   \n",
       "10         833   Olive & 8th  34.04554 -118.256668          97          100.0   \n",
       "11         268   Olive & 8th  34.04554 -118.256668          97          100.0   \n",
       "12          10   Olive & 8th  34.04554 -118.256668          97          100.0   \n",
       "13           3   Olive & 8th  34.04554 -118.256668          97          100.0   \n",
       "14          90   Olive & 8th  34.04554 -118.256668          97          100.0   \n",
       "\n",
       "    bike_score  dregioncenter  \n",
       "0           85         0.0114  \n",
       "1           85         0.0114  \n",
       "2           85         0.0114  \n",
       "3           85         0.0114  \n",
       "4           85         0.0114  \n",
       "5           85         0.0114  \n",
       "6           85         0.0114  \n",
       "7           85         0.0114  \n",
       "8           85         0.0114  \n",
       "9           87         0.0147  \n",
       "10          87         0.0147  \n",
       "11          87         0.0147  \n",
       "12          87         0.0147  \n",
       "13          87         0.0147  \n",
       "14          87         0.0147  "
      ]
     },
     "execution_count": 81,
     "metadata": {},
     "output_type": "execute_result"
    }
   ],
   "source": [
    "dfx.head(15)"
   ]
  },
  {
   "cell_type": "markdown",
   "metadata": {},
   "source": [
    "Dari dataframe terbaru, kita mendapatkan satu variabel baru yang sebelumnya tidak ada: Jumlah Trip Per Stasiun. \n",
    "    \n",
    "Untuk itu dilakukan visualisasi dan transformasi terlebih dahulu:"
   ]
  },
  {
   "cell_type": "code",
   "execution_count": 132,
   "metadata": {},
   "outputs": [
    {
     "data": {
      "image/png": "[encoded data removed]",
      "text/plain": [
       "<Figure size 1008x576 with 1 Axes>"
      ]
     },
     "metadata": {
      "needs_background": "light"
     },
     "output_type": "display_data"
    },
    {
     "data": {
      "image/png": "[encoded data removed]",
      "text/plain": [
       "<Figure size 432x288 with 1 Axes>"
      ]
     },
     "metadata": {
      "needs_background": "light"
     },
     "output_type": "display_data"
    }
   ],
   "source": [
    "plt.figure(figsize = (14,8))\n",
    "plt.subplot(211)\n",
    "plt.hist(dfx['total_trip'], bins=200)\n",
    "plt.title ('Distribusi Jumlah Trip Per Stasiun')\n",
    "plt.show()\n",
    "plt.subplot(212)\n",
    "plt.boxplot(dfx['total_trip'], vert=False)\n",
    "plt.title ('Distribusi Jumlah Trip Per Stasiun')\n",
    "plt.show()"
   ]
  },
  {
   "cell_type": "markdown",
   "metadata": {},
   "source": [
    "Dapat dilihat bahwa data sangat positive skewed, untuk itu akan dilakukan transformasi log sebagai berikut:"
   ]
  },
  {
   "cell_type": "code",
   "execution_count": 83,
   "metadata": {},
   "outputs": [],
   "source": [
    "transformerlog = FunctionTransformer(np.log10, validate=True)\n",
    "dfx['trip_log'] = transformerlog.transform(dfx[['total_trip']])"
   ]
  },
  {
   "cell_type": "code",
   "execution_count": 84,
   "metadata": {},
   "outputs": [
    {
     "data": {
      "image/png": "[encoded data removed]",
      "text/plain": [
       "<Figure size 1008x288 with 1 Axes>"
      ]
     },
     "metadata": {
      "needs_background": "light"
     },
     "output_type": "display_data"
    }
   ],
   "source": [
    "plt.figure(figsize = (14,4))\n",
    "plt.hist(dfx['trip_log'], bins=200)\n",
    "plt.title ('Distribusi Jumlah Trip Per Stasiun (Transformed)')\n",
    "plt.show()"
   ]
  },
  {
   "cell_type": "markdown",
   "metadata": {},
   "source": [
    "<b> save to csv </b>"
   ]
  },
  {
   "cell_type": "code",
   "execution_count": 85,
   "metadata": {},
   "outputs": [],
   "source": [
    "dfx.to_csv('dfx.csv')"
   ]
  },
  {
   "cell_type": "code",
   "execution_count": 86,
   "metadata": {},
   "outputs": [
    {
     "data": {
      "text/html": [
       "<div>\n",
       "<style scoped>\n",
       "    .dataframe tbody tr th:only-of-type {\n",
       "        vertical-align: middle;\n",
       "    }\n",
       "\n",
       "    .dataframe tbody tr th {\n",
       "        vertical-align: top;\n",
       "    }\n",
       "\n",
       "    .dataframe thead th {\n",
       "        text-align: right;\n",
       "    }\n",
       "</style>\n",
       "<table border=\"1\" class=\"dataframe\">\n",
       "  <thead>\n",
       "    <tr style=\"text-align: right;\">\n",
       "      <th></th>\n",
       "      <th>station_id</th>\n",
       "      <th>weekend</th>\n",
       "      <th>rain</th>\n",
       "      <th>temp_class</th>\n",
       "      <th>North Hollywood</th>\n",
       "      <th>Port of LA</th>\n",
       "      <th>DTLA</th>\n",
       "      <th>total_trip</th>\n",
       "      <th>stat_name</th>\n",
       "      <th>lat</th>\n",
       "      <th>long</th>\n",
       "      <th>walk_score</th>\n",
       "      <th>transit_score</th>\n",
       "      <th>bike_score</th>\n",
       "      <th>dregioncenter</th>\n",
       "      <th>trip_log</th>\n",
       "    </tr>\n",
       "  </thead>\n",
       "  <tbody>\n",
       "    <tr>\n",
       "      <th>0</th>\n",
       "      <td>3005</td>\n",
       "      <td>0</td>\n",
       "      <td>0</td>\n",
       "      <td>0.0</td>\n",
       "      <td>0</td>\n",
       "      <td>0</td>\n",
       "      <td>1</td>\n",
       "      <td>557</td>\n",
       "      <td>7th &amp; Flower</td>\n",
       "      <td>34.048500</td>\n",
       "      <td>-118.258537</td>\n",
       "      <td>97</td>\n",
       "      <td>100.0</td>\n",
       "      <td>85</td>\n",
       "      <td>0.0114</td>\n",
       "      <td>2.745855</td>\n",
       "    </tr>\n",
       "    <tr>\n",
       "      <th>1</th>\n",
       "      <td>3005</td>\n",
       "      <td>0</td>\n",
       "      <td>0</td>\n",
       "      <td>1.0</td>\n",
       "      <td>0</td>\n",
       "      <td>0</td>\n",
       "      <td>1</td>\n",
       "      <td>1822</td>\n",
       "      <td>7th &amp; Flower</td>\n",
       "      <td>34.048500</td>\n",
       "      <td>-118.258537</td>\n",
       "      <td>97</td>\n",
       "      <td>100.0</td>\n",
       "      <td>85</td>\n",
       "      <td>0.0114</td>\n",
       "      <td>3.260548</td>\n",
       "    </tr>\n",
       "    <tr>\n",
       "      <th>2</th>\n",
       "      <td>3005</td>\n",
       "      <td>0</td>\n",
       "      <td>0</td>\n",
       "      <td>2.0</td>\n",
       "      <td>0</td>\n",
       "      <td>0</td>\n",
       "      <td>1</td>\n",
       "      <td>609</td>\n",
       "      <td>7th &amp; Flower</td>\n",
       "      <td>34.048500</td>\n",
       "      <td>-118.258537</td>\n",
       "      <td>97</td>\n",
       "      <td>100.0</td>\n",
       "      <td>85</td>\n",
       "      <td>0.0114</td>\n",
       "      <td>2.784617</td>\n",
       "    </tr>\n",
       "    <tr>\n",
       "      <th>3</th>\n",
       "      <td>3005</td>\n",
       "      <td>0</td>\n",
       "      <td>1</td>\n",
       "      <td>0.0</td>\n",
       "      <td>0</td>\n",
       "      <td>0</td>\n",
       "      <td>1</td>\n",
       "      <td>28</td>\n",
       "      <td>7th &amp; Flower</td>\n",
       "      <td>34.048500</td>\n",
       "      <td>-118.258537</td>\n",
       "      <td>97</td>\n",
       "      <td>100.0</td>\n",
       "      <td>85</td>\n",
       "      <td>0.0114</td>\n",
       "      <td>1.447158</td>\n",
       "    </tr>\n",
       "    <tr>\n",
       "      <th>4</th>\n",
       "      <td>3005</td>\n",
       "      <td>0</td>\n",
       "      <td>1</td>\n",
       "      <td>1.0</td>\n",
       "      <td>0</td>\n",
       "      <td>0</td>\n",
       "      <td>1</td>\n",
       "      <td>4</td>\n",
       "      <td>7th &amp; Flower</td>\n",
       "      <td>34.048500</td>\n",
       "      <td>-118.258537</td>\n",
       "      <td>97</td>\n",
       "      <td>100.0</td>\n",
       "      <td>85</td>\n",
       "      <td>0.0114</td>\n",
       "      <td>0.602060</td>\n",
       "    </tr>\n",
       "    <tr>\n",
       "      <th>...</th>\n",
       "      <td>...</td>\n",
       "      <td>...</td>\n",
       "      <td>...</td>\n",
       "      <td>...</td>\n",
       "      <td>...</td>\n",
       "      <td>...</td>\n",
       "      <td>...</td>\n",
       "      <td>...</td>\n",
       "      <td>...</td>\n",
       "      <td>...</td>\n",
       "      <td>...</td>\n",
       "      <td>...</td>\n",
       "      <td>...</td>\n",
       "      <td>...</td>\n",
       "      <td>...</td>\n",
       "      <td>...</td>\n",
       "    </tr>\n",
       "    <tr>\n",
       "      <th>1347</th>\n",
       "      <td>4493</td>\n",
       "      <td>0</td>\n",
       "      <td>0</td>\n",
       "      <td>0.0</td>\n",
       "      <td>0</td>\n",
       "      <td>0</td>\n",
       "      <td>1</td>\n",
       "      <td>1</td>\n",
       "      <td>Sunset Triangle Plaza</td>\n",
       "      <td>34.090279</td>\n",
       "      <td>-118.277191</td>\n",
       "      <td>96</td>\n",
       "      <td>58.0</td>\n",
       "      <td>76</td>\n",
       "      <td>0.0366</td>\n",
       "      <td>0.000000</td>\n",
       "    </tr>\n",
       "    <tr>\n",
       "      <th>1348</th>\n",
       "      <td>4493</td>\n",
       "      <td>0</td>\n",
       "      <td>0</td>\n",
       "      <td>1.0</td>\n",
       "      <td>0</td>\n",
       "      <td>0</td>\n",
       "      <td>1</td>\n",
       "      <td>5</td>\n",
       "      <td>Sunset Triangle Plaza</td>\n",
       "      <td>34.090279</td>\n",
       "      <td>-118.277191</td>\n",
       "      <td>96</td>\n",
       "      <td>58.0</td>\n",
       "      <td>76</td>\n",
       "      <td>0.0366</td>\n",
       "      <td>0.698970</td>\n",
       "    </tr>\n",
       "    <tr>\n",
       "      <th>1349</th>\n",
       "      <td>4493</td>\n",
       "      <td>0</td>\n",
       "      <td>1</td>\n",
       "      <td>0.0</td>\n",
       "      <td>0</td>\n",
       "      <td>0</td>\n",
       "      <td>1</td>\n",
       "      <td>2</td>\n",
       "      <td>Sunset Triangle Plaza</td>\n",
       "      <td>34.090279</td>\n",
       "      <td>-118.277191</td>\n",
       "      <td>96</td>\n",
       "      <td>58.0</td>\n",
       "      <td>76</td>\n",
       "      <td>0.0366</td>\n",
       "      <td>0.301030</td>\n",
       "    </tr>\n",
       "    <tr>\n",
       "      <th>1350</th>\n",
       "      <td>4493</td>\n",
       "      <td>1</td>\n",
       "      <td>0</td>\n",
       "      <td>0.0</td>\n",
       "      <td>0</td>\n",
       "      <td>0</td>\n",
       "      <td>1</td>\n",
       "      <td>1</td>\n",
       "      <td>Sunset Triangle Plaza</td>\n",
       "      <td>34.090279</td>\n",
       "      <td>-118.277191</td>\n",
       "      <td>96</td>\n",
       "      <td>58.0</td>\n",
       "      <td>76</td>\n",
       "      <td>0.0366</td>\n",
       "      <td>0.000000</td>\n",
       "    </tr>\n",
       "    <tr>\n",
       "      <th>1351</th>\n",
       "      <td>4493</td>\n",
       "      <td>1</td>\n",
       "      <td>0</td>\n",
       "      <td>1.0</td>\n",
       "      <td>0</td>\n",
       "      <td>0</td>\n",
       "      <td>1</td>\n",
       "      <td>1</td>\n",
       "      <td>Sunset Triangle Plaza</td>\n",
       "      <td>34.090279</td>\n",
       "      <td>-118.277191</td>\n",
       "      <td>96</td>\n",
       "      <td>58.0</td>\n",
       "      <td>76</td>\n",
       "      <td>0.0366</td>\n",
       "      <td>0.000000</td>\n",
       "    </tr>\n",
       "  </tbody>\n",
       "</table>\n",
       "<p>1352 rows × 16 columns</p>\n",
       "</div>"
      ],
      "text/plain": [
       "      station_id  weekend  rain  temp_class  North Hollywood  Port of LA  \\\n",
       "0           3005        0     0         0.0                0           0   \n",
       "1           3005        0     0         1.0                0           0   \n",
       "2           3005        0     0         2.0                0           0   \n",
       "3           3005        0     1         0.0                0           0   \n",
       "4           3005        0     1         1.0                0           0   \n",
       "...          ...      ...   ...         ...              ...         ...   \n",
       "1347        4493        0     0         0.0                0           0   \n",
       "1348        4493        0     0         1.0                0           0   \n",
       "1349        4493        0     1         0.0                0           0   \n",
       "1350        4493        1     0         0.0                0           0   \n",
       "1351        4493        1     0         1.0                0           0   \n",
       "\n",
       "      DTLA  total_trip              stat_name        lat        long  \\\n",
       "0        1         557           7th & Flower  34.048500 -118.258537   \n",
       "1        1        1822           7th & Flower  34.048500 -118.258537   \n",
       "2        1         609           7th & Flower  34.048500 -118.258537   \n",
       "3        1          28           7th & Flower  34.048500 -118.258537   \n",
       "4        1           4           7th & Flower  34.048500 -118.258537   \n",
       "...    ...         ...                    ...        ...         ...   \n",
       "1347     1           1  Sunset Triangle Plaza  34.090279 -118.277191   \n",
       "1348     1           5  Sunset Triangle Plaza  34.090279 -118.277191   \n",
       "1349     1           2  Sunset Triangle Plaza  34.090279 -118.277191   \n",
       "1350     1           1  Sunset Triangle Plaza  34.090279 -118.277191   \n",
       "1351     1           1  Sunset Triangle Plaza  34.090279 -118.277191   \n",
       "\n",
       "      walk_score  transit_score  bike_score  dregioncenter  trip_log  \n",
       "0             97          100.0          85         0.0114  2.745855  \n",
       "1             97          100.0          85         0.0114  3.260548  \n",
       "2             97          100.0          85         0.0114  2.784617  \n",
       "3             97          100.0          85         0.0114  1.447158  \n",
       "4             97          100.0          85         0.0114  0.602060  \n",
       "...          ...            ...         ...            ...       ...  \n",
       "1347          96           58.0          76         0.0366  0.000000  \n",
       "1348          96           58.0          76         0.0366  0.698970  \n",
       "1349          96           58.0          76         0.0366  0.301030  \n",
       "1350          96           58.0          76         0.0366  0.000000  \n",
       "1351          96           58.0          76         0.0366  0.000000  \n",
       "\n",
       "[1352 rows x 16 columns]"
      ]
     },
     "execution_count": 86,
     "metadata": {},
     "output_type": "execute_result"
    }
   ],
   "source": [
    "dfx"
   ]
  },
  {
   "cell_type": "markdown",
   "metadata": {},
   "source": [
    "<b> save to csv </b>"
   ]
  },
  {
   "cell_type": "code",
   "execution_count": null,
   "metadata": {},
   "outputs": [],
   "source": []
  }
 ],
 "metadata": {
  "kernelspec": {
   "display_name": "Python 3",
   "language": "python",
   "name": "python3"
  },
  "language_info": {
   "codemirror_mode": {
    "name": "ipython",
    "version": 3
   },
   "file_extension": ".py",
   "mimetype": "text/x-python",
   "name": "python",
   "nbconvert_exporter": "python",
   "pygments_lexer": "ipython3",
   "version": "3.8.0"
  }
 },
 "nbformat": 4,
 "nbformat_minor": 4
}
