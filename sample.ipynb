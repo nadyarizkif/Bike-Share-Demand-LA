{
 "cells": [
  {
   "cell_type": "code",
   "execution_count": 3,
   "metadata": {},
   "outputs": [],
   "source": [
    "import pandas as pd"
   ]
  },
  {
   "cell_type": "code",
   "execution_count": 6,
   "metadata": {},
   "outputs": [
    {
     "data": {
      "text/html": [
       "<div>\n",
       "<style scoped>\n",
       "    .dataframe tbody tr th:only-of-type {\n",
       "        vertical-align: middle;\n",
       "    }\n",
       "\n",
       "    .dataframe tbody tr th {\n",
       "        vertical-align: top;\n",
       "    }\n",
       "\n",
       "    .dataframe thead th {\n",
       "        text-align: right;\n",
       "    }\n",
       "</style>\n",
       "<table border=\"1\" class=\"dataframe\">\n",
       "  <thead>\n",
       "    <tr style=\"text-align: right;\">\n",
       "      <th></th>\n",
       "      <th>lat</th>\n",
       "      <th>long</th>\n",
       "      <th>region</th>\n",
       "    </tr>\n",
       "  </thead>\n",
       "  <tbody>\n",
       "    <tr>\n",
       "      <th>0</th>\n",
       "      <td>34.072835</td>\n",
       "      <td>-118.275399</td>\n",
       "      <td>DTLA</td>\n",
       "    </tr>\n",
       "    <tr>\n",
       "      <th>1</th>\n",
       "      <td>34.054119</td>\n",
       "      <td>-118.354763</td>\n",
       "      <td>DTLA</td>\n",
       "    </tr>\n",
       "    <tr>\n",
       "      <th>2</th>\n",
       "      <td>34.157723</td>\n",
       "      <td>-118.361611</td>\n",
       "      <td>North Hollywood</td>\n",
       "    </tr>\n",
       "    <tr>\n",
       "      <th>3</th>\n",
       "      <td>34.006818</td>\n",
       "      <td>-118.476348</td>\n",
       "      <td>Westside</td>\n",
       "    </tr>\n",
       "    <tr>\n",
       "      <th>4</th>\n",
       "      <td>33.779356</td>\n",
       "      <td>-118.274265</td>\n",
       "      <td>Port of LA</td>\n",
       "    </tr>\n",
       "  </tbody>\n",
       "</table>\n",
       "</div>"
      ],
      "text/plain": [
       "         lat        long           region\n",
       "0  34.072835 -118.275399             DTLA\n",
       "1  34.054119 -118.354763             DTLA\n",
       "2  34.157723 -118.361611  North Hollywood\n",
       "3  34.006818 -118.476348         Westside\n",
       "4  33.779356 -118.274265       Port of LA"
      ]
     },
     "execution_count": 6,
     "metadata": {},
     "output_type": "execute_result"
    }
   ],
   "source": [
    "dfsample = pd.DataFrame([{\"lat\": 34.072835,\n",
    "                         \"long\":-118.275399,\n",
    "                         \"region\" : 'DTLA'},\n",
    "                         {\"lat\": 34.054119,\n",
    "                         \"long\":-118.354763,\n",
    "                          \"region\" : 'DTLA'},\n",
    "                         {\"lat\": 34.157723,\n",
    "                         \"long\":-118.361611,\n",
    "                         \"region\" : 'North Hollywood'},\n",
    "                         {\"lat\": 34.006818,\n",
    "                         \"long\":-118.476348,\n",
    "                         \"region\" : 'Westside'},\n",
    "                         {\"lat\": 33.779356,\n",
    "                         \"long\":-118.274265,\n",
    "                        \"region\" : 'Port of LA'}])\n",
    "\n",
    "dfsample"
   ]
  },
  {
   "cell_type": "code",
   "execution_count": null,
   "metadata": {},
   "outputs": [],
   "source": [
    "dfcenter = pd.read_csv('dfcenter.csv')"
   ]
  },
  {
   "cell_type": "code",
   "execution_count": null,
   "metadata": {},
   "outputs": [],
   "source": [
    "for "
   ]
  }
 ],
 "metadata": {
  "kernelspec": {
   "display_name": "Python 3",
   "language": "python",
   "name": "python3"
  },
  "language_info": {
   "codemirror_mode": {
    "name": "ipython",
    "version": 3
   },
   "file_extension": ".py",
   "mimetype": "text/x-python",
   "name": "python",
   "nbconvert_exporter": "python",
   "pygments_lexer": "ipython3",
   "version": "3.8.0"
  }
 },
 "nbformat": 4,
 "nbformat_minor": 4
}
