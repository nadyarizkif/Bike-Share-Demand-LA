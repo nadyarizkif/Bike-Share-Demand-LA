{
 "cells": [
  {
   "cell_type": "markdown",
   "metadata": {},
   "source": [
    "#### FINAL PROJECT:\n",
    "# UNDERSTANDING BIKE SHARE IN LOS ANGELES\n",
    "\n",
    "\n",
    "#### Oleh: Nadya Rizki Fadilah\n",
    "\n",
    "\n",
    "#### Datasets: Bike Share Trips 2019 (Los Angeles) \n",
    "sumber data: https://bikeshare.metro.net/about/data/\n",
    "\n",
    "<b>Tujuan:</b>\n",
    "1. Memprediksi demand di stasiun bike share berdasarkan karakteristik stasiun dan hari\n",
    "2. Mengetahui faktor-faktor karakteristik stasiun yang mempengaruhi demand \n",
    "3. Memprediksi klasifikasi subcription plan berdasarkan karakteristik perjalanan\n",
    "4. Mengetahui faktor-faktor yang mempengaruhi subcription plan "
   ]
  },
  {
   "cell_type": "code",
   "execution_count": 1,
   "metadata": {},
   "outputs": [],
   "source": [
    "import pandas as pd\n",
    "import numpy as np\n",
    "import matplotlib.pyplot as plt\n",
    "from datetime import datetime\n",
    "import requests\n",
    "pd.set_option(\"display.max_rows\", 999)\n",
    "pd.set_option(\"display.max_columns\", 120)\n",
    "import time\n",
    "from sklearn.preprocessing import FunctionTransformer\n",
    "from sklearn.preprocessing import OrdinalEncoder"
   ]
  },
  {
   "cell_type": "markdown",
   "metadata": {},
   "source": [
    "# PART ONE -  DATA PREPARATION"
   ]
  },
  {
   "cell_type": "markdown",
   "metadata": {},
   "source": [
    "## 0. Importing and Sampling Data"
   ]
  },
  {
   "cell_type": "markdown",
   "metadata": {},
   "source": [
    "Data tersebar di 4 CSV dimana masing-masing CSV mewakili data satu quartal:\n",
    "- q1 = Jan - Maret\n",
    "- q2 = April - Juni\n",
    "- q3 = Juli - September\n",
    "- q4 = November  - Desember"
   ]
  },
  {
   "cell_type": "code",
   "execution_count": 2,
   "metadata": {},
   "outputs": [
    {
     "name": "stderr",
     "output_type": "stream",
     "text": [
      "c:\\users\\user1\\appdata\\local\\programs\\python\\python38-32\\lib\\site-packages\\IPython\\core\\interactiveshell.py:3057: DtypeWarning: Columns (10) have mixed types. Specify dtype option on import or set low_memory=False.\n",
      "  has_raised = await self.run_ast_nodes(code_ast.body, cell_name,\n"
     ]
    }
   ],
   "source": [
    "dfq1 = pd.read_csv('metro-bike-share-trips-2019-q1.csv').sample(n=20000, random_state=1)\n",
    "dfq2 = pd.read_csv('metro-bike-share-trips-2019-q2.csv').sample(n=20000, random_state=1)\n",
    "dfq3 = pd.read_csv('metro-bike-share-trips-2019-q3.csv').sample(n=20000, random_state=1)\n",
    "dfq4 = pd.read_csv('metro-bike-share-trips-2019-q4.csv').sample(n=20000, random_state=1)"
   ]
  },
  {
   "cell_type": "markdown",
   "metadata": {},
   "source": [
    "Memastikan dataframe memiliki kolom dan format yang sama:"
   ]
  },
  {
   "cell_type": "code",
   "execution_count": 3,
   "metadata": {},
   "outputs": [
    {
     "data": {
      "text/html": [
       "<div>\n",
       "<style scoped>\n",
       "    .dataframe tbody tr th:only-of-type {\n",
       "        vertical-align: middle;\n",
       "    }\n",
       "\n",
       "    .dataframe tbody tr th {\n",
       "        vertical-align: top;\n",
       "    }\n",
       "\n",
       "    .dataframe thead th {\n",
       "        text-align: right;\n",
       "    }\n",
       "</style>\n",
       "<table border=\"1\" class=\"dataframe\">\n",
       "  <thead>\n",
       "    <tr style=\"text-align: right;\">\n",
       "      <th></th>\n",
       "      <th>trip_id</th>\n",
       "      <th>duration</th>\n",
       "      <th>start_time</th>\n",
       "      <th>end_time</th>\n",
       "      <th>start_station</th>\n",
       "      <th>start_lat</th>\n",
       "      <th>start_lon</th>\n",
       "      <th>end_station</th>\n",
       "      <th>end_lat</th>\n",
       "      <th>end_lon</th>\n",
       "      <th>bike_id</th>\n",
       "      <th>plan_duration</th>\n",
       "      <th>trip_route_category</th>\n",
       "      <th>passholder_type</th>\n",
       "      <th>bike_type</th>\n",
       "    </tr>\n",
       "  </thead>\n",
       "  <tbody>\n",
       "    <tr>\n",
       "      <th>57078</th>\n",
       "      <td>118546618</td>\n",
       "      <td>9</td>\n",
       "      <td>2019-03-31 14:57:00</td>\n",
       "      <td>2019-03-31 15:06:00</td>\n",
       "      <td>3047</td>\n",
       "      <td>34.039982</td>\n",
       "      <td>-118.266403</td>\n",
       "      <td>3031</td>\n",
       "      <td>34.044701</td>\n",
       "      <td>-118.252441</td>\n",
       "      <td>05806</td>\n",
       "      <td>30</td>\n",
       "      <td>One Way</td>\n",
       "      <td>Monthly Pass</td>\n",
       "      <td>standard</td>\n",
       "    </tr>\n",
       "    <tr>\n",
       "      <th>13320</th>\n",
       "      <td>114082839</td>\n",
       "      <td>9</td>\n",
       "      <td>2019-01-24 06:25:00</td>\n",
       "      <td>2019-01-24 06:34:00</td>\n",
       "      <td>3005</td>\n",
       "      <td>34.048500</td>\n",
       "      <td>-118.258537</td>\n",
       "      <td>3075</td>\n",
       "      <td>34.042110</td>\n",
       "      <td>-118.256187</td>\n",
       "      <td>12197</td>\n",
       "      <td>1</td>\n",
       "      <td>One Way</td>\n",
       "      <td>Walk-up</td>\n",
       "      <td>standard</td>\n",
       "    </tr>\n",
       "  </tbody>\n",
       "</table>\n",
       "</div>"
      ],
      "text/plain": [
       "         trip_id  duration           start_time             end_time  \\\n",
       "57078  118546618         9  2019-03-31 14:57:00  2019-03-31 15:06:00   \n",
       "13320  114082839         9  2019-01-24 06:25:00  2019-01-24 06:34:00   \n",
       "\n",
       "       start_station  start_lat   start_lon  end_station    end_lat  \\\n",
       "57078           3047  34.039982 -118.266403         3031  34.044701   \n",
       "13320           3005  34.048500 -118.258537         3075  34.042110   \n",
       "\n",
       "          end_lon bike_id  plan_duration trip_route_category passholder_type  \\\n",
       "57078 -118.252441   05806             30             One Way    Monthly Pass   \n",
       "13320 -118.256187   12197              1             One Way         Walk-up   \n",
       "\n",
       "      bike_type  \n",
       "57078  standard  \n",
       "13320  standard  "
      ]
     },
     "execution_count": 3,
     "metadata": {},
     "output_type": "execute_result"
    }
   ],
   "source": [
    "dfq1.head(2)"
   ]
  },
  {
   "cell_type": "code",
   "execution_count": 4,
   "metadata": {},
   "outputs": [
    {
     "data": {
      "text/html": [
       "<div>\n",
       "<style scoped>\n",
       "    .dataframe tbody tr th:only-of-type {\n",
       "        vertical-align: middle;\n",
       "    }\n",
       "\n",
       "    .dataframe tbody tr th {\n",
       "        vertical-align: top;\n",
       "    }\n",
       "\n",
       "    .dataframe thead th {\n",
       "        text-align: right;\n",
       "    }\n",
       "</style>\n",
       "<table border=\"1\" class=\"dataframe\">\n",
       "  <thead>\n",
       "    <tr style=\"text-align: right;\">\n",
       "      <th></th>\n",
       "      <th>trip_id</th>\n",
       "      <th>duration</th>\n",
       "      <th>start_time</th>\n",
       "      <th>end_time</th>\n",
       "      <th>start_station</th>\n",
       "      <th>start_lat</th>\n",
       "      <th>start_lon</th>\n",
       "      <th>end_station</th>\n",
       "      <th>end_lat</th>\n",
       "      <th>end_lon</th>\n",
       "      <th>bike_id</th>\n",
       "      <th>plan_duration</th>\n",
       "      <th>trip_route_category</th>\n",
       "      <th>passholder_type</th>\n",
       "      <th>bike_type</th>\n",
       "    </tr>\n",
       "  </thead>\n",
       "  <tbody>\n",
       "    <tr>\n",
       "      <th>13143</th>\n",
       "      <td>119969782</td>\n",
       "      <td>8</td>\n",
       "      <td>2019-04-21 16:08:00</td>\n",
       "      <td>2019-04-21 16:16:00</td>\n",
       "      <td>3040</td>\n",
       "      <td>34.053570</td>\n",
       "      <td>-118.266357</td>\n",
       "      <td>3031</td>\n",
       "      <td>34.044701</td>\n",
       "      <td>-118.252441</td>\n",
       "      <td>6492</td>\n",
       "      <td>1</td>\n",
       "      <td>One Way</td>\n",
       "      <td>Walk-up</td>\n",
       "      <td>standard</td>\n",
       "    </tr>\n",
       "    <tr>\n",
       "      <th>13443</th>\n",
       "      <td>120020198</td>\n",
       "      <td>40</td>\n",
       "      <td>2019-04-22 10:11:00</td>\n",
       "      <td>2019-04-22 10:51:00</td>\n",
       "      <td>3067</td>\n",
       "      <td>34.045181</td>\n",
       "      <td>-118.250237</td>\n",
       "      <td>3078</td>\n",
       "      <td>34.064281</td>\n",
       "      <td>-118.238937</td>\n",
       "      <td>12102</td>\n",
       "      <td>1</td>\n",
       "      <td>One Way</td>\n",
       "      <td>Walk-up</td>\n",
       "      <td>standard</td>\n",
       "    </tr>\n",
       "  </tbody>\n",
       "</table>\n",
       "</div>"
      ],
      "text/plain": [
       "         trip_id  duration           start_time             end_time  \\\n",
       "13143  119969782         8  2019-04-21 16:08:00  2019-04-21 16:16:00   \n",
       "13443  120020198        40  2019-04-22 10:11:00  2019-04-22 10:51:00   \n",
       "\n",
       "       start_station  start_lat   start_lon  end_station    end_lat  \\\n",
       "13143           3040  34.053570 -118.266357         3031  34.044701   \n",
       "13443           3067  34.045181 -118.250237         3078  34.064281   \n",
       "\n",
       "          end_lon  bike_id  plan_duration trip_route_category passholder_type  \\\n",
       "13143 -118.252441     6492              1             One Way         Walk-up   \n",
       "13443 -118.238937    12102              1             One Way         Walk-up   \n",
       "\n",
       "      bike_type  \n",
       "13143  standard  \n",
       "13443  standard  "
      ]
     },
     "execution_count": 4,
     "metadata": {},
     "output_type": "execute_result"
    }
   ],
   "source": [
    "dfq2.head(2)"
   ]
  },
  {
   "cell_type": "code",
   "execution_count": 5,
   "metadata": {},
   "outputs": [
    {
     "data": {
      "text/html": [
       "<div>\n",
       "<style scoped>\n",
       "    .dataframe tbody tr th:only-of-type {\n",
       "        vertical-align: middle;\n",
       "    }\n",
       "\n",
       "    .dataframe tbody tr th {\n",
       "        vertical-align: top;\n",
       "    }\n",
       "\n",
       "    .dataframe thead th {\n",
       "        text-align: right;\n",
       "    }\n",
       "</style>\n",
       "<table border=\"1\" class=\"dataframe\">\n",
       "  <thead>\n",
       "    <tr style=\"text-align: right;\">\n",
       "      <th></th>\n",
       "      <th>trip_id</th>\n",
       "      <th>duration</th>\n",
       "      <th>start_time</th>\n",
       "      <th>end_time</th>\n",
       "      <th>start_station</th>\n",
       "      <th>start_lat</th>\n",
       "      <th>start_lon</th>\n",
       "      <th>end_station</th>\n",
       "      <th>end_lat</th>\n",
       "      <th>end_lon</th>\n",
       "      <th>bike_id</th>\n",
       "      <th>plan_duration</th>\n",
       "      <th>trip_route_category</th>\n",
       "      <th>passholder_type</th>\n",
       "      <th>bike_type</th>\n",
       "    </tr>\n",
       "  </thead>\n",
       "  <tbody>\n",
       "    <tr>\n",
       "      <th>49305</th>\n",
       "      <td>127642188</td>\n",
       "      <td>2</td>\n",
       "      <td>8/21/2019 5:25</td>\n",
       "      <td>8/21/2019 5:27</td>\n",
       "      <td>3064</td>\n",
       "      <td>34.046810</td>\n",
       "      <td>-118.256981</td>\n",
       "      <td>3007</td>\n",
       "      <td>34.05048</td>\n",
       "      <td>-118.254593</td>\n",
       "      <td>19131</td>\n",
       "      <td>365</td>\n",
       "      <td>One Way</td>\n",
       "      <td>Annual Pass</td>\n",
       "      <td>electric</td>\n",
       "    </tr>\n",
       "    <tr>\n",
       "      <th>17340</th>\n",
       "      <td>125773553</td>\n",
       "      <td>4</td>\n",
       "      <td>7/19/2019 23:46</td>\n",
       "      <td>7/19/2019 23:50</td>\n",
       "      <td>3032</td>\n",
       "      <td>34.049889</td>\n",
       "      <td>-118.255882</td>\n",
       "      <td>3006</td>\n",
       "      <td>34.04554</td>\n",
       "      <td>-118.256668</td>\n",
       "      <td>5988</td>\n",
       "      <td>1</td>\n",
       "      <td>One Way</td>\n",
       "      <td>Walk-up</td>\n",
       "      <td>standard</td>\n",
       "    </tr>\n",
       "  </tbody>\n",
       "</table>\n",
       "</div>"
      ],
      "text/plain": [
       "         trip_id  duration       start_time         end_time  start_station  \\\n",
       "49305  127642188         2   8/21/2019 5:25   8/21/2019 5:27           3064   \n",
       "17340  125773553         4  7/19/2019 23:46  7/19/2019 23:50           3032   \n",
       "\n",
       "       start_lat   start_lon  end_station   end_lat     end_lon bike_id  \\\n",
       "49305  34.046810 -118.256981         3007  34.05048 -118.254593   19131   \n",
       "17340  34.049889 -118.255882         3006  34.04554 -118.256668    5988   \n",
       "\n",
       "       plan_duration trip_route_category passholder_type bike_type  \n",
       "49305            365             One Way     Annual Pass  electric  \n",
       "17340              1             One Way         Walk-up  standard  "
      ]
     },
     "execution_count": 5,
     "metadata": {},
     "output_type": "execute_result"
    }
   ],
   "source": [
    "dfq3.head(2)"
   ]
  },
  {
   "cell_type": "code",
   "execution_count": 6,
   "metadata": {},
   "outputs": [
    {
     "data": {
      "text/html": [
       "<div>\n",
       "<style scoped>\n",
       "    .dataframe tbody tr th:only-of-type {\n",
       "        vertical-align: middle;\n",
       "    }\n",
       "\n",
       "    .dataframe tbody tr th {\n",
       "        vertical-align: top;\n",
       "    }\n",
       "\n",
       "    .dataframe thead th {\n",
       "        text-align: right;\n",
       "    }\n",
       "</style>\n",
       "<table border=\"1\" class=\"dataframe\">\n",
       "  <thead>\n",
       "    <tr style=\"text-align: right;\">\n",
       "      <th></th>\n",
       "      <th>trip_id</th>\n",
       "      <th>duration</th>\n",
       "      <th>start_time</th>\n",
       "      <th>end_time</th>\n",
       "      <th>start_station</th>\n",
       "      <th>start_lat</th>\n",
       "      <th>start_lon</th>\n",
       "      <th>end_station</th>\n",
       "      <th>end_lat</th>\n",
       "      <th>end_lon</th>\n",
       "      <th>bike_id</th>\n",
       "      <th>plan_duration</th>\n",
       "      <th>trip_route_category</th>\n",
       "      <th>passholder_type</th>\n",
       "      <th>bike_type</th>\n",
       "    </tr>\n",
       "  </thead>\n",
       "  <tbody>\n",
       "    <tr>\n",
       "      <th>6832</th>\n",
       "      <td>130369347</td>\n",
       "      <td>10</td>\n",
       "      <td>2019-10-06 17:43:43</td>\n",
       "      <td>2019-10-06 17:53:15</td>\n",
       "      <td>3051</td>\n",
       "      <td>34.045422</td>\n",
       "      <td>-118.253517</td>\n",
       "      <td>3038</td>\n",
       "      <td>34.046822</td>\n",
       "      <td>-118.248352</td>\n",
       "      <td>16724</td>\n",
       "      <td>30</td>\n",
       "      <td>One Way</td>\n",
       "      <td>Monthly Pass</td>\n",
       "      <td>electric</td>\n",
       "    </tr>\n",
       "    <tr>\n",
       "      <th>65257</th>\n",
       "      <td>134115716</td>\n",
       "      <td>4</td>\n",
       "      <td>2019-12-15 19:01:36</td>\n",
       "      <td>2019-12-15 19:05:29</td>\n",
       "      <td>3074</td>\n",
       "      <td>34.044170</td>\n",
       "      <td>-118.261169</td>\n",
       "      <td>3005</td>\n",
       "      <td>34.048500</td>\n",
       "      <td>-118.258537</td>\n",
       "      <td>19895</td>\n",
       "      <td>30</td>\n",
       "      <td>One Way</td>\n",
       "      <td>Monthly Pass</td>\n",
       "      <td>electric</td>\n",
       "    </tr>\n",
       "  </tbody>\n",
       "</table>\n",
       "</div>"
      ],
      "text/plain": [
       "         trip_id  duration           start_time             end_time  \\\n",
       "6832   130369347        10  2019-10-06 17:43:43  2019-10-06 17:53:15   \n",
       "65257  134115716         4  2019-12-15 19:01:36  2019-12-15 19:05:29   \n",
       "\n",
       "       start_station  start_lat   start_lon  end_station    end_lat  \\\n",
       "6832            3051  34.045422 -118.253517         3038  34.046822   \n",
       "65257           3074  34.044170 -118.261169         3005  34.048500   \n",
       "\n",
       "          end_lon  bike_id  plan_duration trip_route_category passholder_type  \\\n",
       "6832  -118.248352    16724             30             One Way    Monthly Pass   \n",
       "65257 -118.258537    19895             30             One Way    Monthly Pass   \n",
       "\n",
       "      bike_type  \n",
       "6832   electric  \n",
       "65257  electric  "
      ]
     },
     "execution_count": 6,
     "metadata": {},
     "output_type": "execute_result"
    }
   ],
   "source": [
    "dfq4.head(2)"
   ]
  },
  {
   "cell_type": "markdown",
   "metadata": {},
   "source": [
    "Dari 4 data frame di atas dapat dilihat bahwa <b>format waktu</b> di dfq3 berbeda dengan format waktu di dataframe lainnya. Untuk menghindari masalah nantinya maka format waktu perlu diubah terlebih dahulu.<br>\n",
    "\n",
    "<b> Menyamakan format waktu dan memasukan datetime </b>"
   ]
  },
  {
   "cell_type": "code",
   "execution_count": 7,
   "metadata": {},
   "outputs": [],
   "source": [
    "dfq1['start_time'] = dfq1['start_time'].apply(lambda x: datetime.strptime(x, '%Y-%m-%d %H:%M:%S')) \n",
    "dfq2['start_time'] = dfq2['start_time'].apply(lambda x: datetime.strptime(x, '%Y-%m-%d %H:%M:%S')) \n",
    "dfq3['start_time'] = dfq3['start_time'].apply(lambda x: datetime.strptime(x, '%m/%d/%Y %H:%M')) \n",
    "dfq4['start_time'] = dfq4['start_time'].apply(lambda x: datetime.strptime(x, '%Y-%m-%d %H:%M:%S')) \n",
    "\n",
    "dfq1['end_time'] = dfq1['end_time'].apply(lambda x: datetime.strptime(x, '%Y-%m-%d %H:%M:%S')) \n",
    "dfq2['end_time'] = dfq2['end_time'].apply(lambda x: datetime.strptime(x, '%Y-%m-%d %H:%M:%S')) \n",
    "dfq3['end_time'] = dfq3['end_time'].apply(lambda x: datetime.strptime(x, '%m/%d/%Y %H:%M')) \n",
    "dfq4['end_time'] = dfq4['end_time'].apply(lambda x: datetime.strptime(x, '%Y-%m-%d %H:%M:%S')) \n",
    "\n",
    "dfq3['start_time'] = dfq3['start_time'].apply(lambda x: x.strftime('%Y-%m-%d %H:%M:%S'))\n",
    "dfq3['end_time'] = dfq3['end_time'].apply(lambda x: x.strftime('%Y-%m-%d %H:%M:%S'))\n",
    "dfq3['start_time'] = dfq3['start_time'].apply(lambda x: datetime.strptime(x, '%Y-%m-%d %H:%M:%S')) \n",
    "dfq3['end_time'] = dfq3['end_time'].apply(lambda x: datetime.strptime(x, '%Y-%m-%d %H:%M:%S'))\n"
   ]
  },
  {
   "cell_type": "markdown",
   "metadata": {},
   "source": [
    "<b>Menggabungkan data</b>"
   ]
  },
  {
   "cell_type": "code",
   "execution_count": 8,
   "metadata": {},
   "outputs": [],
   "source": [
    "df = pd.concat([dfq1, dfq2, dfq3, dfq4], axis = 0)"
   ]
  },
  {
   "cell_type": "markdown",
   "metadata": {},
   "source": [
    "## 1. Memeriksa dan Mengatasi Nilai Null"
   ]
  },
  {
   "cell_type": "code",
   "execution_count": 9,
   "metadata": {},
   "outputs": [
    {
     "data": {
      "text/plain": [
       "trip_id                   0\n",
       "duration                  0\n",
       "start_time                0\n",
       "end_time                  0\n",
       "start_station             0\n",
       "start_lat              1258\n",
       "start_lon              1258\n",
       "end_station               0\n",
       "end_lat                2770\n",
       "end_lon                2770\n",
       "bike_id                   0\n",
       "plan_duration             0\n",
       "trip_route_category       0\n",
       "passholder_type           0\n",
       "bike_type                 0\n",
       "dtype: int64"
      ]
     },
     "execution_count": 9,
     "metadata": {},
     "output_type": "execute_result"
    }
   ],
   "source": [
    "df.isna().sum()"
   ]
  },
  {
   "cell_type": "markdown",
   "metadata": {},
   "source": [
    "Terdapat nilai null pada titik koordinat Start Station dan End Station. Mengingat kedua data tersebut penting untuk pemetaan nantinya, maka nilai null tersebut perlu untuk dicari lebih lanjut. "
   ]
  },
  {
   "cell_type": "code",
   "execution_count": 10,
   "metadata": {},
   "outputs": [
    {
     "name": "stdout",
     "output_type": "stream",
     "text": [
      "{3000, 4285, 4286}\n",
      "{3000, 4285, 4286}\n"
     ]
    }
   ],
   "source": [
    "startstat = []\n",
    "for i in range(len(df[df['start_lat'].isnull()])):\n",
    "       startstat.append(df[df['start_lat'].isnull()].iloc[i]['start_station'])\n",
    "        \n",
    "endstat = []\n",
    "for i in range(len(df[df['end_lat'].isnull()])):\n",
    "       endstat.append(df[df['end_lat'].isnull()].iloc[i]['end_station'])\n",
    "        \n",
    "print (set(endstat))\n",
    "print (set(startstat))"
   ]
  },
  {
   "cell_type": "markdown",
   "metadata": {},
   "source": [
    "Diketahui bahwa longitude dan latititude stasiun yang tidak diketahui pada end dan start stasiun merupakan stasiun yang sama. Metro Bike Share menyediakan file csv untuk membantu mengidentifikasi lokasi stasiun lebih lanjut: "
   ]
  },
  {
   "cell_type": "code",
   "execution_count": 11,
   "metadata": {},
   "outputs": [
    {
     "name": "stdout",
     "output_type": "stream",
     "text": [
      "Virtual Station\n",
      "Metro Bike Share Free Bikes\n",
      "Metro Bike Share Out of Service Area Smart Bike\n"
     ]
    }
   ],
   "source": [
    "dfst = pd.read_csv('metro-bike-share-stations-2020-01-01.csv')\n",
    "\n",
    "print(dfst[dfst['Station_ID']==list(set(startstat))[0]]['Station_Name'].iloc[0])\n",
    "print(dfst[dfst['Station_ID']==list(set(startstat))[1]]['Station_Name'].iloc[0])\n",
    "print(dfst[dfst['Station_ID']==list(set(startstat))[2]]['Station_Name'].iloc[0])"
   ]
  },
  {
   "cell_type": "markdown",
   "metadata": {},
   "source": [
    "Pada website Metro Bike Share terdapat informasi bahwa \"Virtual Station is used by staff to check in or check out a bike remotely for a special event\". Dapat disimpulkan bahwa ketiga stasiun ini bukan merupakan stasiun regular sehingga lebih baik untuk drop rows. "
   ]
  },
  {
   "cell_type": "code",
   "execution_count": 12,
   "metadata": {},
   "outputs": [],
   "source": [
    "df.dropna(axis =0, inplace=True)"
   ]
  },
  {
   "cell_type": "markdown",
   "metadata": {},
   "source": [
    "## 2. Menambahkan Data dari Sumber Eksternal\n",
    "Pada bagian ini kita akan menambahkan data dari sumber eksternal untuk memperkaya informasi: \n",
    "1. Region Station (dari data Metro Bike Share)\n",
    "2. Temperatur dan Cuaca (dari API National Centers for Environmental Information)\n",
    "3. Karakteristik Station (Walk Score, Bike Score, Transit Score) (dari walkscore.com)"
   ]
  },
  {
   "cell_type": "markdown",
   "metadata": {},
   "source": [
    "#### 2.1 Menambahkan Region Stasiun"
   ]
  },
  {
   "cell_type": "markdown",
   "metadata": {},
   "source": [
    "Menambahkan Region Stasiun berdasarkan data yang disediakan Metro Bike Share"
   ]
  },
  {
   "cell_type": "markdown",
   "metadata": {},
   "source": [
    "Saat menjalankan algoritma di penambahan keterangan Region, diketahui bahwa terdapat 7 station id yang tidak terdapat di data yang disediakan oleh Metro Bike LA (di CSV maupun di Website). Mengingat hanya ada 20 trip yang berasal/berakhir di stasiun-stasiun tersebut maka diputuskan untuk drop row tersebut."
   ]
  },
  {
   "cell_type": "code",
   "execution_count": 13,
   "metadata": {},
   "outputs": [
    {
     "name": "stdout",
     "output_type": "stream",
     "text": [
      "jumlah trip di stasiun 4327: start:  1  end:  0\n",
      "jumlah trip di stasiun 4362: start:  0  end:  0\n",
      "jumlah trip di stasiun 4363: start:  6  end:  2\n",
      "jumlah trip di stasiun 4108: start:  4  end:  4\n",
      "jumlah trip di stasiun 4321: start:  0  end:  0\n",
      "jumlah trip di stasiun 4467: start:  0  end:  3\n",
      "jumlah trip di stasiun 4468: start:  0  end:  1\n"
     ]
    }
   ],
   "source": [
    "print('jumlah trip di stasiun 4327: start: ',len(df[df['start_station'] == 4327]), ' end: ', len(df[df['end_station'] == 4327]))\n",
    "df = df[df['start_station']!=4327]\n",
    "df = df[df['end_station']!=4327]\n",
    "\n",
    "print('jumlah trip di stasiun 4362: start: ',len(df[df['start_station'] == 4362]), ' end: ', len(df[df['end_station'] == 4362]))\n",
    "df = df[df['start_station']!=4362]\n",
    "df = df[df['end_station']!=4362]\n",
    "\n",
    "print('jumlah trip di stasiun 4363: start: ',len(df[df['start_station'] == 4363]), ' end: ', len(df[df['end_station'] == 4363]))\n",
    "df = df[df['start_station']!=4363]\n",
    "df = df[df['end_station']!=4363]\n",
    "\n",
    "print('jumlah trip di stasiun 4108: start: ',len(df[df['start_station'] == 4108]), ' end: ', len(df[df['end_station'] == 4108]))\n",
    "df = df[df['start_station']!=4108]\n",
    "df = df[df['end_station']!=4108]\n",
    "\n",
    "print('jumlah trip di stasiun 4321: start: ',len(df[df['start_station'] == 4321]), ' end: ', len(df[df['end_station'] == 4321]))\n",
    "df = df[df['start_station']!=4321]\n",
    "df = df[df['end_station']!=4321]\n",
    "\n",
    "print('jumlah trip di stasiun 4467: start: ',len(df[df['start_station'] == 4467]), ' end: ', len(df[df['end_station'] == 4467]))\n",
    "df = df[df['start_station']!=4467]\n",
    "df = df[df['end_station']!=4467]\n",
    "\n",
    "print('jumlah trip di stasiun 4468: start: ',len(df[df['start_station'] == 4468]), ' end: ', len(df[df['end_station'] == 4468]))\n",
    "df = df[df['start_station']!=4468]\n",
    "df = df[df['end_station']!=4468]"
   ]
  },
  {
   "cell_type": "code",
   "execution_count": 14,
   "metadata": {},
   "outputs": [],
   "source": [
    "df['reg_start'] = df['start_station'].apply(lambda x: dfst[dfst['Station_ID']==x]['Region '].iloc[0])\n",
    "df['reg_end'] = df['end_station'].apply(lambda x: dfst[dfst['Station_ID']==x]['Region '].iloc[0])"
   ]
  },
  {
   "cell_type": "code",
   "execution_count": 15,
   "metadata": {},
   "outputs": [],
   "source": [
    "df['time'] = df['start_time'].apply(lambda x: x.hour)"
   ]
  },
  {
   "cell_type": "markdown",
   "metadata": {},
   "source": [
    "#### 2.2 Menambahkan Cuaca \n",
    "\n",
    "Menambahkan temperatur dan hujan berdasarkan tanggal. Data didapatkan dari API yang disediakan oleh https://www.ncdc.noaa.gov/\n",
    "\n",
    "Data yg dihasilkan:\n",
    "- Temperatur : (1/10 C) -> C\n",
    "- Precipitation: (1/10 mm) -> Inch"
   ]
  },
  {
   "cell_type": "code",
   "execution_count": 16,
   "metadata": {},
   "outputs": [],
   "source": [
    "token = 'PmAArvbxiZiycuIFQMBIqUJauXgJhAEC'\n",
    "station_id = 'GHCND:USW00093134' # station Downtown Los Angeles\n",
    "baseurl = 'https://www.ncdc.noaa.gov/cdo-web/api/v2/data?'\n",
    "datasetid = 'GHCND'\n",
    "datatypeid0 = 'TMIN' ## minimum temperature\n",
    "datatypeid1 = 'TMAX' ## maximum temperature\n",
    "datatypeid2 = 'PRCP' ## percipitation\n",
    "url1 = baseurl+'datasetid='+datasetid+'&datatypeid='+datatypeid1+'&limit=1000&stationid='+station_id+'&startdate=2019-01-01&enddate=2019-12-31'\n",
    "url2 = baseurl+'datasetid='+datasetid+'&datatypeid='+datatypeid2+'&limit=1000&stationid='+station_id+'&startdate=2019-01-01&enddate=2019-12-31'\n",
    "url0 = baseurl+'datasetid='+datasetid+'&datatypeid='+datatypeid0+'&limit=1000&stationid='+station_id+'&startdate=2019-01-01&enddate=2019-12-31'\n",
    "headers={'token': token}"
   ]
  },
  {
   "cell_type": "code",
   "execution_count": 17,
   "metadata": {},
   "outputs": [],
   "source": [
    "data0 = requests.get(url0, headers={'token': token})\n",
    "data0 = data0.json()\n",
    "date0 = []\n",
    "tempmin = []\n",
    "for i in data0['results']:\n",
    "    tempmin.append(i['value']/10)\n",
    "    date0.append(i['date'])\n",
    "\n",
    "data1 = requests.get(url1, headers={'token': token})\n",
    "data1 = data1.json()\n",
    "data1\n",
    "date1 = []\n",
    "tempmax = []\n",
    "for i in data1['results']:\n",
    "    tempmax.append(i['value']/10)\n",
    "    date1.append(i['date'])\n",
    "    \n",
    "data2 = requests.get(url2, headers={'token': token})\n",
    "data2 = data2.json()\n",
    "data2\n",
    "pcp = []\n",
    "date2 = []\n",
    "for i in data2['results']:\n",
    "    pcp.append(round(i['value']/10/25.4, 2))\n",
    "    date2.append(i['date'])"
   ]
  },
  {
   "cell_type": "code",
   "execution_count": 18,
   "metadata": {},
   "outputs": [],
   "source": [
    "dfcuaca = pd.DataFrame()\n",
    "dfcuaca['date'] = date1\n",
    "dfcuaca['temp_max'] = tempmax\n",
    "dfcuaca['temp_min'] = tempmin\n",
    "dfcuaca['pcp'] = pcp\n",
    "dfcuaca['date'] = dfcuaca['date'].apply(lambda x: datetime.strptime(x, '%Y-%m-%dT%H:%M:%S'))\n",
    "dfcuaca['date'] = dfcuaca['date'].apply(lambda x: x.strftime('%Y-%m-%d %H:%M:%S'))\n",
    "dfcuaca['date'] = dfcuaca['date'].apply(lambda x: datetime.strptime(x, '%Y-%m-%d %H:%M:%S'))\n"
   ]
  },
  {
   "cell_type": "code",
   "execution_count": 19,
   "metadata": {},
   "outputs": [],
   "source": [
    "df['date'] = df['start_time'].apply(lambda x: x.date())"
   ]
  },
  {
   "cell_type": "code",
   "execution_count": 20,
   "metadata": {},
   "outputs": [
    {
     "name": "stderr",
     "output_type": "stream",
     "text": [
      "<ipython-input-20-48bbe40457f4>:1: FutureWarning: Comparing Series of datetimes with 'datetime.date'.  Currently, the\n",
      "'datetime.date' is coerced to a datetime. In the future pandas will\n",
      "not coerce, and 'the values will not compare equal to the\n",
      "'datetime.date'. To retain the current behavior, convert the\n",
      "'datetime.date' to a datetime with 'pd.Timestamp'.\n",
      "  df['tempmax'] = df['date'].apply(lambda x: dfcuaca[dfcuaca['date'] == x]['temp_max'].iloc[0])\n",
      "<ipython-input-20-48bbe40457f4>:2: FutureWarning: Comparing Series of datetimes with 'datetime.date'.  Currently, the\n",
      "'datetime.date' is coerced to a datetime. In the future pandas will\n",
      "not coerce, and 'the values will not compare equal to the\n",
      "'datetime.date'. To retain the current behavior, convert the\n",
      "'datetime.date' to a datetime with 'pd.Timestamp'.\n",
      "  df['tempmin'] = df['date'].apply(lambda x: dfcuaca[dfcuaca['date'] == x]['temp_min'].iloc[0])\n",
      "<ipython-input-20-48bbe40457f4>:3: FutureWarning: Comparing Series of datetimes with 'datetime.date'.  Currently, the\n",
      "'datetime.date' is coerced to a datetime. In the future pandas will\n",
      "not coerce, and 'the values will not compare equal to the\n",
      "'datetime.date'. To retain the current behavior, convert the\n",
      "'datetime.date' to a datetime with 'pd.Timestamp'.\n",
      "  df['pcp'] = df['date'].apply(lambda x: dfcuaca[dfcuaca['date'] == x]['pcp'].iloc[0])\n"
     ]
    }
   ],
   "source": [
    "df['tempmax'] = df['date'].apply(lambda x: dfcuaca[dfcuaca['date'] == x]['temp_max'].iloc[0])\n",
    "df['tempmin'] = df['date'].apply(lambda x: dfcuaca[dfcuaca['date'] == x]['temp_min'].iloc[0])\n",
    "df['pcp'] = df['date'].apply(lambda x: dfcuaca[dfcuaca['date'] == x]['pcp'].iloc[0])"
   ]
  },
  {
   "cell_type": "markdown",
   "metadata": {},
   "source": [
    "#### 2.3 Menambahkan Karakteristik Stasiun"
   ]
  },
  {
   "cell_type": "markdown",
   "metadata": {},
   "source": [
    "Untuk memperkaya analisis, perlu ditambahkan karakteristik dari setiap-setiap stasiun"
   ]
  },
  {
   "cell_type": "code",
   "execution_count": 21,
   "metadata": {},
   "outputs": [
    {
     "data": {
      "text/plain": [
       "226"
      ]
     },
     "execution_count": 21,
     "metadata": {},
     "output_type": "execute_result"
    }
   ],
   "source": [
    "uniquestat = list (df['start_station'].unique()) + list(df['end_station'].unique())\n",
    "uniquestat = list(set(uniquestat))\n",
    "len(uniquestat)"
   ]
  },
  {
   "cell_type": "markdown",
   "metadata": {},
   "source": [
    "Pada data LA Metro Bike Share terdapat 275 stasiun, namun pada datasets yang digunakan hanya terdapat 226 stasiun. Hal ini disebabkan terdapat beberapa stasiun yang sudah tidak aktif. "
   ]
  },
  {
   "cell_type": "markdown",
   "metadata": {},
   "source": [
    "<b> 2.3.1 Membuat DataFrame Stasiun </b><br>\n",
    "\n",
    "Membuat Dataframe tentang informasi per stasiun untuk memudahkan memasukan data selanjutnya"
   ]
  },
  {
   "cell_type": "code",
   "execution_count": 22,
   "metadata": {},
   "outputs": [],
   "source": [
    "statname = []\n",
    "statlat = []\n",
    "statlong = []\n",
    "statid=[]\n",
    "statreg = []\n",
    "\n",
    "for i in list (df['start_station'].unique()): \n",
    "    statid.append(i)\n",
    "    statname.append(dfst[dfst['Station_ID']==i]['Station_Name'].iloc[0])\n",
    "    statlat.append(df[df['start_station']==i]['start_lat'].iloc[0])\n",
    "    statlong.append(df[df['start_station']==i]['start_lon'].iloc[0])\n",
    "    statreg.append(df[df['start_station']==i]['reg_start'].iloc[0])\n",
    "    \n",
    "for i in list (df['end_station'].unique()): \n",
    "    statid.append(i)\n",
    "    statname.append(dfst[dfst['Station_ID']==i]['Station_Name'].iloc[0])\n",
    "    statlat.append(df[df['end_station']==i]['end_lat'].iloc[0])\n",
    "    statlong.append(df[df['end_station']==i]['end_lon'].iloc[0])\n",
    "    statreg.append(df[df['end_station']==i]['reg_end'].iloc[0])\n",
    "\n",
    "dfstat = pd.DataFrame()\n",
    "dfstat['statid'] = statid\n",
    "dfstat['name'] =statname\n",
    "dfstat['statlat'] = statlat\n",
    "dfstat['statlong'] = statlong\n",
    "dfstat['statreg'] = statreg\n",
    "dfstat = dfstat.drop_duplicates()"
   ]
  },
  {
   "cell_type": "markdown",
   "metadata": {},
   "source": [
    "<b>2.3.2 Menambahkan Walking Score, Biking Score, Transit Score </b> \n",
    "\n",
    "Sumber data: https://www.walkscore.com/<br>\n",
    "Tujuan: Menggambarkan kondisi di sekitar stasiun yang berpotensi mempengaruhi penggunaan sepeda.<br><br>\n",
    "Variabel yang ditambahkan: \n",
    "1. Walking Score: Measures walkability on a scale from 0 - 100 based on walking routes to destinations such as grocery stores, schools, parks, restaurants, and retail.\n",
    "2. Transit Score: Measures transit accessibility on a scale from 0 - 100. Calculates distance to closest stop on each route, analyzes route frequency and type.\n",
    "3. Measures bike accessibility on a scale from 0 - 100 based on bike infrastructure, topography, destinations and road connectivity.\n"
   ]
  },
  {
   "cell_type": "code",
   "execution_count": 23,
   "metadata": {},
   "outputs": [
    {
     "data": {
      "text/html": [
       "<div>\n",
       "<style scoped>\n",
       "    .dataframe tbody tr th:only-of-type {\n",
       "        vertical-align: middle;\n",
       "    }\n",
       "\n",
       "    .dataframe tbody tr th {\n",
       "        vertical-align: top;\n",
       "    }\n",
       "\n",
       "    .dataframe thead th {\n",
       "        text-align: right;\n",
       "    }\n",
       "</style>\n",
       "<table border=\"1\" class=\"dataframe\">\n",
       "  <thead>\n",
       "    <tr style=\"text-align: right;\">\n",
       "      <th></th>\n",
       "      <th>statid</th>\n",
       "      <th>Walk</th>\n",
       "      <th>Transit</th>\n",
       "      <th>Bike</th>\n",
       "    </tr>\n",
       "  </thead>\n",
       "  <tbody>\n",
       "    <tr>\n",
       "      <th>0</th>\n",
       "      <td>3030</td>\n",
       "      <td>93</td>\n",
       "      <td>100.0</td>\n",
       "      <td>74</td>\n",
       "    </tr>\n",
       "    <tr>\n",
       "      <th>1</th>\n",
       "      <td>3066</td>\n",
       "      <td>96</td>\n",
       "      <td>87.0</td>\n",
       "      <td>56</td>\n",
       "    </tr>\n",
       "    <tr>\n",
       "      <th>2</th>\n",
       "      <td>3082</td>\n",
       "      <td>93</td>\n",
       "      <td>96.0</td>\n",
       "      <td>73</td>\n",
       "    </tr>\n",
       "  </tbody>\n",
       "</table>\n",
       "</div>"
      ],
      "text/plain": [
       "   statid  Walk  Transit  Bike\n",
       "0    3030    93    100.0    74\n",
       "1    3066    96     87.0    56\n",
       "2    3082    93     96.0    73"
      ]
     },
     "execution_count": 23,
     "metadata": {},
     "output_type": "execute_result"
    }
   ],
   "source": [
    "dfscore = pd.read_excel('StationScore.xlsx')\n",
    "dfscore.head(3)"
   ]
  },
  {
   "cell_type": "code",
   "execution_count": 24,
   "metadata": {},
   "outputs": [],
   "source": [
    "dfstat['walk_score'] =  dfstat['statid'].apply(lambda x: dfscore[dfscore['statid']==x]['Walk'].iloc[0])  \n",
    "dfstat['transit_score'] =  dfstat['statid'].apply(lambda x: dfscore[dfscore['statid']==x]['Transit'].iloc[0])   \n",
    "dfstat['bike_score'] =  dfstat['statid'].apply(lambda x: dfscore[dfscore['statid']==x]['Bike'].iloc[0])   "
   ]
  },
  {
   "cell_type": "markdown",
   "metadata": {},
   "source": [
    "<b>2.3.3 Memeriksa Nilai Null </b>"
   ]
  },
  {
   "cell_type": "code",
   "execution_count": 25,
   "metadata": {},
   "outputs": [
    {
     "data": {
      "text/plain": [
       "statid           0\n",
       "name             0\n",
       "statlat          0\n",
       "statlong         0\n",
       "statreg          0\n",
       "walk_score       0\n",
       "transit_score    6\n",
       "bike_score       0\n",
       "dtype: int64"
      ]
     },
     "execution_count": 25,
     "metadata": {},
     "output_type": "execute_result"
    }
   ],
   "source": [
    "dfstat.isna().sum()"
   ]
  },
  {
   "cell_type": "markdown",
   "metadata": {},
   "source": [
    "Terdapat nilai null untuk 6 stasiun pada transit score:"
   ]
  },
  {
   "cell_type": "code",
   "execution_count": 26,
   "metadata": {},
   "outputs": [
    {
     "data": {
      "text/html": [
       "<div>\n",
       "<style scoped>\n",
       "    .dataframe tbody tr th:only-of-type {\n",
       "        vertical-align: middle;\n",
       "    }\n",
       "\n",
       "    .dataframe tbody tr th {\n",
       "        vertical-align: top;\n",
       "    }\n",
       "\n",
       "    .dataframe thead th {\n",
       "        text-align: right;\n",
       "    }\n",
       "</style>\n",
       "<table border=\"1\" class=\"dataframe\">\n",
       "  <thead>\n",
       "    <tr style=\"text-align: right;\">\n",
       "      <th></th>\n",
       "      <th>statid</th>\n",
       "      <th>name</th>\n",
       "      <th>statlat</th>\n",
       "      <th>statlong</th>\n",
       "      <th>statreg</th>\n",
       "      <th>walk_score</th>\n",
       "      <th>transit_score</th>\n",
       "      <th>bike_score</th>\n",
       "    </tr>\n",
       "  </thead>\n",
       "  <tbody>\n",
       "    <tr>\n",
       "      <th>111</th>\n",
       "      <td>4341</td>\n",
       "      <td>7th &amp; Westminster</td>\n",
       "      <td>33.995300</td>\n",
       "      <td>-118.464844</td>\n",
       "      <td>Westside</td>\n",
       "      <td>95</td>\n",
       "      <td>NaN</td>\n",
       "      <td>96</td>\n",
       "    </tr>\n",
       "    <tr>\n",
       "      <th>124</th>\n",
       "      <td>4342</td>\n",
       "      <td>Abbot Kinney &amp; Cadiz</td>\n",
       "      <td>33.991161</td>\n",
       "      <td>-118.468292</td>\n",
       "      <td>Westside</td>\n",
       "      <td>94</td>\n",
       "      <td>NaN</td>\n",
       "      <td>99</td>\n",
       "    </tr>\n",
       "    <tr>\n",
       "      <th>137</th>\n",
       "      <td>4380</td>\n",
       "      <td>Centinela &amp; Lucile</td>\n",
       "      <td>33.982922</td>\n",
       "      <td>-118.410927</td>\n",
       "      <td>Westside</td>\n",
       "      <td>60</td>\n",
       "      <td>NaN</td>\n",
       "      <td>82</td>\n",
       "    </tr>\n",
       "    <tr>\n",
       "      <th>173</th>\n",
       "      <td>4420</td>\n",
       "      <td>North Hollywood Station</td>\n",
       "      <td>34.168629</td>\n",
       "      <td>-118.377068</td>\n",
       "      <td>North Hollywood</td>\n",
       "      <td>91</td>\n",
       "      <td>NaN</td>\n",
       "      <td>73</td>\n",
       "    </tr>\n",
       "    <tr>\n",
       "      <th>181</th>\n",
       "      <td>4419</td>\n",
       "      <td>Magnolia &amp; Clybourn</td>\n",
       "      <td>34.165218</td>\n",
       "      <td>-118.355148</td>\n",
       "      <td>North Hollywood</td>\n",
       "      <td>71</td>\n",
       "      <td>NaN</td>\n",
       "      <td>71</td>\n",
       "    </tr>\n",
       "    <tr>\n",
       "      <th>190</th>\n",
       "      <td>4432</td>\n",
       "      <td>Public Bike Rack: Universal City/Studio City R...</td>\n",
       "      <td>34.139568</td>\n",
       "      <td>-118.362251</td>\n",
       "      <td>North Hollywood</td>\n",
       "      <td>53</td>\n",
       "      <td>NaN</td>\n",
       "      <td>24</td>\n",
       "    </tr>\n",
       "  </tbody>\n",
       "</table>\n",
       "</div>"
      ],
      "text/plain": [
       "     statid                                               name    statlat  \\\n",
       "111    4341                                  7th & Westminster  33.995300   \n",
       "124    4342                               Abbot Kinney & Cadiz  33.991161   \n",
       "137    4380                                 Centinela & Lucile  33.982922   \n",
       "173    4420                            North Hollywood Station  34.168629   \n",
       "181    4419                                Magnolia & Clybourn  34.165218   \n",
       "190    4432  Public Bike Rack: Universal City/Studio City R...  34.139568   \n",
       "\n",
       "       statlong          statreg  walk_score  transit_score  bike_score  \n",
       "111 -118.464844         Westside          95            NaN          96  \n",
       "124 -118.468292         Westside          94            NaN          99  \n",
       "137 -118.410927         Westside          60            NaN          82  \n",
       "173 -118.377068  North Hollywood          91            NaN          73  \n",
       "181 -118.355148  North Hollywood          71            NaN          71  \n",
       "190 -118.362251  North Hollywood          53            NaN          24  "
      ]
     },
     "execution_count": 26,
     "metadata": {},
     "output_type": "execute_result"
    }
   ],
   "source": [
    "dfstat[dfstat['transit_score'].isnull()]"
   ]
  },
  {
   "cell_type": "markdown",
   "metadata": {},
   "source": [
    "Nilai null hanya terdapat pada stasiun di region Westside dan North Hollywood"
   ]
  },
  {
   "cell_type": "code",
   "execution_count": 27,
   "metadata": {},
   "outputs": [
    {
     "name": "stderr",
     "output_type": "stream",
     "text": [
      "c:\\users\\user1\\appdata\\local\\programs\\python\\python38-32\\lib\\site-packages\\pandas\\core\\indexing.py:205: SettingWithCopyWarning: \n",
      "A value is trying to be set on a copy of a slice from a DataFrame\n",
      "\n",
      "See the caveats in the documentation: http://pandas.pydata.org/pandas-docs/stable/user_guide/indexing.html#returning-a-view-versus-a-copy\n",
      "  self._setitem_with_indexer(indexer, value)\n"
     ]
    }
   ],
   "source": [
    "# for i in range(len(dfstat[dfstat['transit_score'].isnull()]))\n",
    "\n",
    "for i in dfstat[dfstat['transit_score'].isnull()].index:\n",
    "    if dfstat.loc[i]['statreg']=='Westside':\n",
    "        dfstat['transit_score'].loc[i] = dfstat[dfstat['statreg']=='Westside']['transit_score'].mean()\n",
    "    elif dfstat.loc[i]['statreg']=='North Hollywood':\n",
    "        dfstat['transit_score'].loc[i] = dfstat[dfstat['statreg']=='North Hollywood']['transit_score'].mean()"
   ]
  },
  {
   "cell_type": "code",
   "execution_count": 28,
   "metadata": {},
   "outputs": [
    {
     "data": {
      "text/plain": [
       "statid           0\n",
       "name             0\n",
       "statlat          0\n",
       "statlong         0\n",
       "statreg          0\n",
       "walk_score       0\n",
       "transit_score    0\n",
       "bike_score       0\n",
       "dtype: int64"
      ]
     },
     "execution_count": 28,
     "metadata": {},
     "output_type": "execute_result"
    }
   ],
   "source": [
    "dfstat.isna().sum()"
   ]
  },
  {
   "cell_type": "markdown",
   "metadata": {},
   "source": [
    "## 3. Menambahkan Variabel Turunan"
   ]
  },
  {
   "cell_type": "markdown",
   "metadata": {},
   "source": [
    "#### 3.1 Menambahkan variable 'dist_center' untuk setiap stasiun</b><br>\n"
   ]
  },
  {
   "cell_type": "code",
   "execution_count": 29,
   "metadata": {},
   "outputs": [
    {
     "data": {
      "text/plain": [
       "array(['DTLA', 'Port of LA', 'Westside', 'North Hollywood'], dtype=object)"
      ]
     },
     "execution_count": 29,
     "metadata": {},
     "output_type": "execute_result"
    }
   ],
   "source": [
    "dfstat['statreg'].unique()"
   ]
  },
  {
   "cell_type": "code",
   "execution_count": 30,
   "metadata": {},
   "outputs": [
    {
     "data": {
      "image/png": "[encoded data removed]",
      "text/plain": [
       "<Figure size 432x504 with 1 Axes>"
      ]
     },
     "metadata": {
      "needs_background": "light"
     },
     "output_type": "display_data"
    }
   ],
   "source": [
    "plt.figure(figsize = (6,7))\n",
    "plt.scatter(dfstat[dfstat['statreg']=='DTLA']['statlong'], dfstat[dfstat['statreg']=='DTLA']['statlat'],alpha=0.4)\n",
    "plt.scatter(dfstat[dfstat['statreg']=='Port of LA']['statlong'], dfstat[dfstat['statreg']=='Port of LA']['statlat'],alpha=0.4)\n",
    "plt.scatter(dfstat[dfstat['statreg']=='Westside']['statlong'], dfstat[dfstat['statreg']=='Westside']['statlat'],alpha=0.4)\n",
    "plt.scatter(dfstat[dfstat['statreg']=='North Hollywood']['statlong'], dfstat[dfstat['statreg']=='North Hollywood']['statlat'],alpha=0.4)\n",
    "\n",
    "plt.annotate('Port of LA', (dfstat[dfstat['statreg']=='Port of LA']['statlong'].mean(), dfstat[dfstat['statreg']=='Port of LA']['statlat'].mean()))\n",
    "plt.annotate('Downtown Los Angeles', (dfstat[dfstat['statreg']=='DTLA']['statlong'].mean()-0.06, dfstat[dfstat['statreg']=='DTLA']['statlat'].mean()))\n",
    "plt.annotate('Westside', (dfstat[dfstat['statreg']=='Westside']['statlong'].mean(), dfstat[dfstat['statreg']=='Westside']['statlat'].mean()))\n",
    "plt.annotate('North Hollywood', (dfstat[dfstat['statreg']=='North Hollywood']['statlong'].mean(), dfstat[dfstat['statreg']=='North Hollywood']['statlat'].mean()))\n",
    "plt.xlabel('Longtidude')\n",
    "plt.ylabel('Latitude')\n",
    "plt.grid(True)"
   ]
  },
  {
   "cell_type": "markdown",
   "metadata": {},
   "source": [
    "Dari scatter plot di atas dapat dilihat bahwa stasiun peminjaman sepeda di masing-masing regional membentuk suatu cluster."
   ]
  },
  {
   "cell_type": "code",
   "execution_count": 31,
   "metadata": {},
   "outputs": [
    {
     "name": "stdout",
     "output_type": "stream",
     "text": [
      "Dari jumlah total  76489  perjalanan, hanya terdapat  23  perjalanan yang lintas region ( 0.03 %)\n"
     ]
    }
   ],
   "source": [
    "print ('Dari jumlah total ', len(df), ' perjalanan, hanya terdapat ', len(df[df['reg_start']!=df['reg_end']]), ' perjalanan yang lintas region (', round(len(df[df['reg_start']!=df['reg_end']])/len(df)*100, 2), '%)')"
   ]
  },
  {
   "cell_type": "markdown",
   "metadata": {},
   "source": [
    "Berdasarkan informasi di atas kita dapat menyimpulkan bahwa sebagian besar perjalanan berada di dalam region. Untuk memberikan gambaran letak stasiun secara spasial terhadap region tersebut dan terhadap sebaran stasiun di dalam region tersebut, kita dapat membuat suatu variabel yang menggambarkan jarak stasiun terhadap 'pusat' stasiun di region tersebut (berdasrkan letak, bukan network).\n",
    "\n",
    "Distance ke center dihitung dengan pitagoras biasa -> tidak menggambarkan jarak real di atas bumi, hanya sebagai pengukuran dibandingkan titik lainnya."
   ]
  },
  {
   "cell_type": "code",
   "execution_count": 32,
   "metadata": {},
   "outputs": [],
   "source": [
    "center_pola_lon = dfstat[dfstat['statreg']=='Port of LA']['statlong'].mean()\n",
    "center_pola_lat = dfstat[dfstat['statreg']=='Port of LA']['statlat'].mean()\n",
    "center_dtla_lon = dfstat[dfstat['statreg']=='DTLA']['statlong'].mean()\n",
    "center_dtla_lat = dfstat[dfstat['statreg']=='DTLA']['statlat'].mean()\n",
    "center_west_lon = dfstat[dfstat['statreg']=='Westside']['statlong'].mean()\n",
    "center_west_lat = dfstat[dfstat['statreg']=='Westside']['statlat'].mean()\n",
    "center_noh_lon = dfstat[dfstat['statreg']=='North Hollywood']['statlong'].mean()\n",
    "center_noh_lat = dfstat[dfstat['statreg']=='North Hollywood']['statlat'].mean()"
   ]
  },
  {
   "cell_type": "code",
   "execution_count": 33,
   "metadata": {},
   "outputs": [],
   "source": [
    "dist_c = []\n",
    "for i in range(len(dfstat)): \n",
    "    if dfstat['statreg'].iloc[i] == 'Port of LA':\n",
    "        dist_c.append(round(np.sqrt(((dfstat.statlong.iloc[i] - center_pola_lon)**2) + ((dfstat.statlat.iloc[i] - center_pola_lat)**2)), 4))\n",
    "    elif dfstat['statreg'].iloc[i] == 'DTLA':\n",
    "        dist_c.append(round(np.sqrt(((dfstat.statlong.iloc[i] - center_dtla_lon)**2) + ((dfstat.statlat.iloc[i] - center_dtla_lat)**2)), 4))\n",
    "    elif dfstat['statreg'].iloc[i] == 'Westside':\n",
    "        dist_c.append(round(np.sqrt(((dfstat.statlong.iloc[i] - center_west_lon)**2) + ((dfstat.statlat.iloc[i] - center_west_lat)**2)), 4))\n",
    "    elif dfstat['statreg'].iloc[i] == 'North Hollywood':\n",
    "        dist_c.append(round(np.sqrt(((dfstat.statlong.iloc[i] - center_noh_lon)**2) + ((dfstat.statlat.iloc[i] - center_noh_lat)**2)), 4))\n",
    "        \n",
    "dfstat['dist_creg'] = dist_c"
   ]
  },
  {
   "cell_type": "code",
   "execution_count": 34,
   "metadata": {},
   "outputs": [],
   "source": [
    "dfcenter = pd.DataFrame([\n",
    "    {\"region\": 'DTLA',\n",
    "    \"lat\":center_dtla_lat,\n",
    "    \"long\": center_dtla_lon},\n",
    "    {\"region\": 'Port of LA',\n",
    "    \"lat\":center_pola_lat,\n",
    "    \"long\": center_pola_lon},\n",
    "    {\"region\": 'Westside',\n",
    "    \"lat\":center_west_lat,\n",
    "    \"long\": center_west_lon},\n",
    "    {\"region\": 'North Hollywood',\n",
    "    \"lat\":center_noh_lat,\n",
    "    \"long\": center_noh_lon}])\n",
    "\n",
    "dfcenter.to_csv('dfcenter.csv')"
   ]
  },
  {
   "cell_type": "markdown",
   "metadata": {},
   "source": [
    "#### 3.2 Membedakan Weekend dan Weekday\n",
    "\n",
    "Dengan asumsi bahwa terdapat perbedaan pola pergerakan masyarakat antara weekend dan weekday, maka data waktu dipisahkan berdasarkan weekend dan weekday:"
   ]
  },
  {
   "cell_type": "code",
   "execution_count": 35,
   "metadata": {},
   "outputs": [],
   "source": [
    "df['date'] = df['start_time'].apply(lambda x: x.date())\n",
    "\n",
    "def weekend(x):\n",
    "    if x.weekday() == 5 or x.weekday() == 6:\n",
    "        return 1\n",
    "    else:\n",
    "        return 0\n",
    "\n",
    "df['weekend'] = df['date'].apply(weekend)"
   ]
  },
  {
   "cell_type": "markdown",
   "metadata": {},
   "source": [
    "#### 3.3 Menambahkan Feature Jam"
   ]
  },
  {
   "cell_type": "code",
   "execution_count": 36,
   "metadata": {},
   "outputs": [],
   "source": [
    "df['hour'] = df['start_time'].apply(lambda x: x.hour)"
   ]
  },
  {
   "cell_type": "markdown",
   "metadata": {},
   "source": [
    "#### 3.4 Membagi Temperatur Berdasarkan Range"
   ]
  },
  {
   "cell_type": "markdown",
   "metadata": {},
   "source": [
    "Untuk mempermudah perhitungan, akan dibuat variabel baru untuk mengklasifikasikan temperatur rata-rata"
   ]
  },
  {
   "cell_type": "code",
   "execution_count": 37,
   "metadata": {},
   "outputs": [
    {
     "data": {
      "text/plain": [
       "count    76489.000000\n",
       "mean        19.195743\n",
       "std          4.387156\n",
       "min          9.700000\n",
       "25%         16.150000\n",
       "50%         19.450000\n",
       "75%         23.050000\n",
       "max         28.900000\n",
       "Name: temp_avg, dtype: float64"
      ]
     },
     "execution_count": 37,
     "metadata": {},
     "output_type": "execute_result"
    }
   ],
   "source": [
    "df['temp_avg'] = (df['tempmax'] + df['tempmin'])/2\n",
    "df['temp_avg'].describe()"
   ]
  },
  {
   "cell_type": "code",
   "execution_count": 38,
   "metadata": {},
   "outputs": [],
   "source": [
    "def temp(x):\n",
    "    if x <= (df['temp_avg'].mean() - df['temp_avg'].std()):\n",
    "        return 'cool'\n",
    "    elif x > (df['temp_avg'].mean() - df['temp_avg'].std()) and x <= (df['temp_avg'].mean() + df['temp_avg'].std()):\n",
    "        return 'regular'\n",
    "    elif x > (df['temp_avg'].mean() + df['temp_avg'].std()):\n",
    "        return 'warm'\n",
    "    \n",
    "df['temp_class'] = df['temp_avg'].apply(temp) "
   ]
  },
  {
   "cell_type": "code",
   "execution_count": 39,
   "metadata": {},
   "outputs": [],
   "source": [
    "encodertemp = OrdinalEncoder(categories=[['cool', 'regular', 'warm']])\n",
    "\n",
    "df['temp_class'] = encodertemp.fit_transform(df['temp_class'].values.reshape(-1, 1))"
   ]
  },
  {
   "cell_type": "markdown",
   "metadata": {},
   "source": [
    "#### 3.5 Menandakan Hari Hujan"
   ]
  },
  {
   "cell_type": "markdown",
   "metadata": {},
   "source": [
    "Trip dikelompokan berdasarkan Precipitation hari itu, apabila precipitation >=1 maka disimpulkan pada hari tersebut terjadi hujan."
   ]
  },
  {
   "cell_type": "code",
   "execution_count": 40,
   "metadata": {},
   "outputs": [],
   "source": [
    "def rain (x):\n",
    "    if x >= 1:\n",
    "        return 1\n",
    "    else:\n",
    "        return 0\n",
    "\n",
    "df['rain'] = df['pcp'].apply(rain)"
   ]
  },
  {
   "cell_type": "markdown",
   "metadata": {},
   "source": [
    "### 4. Feature Exploration"
   ]
  },
  {
   "cell_type": "markdown",
   "metadata": {},
   "source": [
    "Pada bagian ini akan dilakukan:\n",
    "1. Gambaran (visualisasi) sederhana untuk menambah pengertian terhadap data yang ada\n",
    "2. Mengalisis distribusi  data\n",
    "3. Encoding data categorical/ordinal untuk memudahkan modelling"
   ]
  },
  {
   "cell_type": "code",
   "execution_count": 41,
   "metadata": {},
   "outputs": [
    {
     "data": {
      "text/html": [
       "<div>\n",
       "<style scoped>\n",
       "    .dataframe tbody tr th:only-of-type {\n",
       "        vertical-align: middle;\n",
       "    }\n",
       "\n",
       "    .dataframe tbody tr th {\n",
       "        vertical-align: top;\n",
       "    }\n",
       "\n",
       "    .dataframe thead th {\n",
       "        text-align: right;\n",
       "    }\n",
       "</style>\n",
       "<table border=\"1\" class=\"dataframe\">\n",
       "  <thead>\n",
       "    <tr style=\"text-align: right;\">\n",
       "      <th></th>\n",
       "      <th>trip_id</th>\n",
       "      <th>duration</th>\n",
       "      <th>start_station</th>\n",
       "      <th>start_lat</th>\n",
       "      <th>start_lon</th>\n",
       "      <th>end_station</th>\n",
       "      <th>end_lat</th>\n",
       "      <th>end_lon</th>\n",
       "      <th>plan_duration</th>\n",
       "      <th>time</th>\n",
       "      <th>tempmax</th>\n",
       "      <th>tempmin</th>\n",
       "      <th>pcp</th>\n",
       "      <th>weekend</th>\n",
       "      <th>hour</th>\n",
       "      <th>temp_avg</th>\n",
       "      <th>temp_class</th>\n",
       "      <th>rain</th>\n",
       "    </tr>\n",
       "  </thead>\n",
       "  <tbody>\n",
       "    <tr>\n",
       "      <th>count</th>\n",
       "      <td>7.648900e+04</td>\n",
       "      <td>76489.000000</td>\n",
       "      <td>76489.000000</td>\n",
       "      <td>76489.000000</td>\n",
       "      <td>76489.000000</td>\n",
       "      <td>76489.000000</td>\n",
       "      <td>76489.000000</td>\n",
       "      <td>76489.000000</td>\n",
       "      <td>76489.000000</td>\n",
       "      <td>76489.000000</td>\n",
       "      <td>76489.000000</td>\n",
       "      <td>76489.000000</td>\n",
       "      <td>76489.000000</td>\n",
       "      <td>76489.000000</td>\n",
       "      <td>76489.000000</td>\n",
       "      <td>76489.000000</td>\n",
       "      <td>76489.000000</td>\n",
       "      <td>76489.000000</td>\n",
       "    </tr>\n",
       "    <tr>\n",
       "      <th>mean</th>\n",
       "      <td>1.242725e+08</td>\n",
       "      <td>26.725372</td>\n",
       "      <td>3380.542300</td>\n",
       "      <td>34.036530</td>\n",
       "      <td>-118.280747</td>\n",
       "      <td>3381.175947</td>\n",
       "      <td>34.036244</td>\n",
       "      <td>-118.280905</td>\n",
       "      <td>56.930866</td>\n",
       "      <td>13.980115</td>\n",
       "      <td>24.099272</td>\n",
       "      <td>14.292215</td>\n",
       "      <td>0.034021</td>\n",
       "      <td>0.245133</td>\n",
       "      <td>13.980115</td>\n",
       "      <td>19.195743</td>\n",
       "      <td>0.998941</td>\n",
       "      <td>0.008354</td>\n",
       "    </tr>\n",
       "    <tr>\n",
       "      <th>std</th>\n",
       "      <td>6.492901e+06</td>\n",
       "      <td>92.686682</td>\n",
       "      <td>565.654642</td>\n",
       "      <td>0.050842</td>\n",
       "      <td>0.069150</td>\n",
       "      <td>565.967701</td>\n",
       "      <td>0.050797</td>\n",
       "      <td>0.069819</td>\n",
       "      <td>106.739329</td>\n",
       "      <td>4.749323</td>\n",
       "      <td>5.210867</td>\n",
       "      <td>4.129163</td>\n",
       "      <td>0.180211</td>\n",
       "      <td>0.430169</td>\n",
       "      <td>4.749323</td>\n",
       "      <td>4.387156</td>\n",
       "      <td>0.616266</td>\n",
       "      <td>0.091019</td>\n",
       "    </tr>\n",
       "    <tr>\n",
       "      <th>min</th>\n",
       "      <td>1.125377e+08</td>\n",
       "      <td>1.000000</td>\n",
       "      <td>3005.000000</td>\n",
       "      <td>33.710979</td>\n",
       "      <td>-118.495422</td>\n",
       "      <td>3005.000000</td>\n",
       "      <td>33.710979</td>\n",
       "      <td>-118.495422</td>\n",
       "      <td>1.000000</td>\n",
       "      <td>0.000000</td>\n",
       "      <td>11.100000</td>\n",
       "      <td>3.300000</td>\n",
       "      <td>0.000000</td>\n",
       "      <td>0.000000</td>\n",
       "      <td>0.000000</td>\n",
       "      <td>9.700000</td>\n",
       "      <td>0.000000</td>\n",
       "      <td>0.000000</td>\n",
       "    </tr>\n",
       "    <tr>\n",
       "      <th>25%</th>\n",
       "      <td>1.184701e+08</td>\n",
       "      <td>6.000000</td>\n",
       "      <td>3027.000000</td>\n",
       "      <td>34.039871</td>\n",
       "      <td>-118.270813</td>\n",
       "      <td>3027.000000</td>\n",
       "      <td>34.039219</td>\n",
       "      <td>-118.270813</td>\n",
       "      <td>1.000000</td>\n",
       "      <td>11.000000</td>\n",
       "      <td>20.000000</td>\n",
       "      <td>11.700000</td>\n",
       "      <td>0.000000</td>\n",
       "      <td>0.000000</td>\n",
       "      <td>11.000000</td>\n",
       "      <td>16.150000</td>\n",
       "      <td>1.000000</td>\n",
       "      <td>0.000000</td>\n",
       "    </tr>\n",
       "    <tr>\n",
       "      <th>50%</th>\n",
       "      <td>1.245931e+08</td>\n",
       "      <td>11.000000</td>\n",
       "      <td>3049.000000</td>\n",
       "      <td>34.046810</td>\n",
       "      <td>-118.256668</td>\n",
       "      <td>3049.000000</td>\n",
       "      <td>34.046612</td>\n",
       "      <td>-118.256668</td>\n",
       "      <td>30.000000</td>\n",
       "      <td>14.000000</td>\n",
       "      <td>23.900000</td>\n",
       "      <td>14.400000</td>\n",
       "      <td>0.000000</td>\n",
       "      <td>0.000000</td>\n",
       "      <td>14.000000</td>\n",
       "      <td>19.450000</td>\n",
       "      <td>1.000000</td>\n",
       "      <td>0.000000</td>\n",
       "    </tr>\n",
       "    <tr>\n",
       "      <th>75%</th>\n",
       "      <td>1.300666e+08</td>\n",
       "      <td>21.000000</td>\n",
       "      <td>4135.000000</td>\n",
       "      <td>34.051941</td>\n",
       "      <td>-118.247162</td>\n",
       "      <td>4135.000000</td>\n",
       "      <td>34.050880</td>\n",
       "      <td>-118.246422</td>\n",
       "      <td>30.000000</td>\n",
       "      <td>18.000000</td>\n",
       "      <td>28.300000</td>\n",
       "      <td>17.800000</td>\n",
       "      <td>0.000000</td>\n",
       "      <td>0.000000</td>\n",
       "      <td>18.000000</td>\n",
       "      <td>23.050000</td>\n",
       "      <td>1.000000</td>\n",
       "      <td>0.000000</td>\n",
       "    </tr>\n",
       "    <tr>\n",
       "      <th>max</th>\n",
       "      <td>1.349825e+08</td>\n",
       "      <td>1440.000000</td>\n",
       "      <td>4493.000000</td>\n",
       "      <td>34.177662</td>\n",
       "      <td>-118.231277</td>\n",
       "      <td>4493.000000</td>\n",
       "      <td>34.177662</td>\n",
       "      <td>-118.231277</td>\n",
       "      <td>999.000000</td>\n",
       "      <td>23.000000</td>\n",
       "      <td>36.100000</td>\n",
       "      <td>22.800000</td>\n",
       "      <td>2.120000</td>\n",
       "      <td>1.000000</td>\n",
       "      <td>23.000000</td>\n",
       "      <td>28.900000</td>\n",
       "      <td>2.000000</td>\n",
       "      <td>1.000000</td>\n",
       "    </tr>\n",
       "  </tbody>\n",
       "</table>\n",
       "</div>"
      ],
      "text/plain": [
       "            trip_id      duration  start_station     start_lat     start_lon  \\\n",
       "count  7.648900e+04  76489.000000   76489.000000  76489.000000  76489.000000   \n",
       "mean   1.242725e+08     26.725372    3380.542300     34.036530   -118.280747   \n",
       "std    6.492901e+06     92.686682     565.654642      0.050842      0.069150   \n",
       "min    1.125377e+08      1.000000    3005.000000     33.710979   -118.495422   \n",
       "25%    1.184701e+08      6.000000    3027.000000     34.039871   -118.270813   \n",
       "50%    1.245931e+08     11.000000    3049.000000     34.046810   -118.256668   \n",
       "75%    1.300666e+08     21.000000    4135.000000     34.051941   -118.247162   \n",
       "max    1.349825e+08   1440.000000    4493.000000     34.177662   -118.231277   \n",
       "\n",
       "        end_station       end_lat       end_lon  plan_duration          time  \\\n",
       "count  76489.000000  76489.000000  76489.000000   76489.000000  76489.000000   \n",
       "mean    3381.175947     34.036244   -118.280905      56.930866     13.980115   \n",
       "std      565.967701      0.050797      0.069819     106.739329      4.749323   \n",
       "min     3005.000000     33.710979   -118.495422       1.000000      0.000000   \n",
       "25%     3027.000000     34.039219   -118.270813       1.000000     11.000000   \n",
       "50%     3049.000000     34.046612   -118.256668      30.000000     14.000000   \n",
       "75%     4135.000000     34.050880   -118.246422      30.000000     18.000000   \n",
       "max     4493.000000     34.177662   -118.231277     999.000000     23.000000   \n",
       "\n",
       "            tempmax       tempmin           pcp       weekend          hour  \\\n",
       "count  76489.000000  76489.000000  76489.000000  76489.000000  76489.000000   \n",
       "mean      24.099272     14.292215      0.034021      0.245133     13.980115   \n",
       "std        5.210867      4.129163      0.180211      0.430169      4.749323   \n",
       "min       11.100000      3.300000      0.000000      0.000000      0.000000   \n",
       "25%       20.000000     11.700000      0.000000      0.000000     11.000000   \n",
       "50%       23.900000     14.400000      0.000000      0.000000     14.000000   \n",
       "75%       28.300000     17.800000      0.000000      0.000000     18.000000   \n",
       "max       36.100000     22.800000      2.120000      1.000000     23.000000   \n",
       "\n",
       "           temp_avg    temp_class          rain  \n",
       "count  76489.000000  76489.000000  76489.000000  \n",
       "mean      19.195743      0.998941      0.008354  \n",
       "std        4.387156      0.616266      0.091019  \n",
       "min        9.700000      0.000000      0.000000  \n",
       "25%       16.150000      1.000000      0.000000  \n",
       "50%       19.450000      1.000000      0.000000  \n",
       "75%       23.050000      1.000000      0.000000  \n",
       "max       28.900000      2.000000      1.000000  "
      ]
     },
     "execution_count": 41,
     "metadata": {},
     "output_type": "execute_result"
    }
   ],
   "source": [
    "df.describe()"
   ]
  },
  {
   "cell_type": "code",
   "execution_count": 42,
   "metadata": {},
   "outputs": [
    {
     "data": {
      "text/plain": [
       "Index(['trip_id', 'duration', 'start_time', 'end_time', 'start_station',\n",
       "       'start_lat', 'start_lon', 'end_station', 'end_lat', 'end_lon',\n",
       "       'bike_id', 'plan_duration', 'trip_route_category', 'passholder_type',\n",
       "       'bike_type', 'reg_start', 'reg_end', 'time', 'date', 'tempmax',\n",
       "       'tempmin', 'pcp', 'weekend', 'hour', 'temp_avg', 'temp_class', 'rain'],\n",
       "      dtype='object')"
      ]
     },
     "execution_count": 42,
     "metadata": {},
     "output_type": "execute_result"
    }
   ],
   "source": [
    "df.columns"
   ]
  },
  {
   "cell_type": "markdown",
   "metadata": {},
   "source": [
    "#### 4.1. Duration\n",
    "\n",
    "Outliers diukur menggunakan IQR karena terdapat outliers yang sangat besar dan mempengaruhi mean dan standar deviasi, sehingga mean dan standar deviasi tidak bisa menggambarkan sentralitas data. "
   ]
  },
  {
   "cell_type": "code",
   "execution_count": 43,
   "metadata": {},
   "outputs": [
    {
     "data": {
      "image/png": "[encoded data removed]",
      "text/plain": [
       "<Figure size 1584x216 with 1 Axes>"
      ]
     },
     "metadata": {
      "needs_background": "light"
     },
     "output_type": "display_data"
    }
   ],
   "source": [
    "plt.figure(figsize = (22,3))\n",
    "plt.boxplot(df['duration'], vert=False)\n",
    "plt.xticks(range(0, 1441, 40))\n",
    "plt.grid(True)"
   ]
  },
  {
   "cell_type": "markdown",
   "metadata": {},
   "source": [
    "Boxplot di atas menggambarkan persebaran titik data dimana dapat dilihat bahwa terdapat banyak data yang terletak diluar upper limit (> 1,5 * IQR). Data yang berada di luar upper limit tersebut dianggap sebagai outliers.  "
   ]
  },
  {
   "cell_type": "code",
   "execution_count": 44,
   "metadata": {},
   "outputs": [
    {
     "name": "stdout",
     "output_type": "stream",
     "text": [
      "IQR =  15.0\n",
      "upper =  43.5\n",
      "jumlah outlier:  6947 , yaitu 9.08 % dari jumlah data\n"
     ]
    },
    {
     "data": {
      "text/plain": [
       "count    76489.000000\n",
       "mean        26.725372\n",
       "std         92.686682\n",
       "min          1.000000\n",
       "25%          6.000000\n",
       "50%         11.000000\n",
       "75%         21.000000\n",
       "max       1440.000000\n",
       "Name: duration, dtype: float64"
      ]
     },
     "execution_count": 44,
     "metadata": {},
     "output_type": "execute_result"
    }
   ],
   "source": [
    "iqr = np.subtract(*np.percentile(df['duration'], [75, 25]))\n",
    "print('IQR = ', iqr)\n",
    "upper = np.percentile(df['duration'], 75) + (1.5 * iqr)\n",
    "print('upper = ', (np.percentile(df['duration'], 75)) + (1.5 * iqr))\n",
    "print ('jumlah outlier: ', len(df[df['duration']> upper]),', yaitu', round(len(df[df['duration']>upper])/len(df)*100, 2),'% dari jumlah data')\n",
    "df['duration'].describe()"
   ]
  },
  {
   "cell_type": "markdown",
   "metadata": {},
   "source": [
    "Teliti lebih lanjut persebaran data per region:"
   ]
  },
  {
   "cell_type": "code",
   "execution_count": 45,
   "metadata": {},
   "outputs": [
    {
     "data": {
      "text/plain": [
       "Text(0.5, 1.0, 'North Hollywood')"
      ]
     },
     "execution_count": 45,
     "metadata": {},
     "output_type": "execute_result"
    },
    {
     "data": {
      "image/png": "[encoded data removed]",
      "text/plain": [
       "<Figure size 1584x1080 with 4 Axes>"
      ]
     },
     "metadata": {
      "needs_background": "light"
     },
     "output_type": "display_data"
    }
   ],
   "source": [
    "plt.figure(figsize = (22,15))\n",
    "plt.subplot(411)\n",
    "plt.boxplot(df[df['reg_start'] == 'DTLA']['duration'], vert=False)\n",
    "plt.xticks(range(0, 1441, 40))\n",
    "plt.grid(True)\n",
    "plt.title('Downtown Los Angeles')\n",
    "plt.subplot(412)\n",
    "plt.boxplot(df[df['reg_start'] == 'Port of LA']['duration'], vert=False)\n",
    "plt.xticks(range(0, 1441, 40))\n",
    "plt.grid(True)\n",
    "plt.title('Port of Los Angeles')\n",
    "plt.subplot(413)\n",
    "plt.boxplot(df[df['reg_start'] == 'Westside']['duration'], vert=False)\n",
    "plt.xticks(range(0, 1441, 40))\n",
    "plt.grid(True)\n",
    "plt.title('Westside')\n",
    "plt.subplot(414)\n",
    "plt.boxplot(df[df['reg_start'] == 'North Hollywood']['duration'], vert=False)\n",
    "plt.xticks(range(0, 1441, 40))\n",
    "plt.grid(True)\n",
    "plt.title('North Hollywood')\n"
   ]
  },
  {
   "cell_type": "markdown",
   "metadata": {},
   "source": [
    "- Dari 4 boxplot di atas dapat dilihat bahwa secara umum perjalanan di region 'Port of Los Angeles' dan region 'Westside' memiliki durasi yang lebih lama daripada perjalanan di Downtown Los Angeles dan di North Hollywood. Selain itu diketahui juga bahwa upper limit setiap region berbeda: "
   ]
  },
  {
   "cell_type": "code",
   "execution_count": 46,
   "metadata": {},
   "outputs": [
    {
     "name": "stdout",
     "output_type": "stream",
     "text": [
      "1. Downtown Los Angeles\n",
      "IQR DTLA=  12.0\n",
      "upper limit DTLA =  36.0\n",
      "jumlah outlier dtla:  4369 , yaitu 6.7 % dari jumlah data\n",
      "\n",
      "\n",
      "2. Port of Los Angeles\n",
      "IQR POLA=  32.0\n",
      "upper limit POLA =  101.0\n",
      "jumlah outlier p o la:  156 , yaitu 9.12 % dari jumlah data\n",
      "\n",
      "\n",
      "3. Westside\n",
      "IQR Westside=  39.0\n",
      "upper limit Westside =  110.5\n",
      "jumlah outlier Westside:  624 , yaitu 6.97 % dari jumlah data\n",
      "\n",
      "\n",
      "4. North Hollywood\n",
      "IQR North Hollywood=  14.0\n",
      "upper limit North Hollywood =  42.0\n",
      "jumlah outlier North Hollywood:  50 , yaitu 7.75 % dari jumlah data\n"
     ]
    }
   ],
   "source": [
    "print ('1. Downtown Los Angeles')\n",
    "iqrdt = np.subtract(*np.percentile(df[df['reg_start'] == 'DTLA']['duration'], [75, 25]))\n",
    "print('IQR DTLA= ', iqrdt)\n",
    "upperdt = (np.percentile(df[df['reg_start'] == 'DTLA']['duration'], 75)) + (1.5 *iqrdt)\n",
    "jumlah_outdt = len(df[(df['reg_start'] == 'DTLA') & (df['duration']>upperdt)])\n",
    "print('upper limit DTLA = ', upperdt)\n",
    "print ('jumlah outlier dtla: ',jumlah_outdt,', yaitu', round(jumlah_outdt/len(df[df['reg_start'] == 'DTLA'])*100, 2),'% dari jumlah data')\n",
    "print ('\\n')\n",
    "print ('2. Port of Los Angeles')\n",
    "iqrpo = np.subtract(*np.percentile(df[df['reg_start'] == 'Port of LA']['duration'], [75, 25]))\n",
    "print('IQR POLA= ', iqrpo)\n",
    "upperpo = (np.percentile(df[df['reg_start'] == 'Port of LA']['duration'], 75)) + (1.5 *iqrpo)\n",
    "jumlah_outpo = len(df[(df['reg_start'] == 'Port of LA') & (df['duration']>upperpo)])\n",
    "print('upper limit POLA = ', upperpo)\n",
    "print ('jumlah outlier p o la: ',jumlah_outpo,', yaitu', round(jumlah_outpo/len(df[df['reg_start'] == 'Port of LA'])*100, 2),'% dari jumlah data')\n",
    "print ('\\n')\n",
    "print ('3. Westside')\n",
    "iqrw = np.subtract(*np.percentile(df[df['reg_start'] == 'Westside']['duration'], [75, 25]))\n",
    "print('IQR Westside= ', iqrw)\n",
    "upperw = (np.percentile(df[df['reg_start'] == 'Westside']['duration'], 75)) + (1.5 *iqrw)\n",
    "jumlah_outw = len(df[(df['reg_start'] == 'Westside') & (df['duration']>upperw)])\n",
    "print('upper limit Westside = ', upperw)\n",
    "print ('jumlah outlier Westside: ',jumlah_outw,', yaitu', round(jumlah_outw/len(df[df['reg_start'] == 'Westside'])*100, 2),'% dari jumlah data')\n",
    "print ('\\n')\n",
    "print ('4. North Hollywood')\n",
    "iqrh = np.subtract(*np.percentile(df[df['reg_start'] == 'North Hollywood']['duration'], [75, 25]))\n",
    "print('IQR North Hollywood= ', iqrh)\n",
    "upperh = (np.percentile(df[df['reg_start'] == 'North Hollywood']['duration'], 75)) + (1.5 *iqrh)\n",
    "jumlah_outh = len(df[(df['reg_start'] == 'North Hollywood') & (df['duration']>upperh)])\n",
    "print('upper limit North Hollywood = ', upperh)\n",
    "print ('jumlah outlier North Hollywood: ',jumlah_outh,', yaitu', round(jumlah_outh/len(df[df['reg_start'] == 'North Hollywood'])*100, 2),'% dari jumlah data')"
   ]
  },
  {
   "cell_type": "markdown",
   "metadata": {},
   "source": [
    "Perbedaan upper limit di Region Port of Los Angeles dan Westside dapat dicoba dimengerti dengan melihat karakteristik region tersebut: "
   ]
  },
  {
   "cell_type": "code",
   "execution_count": 47,
   "metadata": {},
   "outputs": [
    {
     "data": {
      "text/html": [
       "<div>\n",
       "<style scoped>\n",
       "    .dataframe tbody tr th:only-of-type {\n",
       "        vertical-align: middle;\n",
       "    }\n",
       "\n",
       "    .dataframe tbody tr th {\n",
       "        vertical-align: top;\n",
       "    }\n",
       "\n",
       "    .dataframe thead th {\n",
       "        text-align: right;\n",
       "    }\n",
       "</style>\n",
       "<table border=\"1\" class=\"dataframe\">\n",
       "  <thead>\n",
       "    <tr style=\"text-align: right;\">\n",
       "      <th></th>\n",
       "      <th>walk_score</th>\n",
       "      <th>transit_score</th>\n",
       "      <th>bike_score</th>\n",
       "      <th>dist_creg</th>\n",
       "    </tr>\n",
       "    <tr>\n",
       "      <th>statreg</th>\n",
       "      <th></th>\n",
       "      <th></th>\n",
       "      <th></th>\n",
       "      <th></th>\n",
       "    </tr>\n",
       "  </thead>\n",
       "  <tbody>\n",
       "    <tr>\n",
       "      <th>DTLA</th>\n",
       "      <td>91.206612</td>\n",
       "      <td>84.710744</td>\n",
       "      <td>74.396694</td>\n",
       "      <td>0.028160</td>\n",
       "    </tr>\n",
       "    <tr>\n",
       "      <th>North Hollywood</th>\n",
       "      <td>81.611111</td>\n",
       "      <td>49.600000</td>\n",
       "      <td>66.611111</td>\n",
       "      <td>0.013628</td>\n",
       "    </tr>\n",
       "    <tr>\n",
       "      <th>Port of LA</th>\n",
       "      <td>44.846154</td>\n",
       "      <td>34.923077</td>\n",
       "      <td>69.000000</td>\n",
       "      <td>0.018692</td>\n",
       "    </tr>\n",
       "    <tr>\n",
       "      <th>Westside</th>\n",
       "      <td>85.216216</td>\n",
       "      <td>57.661972</td>\n",
       "      <td>82.391892</td>\n",
       "      <td>0.034020</td>\n",
       "    </tr>\n",
       "  </tbody>\n",
       "</table>\n",
       "</div>"
      ],
      "text/plain": [
       "                 walk_score  transit_score  bike_score  dist_creg\n",
       "statreg                                                          \n",
       "DTLA              91.206612      84.710744   74.396694   0.028160\n",
       "North Hollywood   81.611111      49.600000   66.611111   0.013628\n",
       "Port of LA        44.846154      34.923077   69.000000   0.018692\n",
       "Westside          85.216216      57.661972   82.391892   0.034020"
      ]
     },
     "execution_count": 47,
     "metadata": {},
     "output_type": "execute_result"
    }
   ],
   "source": [
    "dfstat[['statreg','walk_score','transit_score','bike_score', 'dist_creg']].groupby(['statreg']).mean()"
   ]
  },
  {
   "cell_type": "markdown",
   "metadata": {},
   "source": [
    "Dengan informasi terbatas ini, dapat diasumsikan bahwa:\n",
    "\n",
    "1. Asumsi 1: Walking score tinggi memperlihatkan bahwa densitas penggunaan lahan campuran di daerah tersebut tinggi sehingga fasilitas umum dan/atau komersial bisa dijangkau dengan berjalan kaki. Sebaliknya walking score yang rendah memperlihatkan bahwa antara perumahan, fasilitas umum dan/atau komersial memiliki jarak yang lebih jauh. Maka dari itu bisa disimpulkan bahwa walking score yang rendah menandakan bahwa jarak perjalanan yang ditempuh oleh masyarakat rata-rata lebih jauh dibandingkan jarak perjalanan yang ditempuh oleh masyarakat yang berkegiatan/tinggal di daerah dengan walking score tinggi. Hal ini dapat menjelaskan kenapa perjalanan sepeda di Port of Los Angeles lebih lama dibandingkan di region lainnya. \n",
    "\n",
    "2. Asumsi 2: Walaupun Walking Score di Westside cukup tinggi, namun distance to region's center di Westside secara signifikan lebih tinggi dibandingkan di Region lainnya. Hal ini mengindikasikan persebaran stasiun memiliki jarak yang lebih besar dibandingkan di region lainnya sehingga berpengaruh terhadap durasi perjalanan. "
   ]
  },
  {
   "cell_type": "markdown",
   "metadata": {},
   "source": [
    "Keputusan terkait Outliers Durasi: \n",
    "- Dapat dilihat bahwa outliers sangat mempengaruhi data keseluruhan, sehingga diputuskan untuk didrop.\n",
    "- Di Website Metro Bike Share LA terdapat notifikasi \"Some short round trips or long trips may be the result of system or user error, but have been kept in the dataset for completeness\"\n",
    "- Outliers dihitung berdasarkan IQR per Region agar data tetap dapat menggambarkan perjalanan di masing-masing region. "
   ]
  },
  {
   "cell_type": "code",
   "execution_count": 48,
   "metadata": {},
   "outputs": [],
   "source": [
    "df2 = df\n",
    "df2 = df2.drop(df2 [(df2['reg_start'] == 'DTLA') & (df2['duration']>upperdt)].index)\n",
    "df2 = df2.drop(df2 [(df2['reg_start'] == 'Port of LA') & (df2['duration']>upperpo)].index)\n",
    "df2 = df2.drop(df2 [(df2['reg_start'] == 'Westside') & (df2['duration']>upperw)].index)\n",
    "df2 = df2.drop(df2 [(df2['reg_start'] == 'North Hollywood') & (df2['duration']>upperh)].index)"
   ]
  },
  {
   "cell_type": "code",
   "execution_count": 49,
   "metadata": {},
   "outputs": [
    {
     "data": {
      "text/plain": [
       "<function matplotlib.pyplot.show(*args, **kw)>"
      ]
     },
     "execution_count": 49,
     "metadata": {},
     "output_type": "execute_result"
    },
    {
     "data": {
      "image/png": "[encoded data removed]",
      "text/plain": [
       "<Figure size 1584x216 with 1 Axes>"
      ]
     },
     "metadata": {
      "needs_background": "light"
     },
     "output_type": "display_data"
    }
   ],
   "source": [
    "plt.figure(figsize = (22,3))\n",
    "plt.boxplot(df['duration'], vert=False)\n",
    "plt.grid(True)\n",
    "plt.show"
   ]
  },
  {
   "cell_type": "markdown",
   "metadata": {},
   "source": [
    "Outliers di atas merupakan data pada region Port of LA dan Westside"
   ]
  },
  {
   "cell_type": "markdown",
   "metadata": {},
   "source": [
    "#### 4.2. Plan Duration\n",
    "\n",
    "The number of days that the plan the passholder is using entitles them to ride;"
   ]
  },
  {
   "cell_type": "markdown",
   "metadata": {},
   "source": [
    "<!-- <img_src='pricing.PNG> -->\n",
    "\n",
    "<img src=\"pricing.PNG\" alt=\"pricing\" width=\"800\"/>\n",
    "sumber: https://bikeshare.metro.net/pricing/"
   ]
  },
  {
   "cell_type": "code",
   "execution_count": 50,
   "metadata": {},
   "outputs": [
    {
     "data": {
      "text/plain": [
       "array([ 30,   1, 365, 999], dtype=int64)"
      ]
     },
     "execution_count": 50,
     "metadata": {},
     "output_type": "execute_result"
    }
   ],
   "source": [
    "df2['plan_duration'].unique()"
   ]
  },
  {
   "cell_type": "markdown",
   "metadata": {},
   "source": [
    "Terdapat plan duration dengan nilai sebesar 999 (tidak ada pada plan yang tertera pada official website). "
   ]
  },
  {
   "cell_type": "code",
   "execution_count": 51,
   "metadata": {},
   "outputs": [
    {
     "data": {
      "text/html": [
       "<div>\n",
       "<style scoped>\n",
       "    .dataframe tbody tr th:only-of-type {\n",
       "        vertical-align: middle;\n",
       "    }\n",
       "\n",
       "    .dataframe tbody tr th {\n",
       "        vertical-align: top;\n",
       "    }\n",
       "\n",
       "    .dataframe thead th {\n",
       "        text-align: right;\n",
       "    }\n",
       "</style>\n",
       "<table border=\"1\" class=\"dataframe\">\n",
       "  <thead>\n",
       "    <tr style=\"text-align: right;\">\n",
       "      <th></th>\n",
       "      <th>trip_id</th>\n",
       "      <th>duration</th>\n",
       "      <th>start_time</th>\n",
       "      <th>end_time</th>\n",
       "      <th>start_station</th>\n",
       "      <th>start_lat</th>\n",
       "      <th>start_lon</th>\n",
       "      <th>end_station</th>\n",
       "      <th>end_lat</th>\n",
       "      <th>end_lon</th>\n",
       "      <th>bike_id</th>\n",
       "      <th>plan_duration</th>\n",
       "      <th>trip_route_category</th>\n",
       "      <th>passholder_type</th>\n",
       "      <th>bike_type</th>\n",
       "      <th>reg_start</th>\n",
       "      <th>reg_end</th>\n",
       "      <th>time</th>\n",
       "      <th>date</th>\n",
       "      <th>tempmax</th>\n",
       "      <th>tempmin</th>\n",
       "      <th>pcp</th>\n",
       "      <th>weekend</th>\n",
       "      <th>hour</th>\n",
       "      <th>temp_avg</th>\n",
       "      <th>temp_class</th>\n",
       "      <th>rain</th>\n",
       "    </tr>\n",
       "  </thead>\n",
       "  <tbody>\n",
       "    <tr>\n",
       "      <th>64517</th>\n",
       "      <td>128481094</td>\n",
       "      <td>24</td>\n",
       "      <td>2019-09-04 09:14:00</td>\n",
       "      <td>2019-09-04 09:38:00</td>\n",
       "      <td>4330</td>\n",
       "      <td>34.025688</td>\n",
       "      <td>-118.395302</td>\n",
       "      <td>4330</td>\n",
       "      <td>34.025688</td>\n",
       "      <td>-118.395302</td>\n",
       "      <td>16237</td>\n",
       "      <td>999</td>\n",
       "      <td>Round Trip</td>\n",
       "      <td>Testing</td>\n",
       "      <td>smart</td>\n",
       "      <td>Westside</td>\n",
       "      <td>Westside</td>\n",
       "      <td>9</td>\n",
       "      <td>2019-09-04</td>\n",
       "      <td>35.0</td>\n",
       "      <td>22.2</td>\n",
       "      <td>0.0</td>\n",
       "      <td>0</td>\n",
       "      <td>9</td>\n",
       "      <td>28.60</td>\n",
       "      <td>2.0</td>\n",
       "      <td>0</td>\n",
       "    </tr>\n",
       "    <tr>\n",
       "      <th>6753</th>\n",
       "      <td>125110166</td>\n",
       "      <td>7</td>\n",
       "      <td>2019-07-08 15:36:00</td>\n",
       "      <td>2019-07-08 15:43:00</td>\n",
       "      <td>4344</td>\n",
       "      <td>34.014309</td>\n",
       "      <td>-118.491341</td>\n",
       "      <td>4344</td>\n",
       "      <td>34.014309</td>\n",
       "      <td>-118.491341</td>\n",
       "      <td>15363</td>\n",
       "      <td>999</td>\n",
       "      <td>Round Trip</td>\n",
       "      <td>Testing</td>\n",
       "      <td>smart</td>\n",
       "      <td>Westside</td>\n",
       "      <td>Westside</td>\n",
       "      <td>15</td>\n",
       "      <td>2019-07-08</td>\n",
       "      <td>23.9</td>\n",
       "      <td>18.3</td>\n",
       "      <td>0.0</td>\n",
       "      <td>0</td>\n",
       "      <td>15</td>\n",
       "      <td>21.10</td>\n",
       "      <td>1.0</td>\n",
       "      <td>0</td>\n",
       "    </tr>\n",
       "    <tr>\n",
       "      <th>82763</th>\n",
       "      <td>129496147</td>\n",
       "      <td>47</td>\n",
       "      <td>2019-09-21 15:53:00</td>\n",
       "      <td>2019-09-21 16:40:00</td>\n",
       "      <td>4389</td>\n",
       "      <td>34.035351</td>\n",
       "      <td>-118.434143</td>\n",
       "      <td>4345</td>\n",
       "      <td>33.995560</td>\n",
       "      <td>-118.481552</td>\n",
       "      <td>16099</td>\n",
       "      <td>999</td>\n",
       "      <td>One Way</td>\n",
       "      <td>Testing</td>\n",
       "      <td>smart</td>\n",
       "      <td>Westside</td>\n",
       "      <td>Westside</td>\n",
       "      <td>15</td>\n",
       "      <td>2019-09-21</td>\n",
       "      <td>30.6</td>\n",
       "      <td>18.3</td>\n",
       "      <td>0.0</td>\n",
       "      <td>1</td>\n",
       "      <td>15</td>\n",
       "      <td>24.45</td>\n",
       "      <td>2.0</td>\n",
       "      <td>0</td>\n",
       "    </tr>\n",
       "    <tr>\n",
       "      <th>25119</th>\n",
       "      <td>131548279</td>\n",
       "      <td>16</td>\n",
       "      <td>2019-10-26 15:32:09</td>\n",
       "      <td>2019-10-26 15:48:03</td>\n",
       "      <td>4336</td>\n",
       "      <td>34.022449</td>\n",
       "      <td>-118.438332</td>\n",
       "      <td>4354</td>\n",
       "      <td>34.017681</td>\n",
       "      <td>-118.409081</td>\n",
       "      <td>15125</td>\n",
       "      <td>999</td>\n",
       "      <td>One Way</td>\n",
       "      <td>Testing</td>\n",
       "      <td>smart</td>\n",
       "      <td>Westside</td>\n",
       "      <td>Westside</td>\n",
       "      <td>15</td>\n",
       "      <td>2019-10-26</td>\n",
       "      <td>31.7</td>\n",
       "      <td>17.8</td>\n",
       "      <td>0.0</td>\n",
       "      <td>1</td>\n",
       "      <td>15</td>\n",
       "      <td>24.75</td>\n",
       "      <td>2.0</td>\n",
       "      <td>0</td>\n",
       "    </tr>\n",
       "    <tr>\n",
       "      <th>24964</th>\n",
       "      <td>131541356</td>\n",
       "      <td>17</td>\n",
       "      <td>2019-10-26 12:58:33</td>\n",
       "      <td>2019-10-26 13:15:28</td>\n",
       "      <td>4344</td>\n",
       "      <td>34.014309</td>\n",
       "      <td>-118.491341</td>\n",
       "      <td>4345</td>\n",
       "      <td>33.995281</td>\n",
       "      <td>-118.479752</td>\n",
       "      <td>15555</td>\n",
       "      <td>999</td>\n",
       "      <td>One Way</td>\n",
       "      <td>Testing</td>\n",
       "      <td>smart</td>\n",
       "      <td>Westside</td>\n",
       "      <td>Westside</td>\n",
       "      <td>12</td>\n",
       "      <td>2019-10-26</td>\n",
       "      <td>31.7</td>\n",
       "      <td>17.8</td>\n",
       "      <td>0.0</td>\n",
       "      <td>1</td>\n",
       "      <td>12</td>\n",
       "      <td>24.75</td>\n",
       "      <td>2.0</td>\n",
       "      <td>0</td>\n",
       "    </tr>\n",
       "  </tbody>\n",
       "</table>\n",
       "</div>"
      ],
      "text/plain": [
       "         trip_id  duration          start_time            end_time  \\\n",
       "64517  128481094        24 2019-09-04 09:14:00 2019-09-04 09:38:00   \n",
       "6753   125110166         7 2019-07-08 15:36:00 2019-07-08 15:43:00   \n",
       "82763  129496147        47 2019-09-21 15:53:00 2019-09-21 16:40:00   \n",
       "25119  131548279        16 2019-10-26 15:32:09 2019-10-26 15:48:03   \n",
       "24964  131541356        17 2019-10-26 12:58:33 2019-10-26 13:15:28   \n",
       "\n",
       "       start_station  start_lat   start_lon  end_station    end_lat  \\\n",
       "64517           4330  34.025688 -118.395302         4330  34.025688   \n",
       "6753            4344  34.014309 -118.491341         4344  34.014309   \n",
       "82763           4389  34.035351 -118.434143         4345  33.995560   \n",
       "25119           4336  34.022449 -118.438332         4354  34.017681   \n",
       "24964           4344  34.014309 -118.491341         4345  33.995281   \n",
       "\n",
       "          end_lon bike_id  plan_duration trip_route_category passholder_type  \\\n",
       "64517 -118.395302   16237            999          Round Trip         Testing   \n",
       "6753  -118.491341   15363            999          Round Trip         Testing   \n",
       "82763 -118.481552   16099            999             One Way         Testing   \n",
       "25119 -118.409081   15125            999             One Way         Testing   \n",
       "24964 -118.479752   15555            999             One Way         Testing   \n",
       "\n",
       "      bike_type reg_start   reg_end  time        date  tempmax  tempmin  pcp  \\\n",
       "64517     smart  Westside  Westside     9  2019-09-04     35.0     22.2  0.0   \n",
       "6753      smart  Westside  Westside    15  2019-07-08     23.9     18.3  0.0   \n",
       "82763     smart  Westside  Westside    15  2019-09-21     30.6     18.3  0.0   \n",
       "25119     smart  Westside  Westside    15  2019-10-26     31.7     17.8  0.0   \n",
       "24964     smart  Westside  Westside    12  2019-10-26     31.7     17.8  0.0   \n",
       "\n",
       "       weekend  hour  temp_avg  temp_class  rain  \n",
       "64517        0     9     28.60         2.0     0  \n",
       "6753         0    15     21.10         1.0     0  \n",
       "82763        1    15     24.45         2.0     0  \n",
       "25119        1    15     24.75         2.0     0  \n",
       "24964        1    12     24.75         2.0     0  "
      ]
     },
     "execution_count": 51,
     "metadata": {},
     "output_type": "execute_result"
    }
   ],
   "source": [
    "df2[df2['plan_duration']==999]"
   ]
  },
  {
   "cell_type": "markdown",
   "metadata": {},
   "source": [
    "Setelah dilihat lebih lanjut, perjalanan dengan plan duration = 999 memiliki passholder type = Testing. Karena perjalanan tersebut bukan perjalanan reguler yg dilakukan oleh pelanggan maka data tersebut di-drop. "
   ]
  },
  {
   "cell_type": "code",
   "execution_count": 52,
   "metadata": {},
   "outputs": [],
   "source": [
    "df2 = df2[df2['plan_duration']!=999]"
   ]
  },
  {
   "cell_type": "code",
   "execution_count": 53,
   "metadata": {},
   "outputs": [
    {
     "data": {
      "image/png": "[encoded data removed]",
      "text/plain": [
       "<Figure size 432x288 with 1 Axes>"
      ]
     },
     "metadata": {},
     "output_type": "display_data"
    }
   ],
   "source": [
    "plt.pie([len(df2[df2['plan_duration'] == 1]), len(df2[df2['plan_duration'] == 30]), len(df2[df2['plan_duration'] == 365])],labels= ['One Day', 'One Month', 'One Year'], autopct='%2f%%')\n",
    "plt.show()"
   ]
  },
  {
   "cell_type": "markdown",
   "metadata": {},
   "source": [
    "Sebagian besar pelanggan bike share merupakan pelanggan dengan subcription plan bulanan"
   ]
  },
  {
   "cell_type": "markdown",
   "metadata": {},
   "source": [
    "#### 4.3 Trip Route Category"
   ]
  },
  {
   "cell_type": "code",
   "execution_count": 54,
   "metadata": {},
   "outputs": [
    {
     "data": {
      "text/plain": [
       "array(['One Way', 'Round Trip'], dtype=object)"
      ]
     },
     "execution_count": 54,
     "metadata": {},
     "output_type": "execute_result"
    }
   ],
   "source": [
    "df2['trip_route_category'].unique()"
   ]
  },
  {
   "cell_type": "code",
   "execution_count": 55,
   "metadata": {},
   "outputs": [
    {
     "data": {
      "image/png": "[encoded data removed]",
      "text/plain": [
       "<Figure size 432x288 with 1 Axes>"
      ]
     },
     "metadata": {},
     "output_type": "display_data"
    }
   ],
   "source": [
    "plt.pie([len(df2[df2['trip_route_category'] == 'One Way']), len(df2[df2['trip_route_category'] == 'Round Trip'])],labels= ['One Way', 'Round Trip'], autopct='%2f%%')\n",
    "plt.show()"
   ]
  },
  {
   "cell_type": "markdown",
   "metadata": {},
   "source": [
    "Secara umum dapat dilihat bahwa sebagian besar perjalanan yang menggunakan bike share di Los Angeles adalah One Way Trip\n",
    "\n",
    "Karena kategori perjalanan merupakan variabel categorical maka dibuatkan variabel dummy:"
   ]
  },
  {
   "cell_type": "code",
   "execution_count": 56,
   "metadata": {},
   "outputs": [],
   "source": [
    "df2['round_trip']= pd.get_dummies(df2['trip_route_category'])['Round Trip']"
   ]
  },
  {
   "cell_type": "markdown",
   "metadata": {},
   "source": [
    "#### 4.4 Passholder Type"
   ]
  },
  {
   "cell_type": "code",
   "execution_count": 57,
   "metadata": {},
   "outputs": [
    {
     "data": {
      "image/png": "[encoded data removed]",
      "text/plain": [
       "<Figure size 432x288 with 1 Axes>"
      ]
     },
     "metadata": {},
     "output_type": "display_data"
    }
   ],
   "source": [
    "plt.pie([len(df[df['passholder_type'] =='Monthly Pass']), len(df[df['passholder_type'] =='Walk-up']), len(df[df['passholder_type'] =='One Day Pass']),\n",
    "        len(df[df['passholder_type'] =='Annual Pass']), len(df[df['passholder_type'] =='Flex Pass'])],\n",
    "       labels= ['Monthly Pass', 'Walk-up', 'One Day Pass', 'Annual Pass', 'Flex Pass'], autopct='%2f%%')\n",
    "plt.show()"
   ]
  },
  {
   "cell_type": "markdown",
   "metadata": {},
   "source": [
    "Grafik di atas memperlihatkan bahwa sebagian besar pelanggan menggunakan program langganan bulanan."
   ]
  },
  {
   "cell_type": "code",
   "execution_count": 58,
   "metadata": {},
   "outputs": [
    {
     "data": {
      "text/plain": [
       "array(['Monthly Pass', 'Walk-up', 'One Day Pass', 'Annual Pass',\n",
       "       'Flex Pass'], dtype=object)"
      ]
     },
     "execution_count": 58,
     "metadata": {},
     "output_type": "execute_result"
    }
   ],
   "source": [
    "df2['passholder_type'].unique()"
   ]
  },
  {
   "cell_type": "markdown",
   "metadata": {},
   "source": [
    "Karena passholder type berupa data categorical maka dijadikan variabel dummy:"
   ]
  },
  {
   "cell_type": "code",
   "execution_count": 59,
   "metadata": {},
   "outputs": [],
   "source": [
    "passholder = pd.get_dummies(df2['passholder_type']) \n",
    "df2 = pd.concat([df2, passholder[['Monthly Pass', 'Walk-up', 'One Day Pass', 'Annual Pass']]], axis = 1)"
   ]
  },
  {
   "cell_type": "markdown",
   "metadata": {},
   "source": [
    "Setelah diteliti lebih lanjut, passholder_type menjelaskan tentang status berlangganan customer lebih jelas dibanding variabel plan_duration yang tidak membedakan antara One Day Pass dan Walk-up. Agar tidak redundan maka variabel plan_duration akan didrop:"
   ]
  },
  {
   "cell_type": "code",
   "execution_count": 60,
   "metadata": {},
   "outputs": [],
   "source": [
    "# df2 = df2.drop('plan_duration', axis = 1)"
   ]
  },
  {
   "cell_type": "markdown",
   "metadata": {},
   "source": [
    "#### 4.5 Bike Type"
   ]
  },
  {
   "cell_type": "code",
   "execution_count": 61,
   "metadata": {},
   "outputs": [
    {
     "data": {
      "text/plain": [
       "array(['standard', 'smart', 'electric'], dtype=object)"
      ]
     },
     "execution_count": 61,
     "metadata": {},
     "output_type": "execute_result"
    }
   ],
   "source": [
    "df2['bike_type'].unique()"
   ]
  },
  {
   "cell_type": "code",
   "execution_count": 62,
   "metadata": {},
   "outputs": [
    {
     "data": {
      "image/png": "[encoded data removed]",
      "text/plain": [
       "<Figure size 432x288 with 1 Axes>"
      ]
     },
     "metadata": {},
     "output_type": "display_data"
    }
   ],
   "source": [
    "plt.pie([len(df[df['bike_type'] =='standard']), len(df[df['bike_type'] =='smart']), len(df[df['bike_type'] =='electric'])],\n",
    "       labels= ['standard', 'smart', 'electric'], autopct='%2f%%')\n",
    "plt.show()"
   ]
  },
  {
   "cell_type": "markdown",
   "metadata": {},
   "source": [
    "Karena Bike Type merupakan variabel categorical, maka dibuatkan variabel dummy:"
   ]
  },
  {
   "cell_type": "code",
   "execution_count": 63,
   "metadata": {},
   "outputs": [],
   "source": [
    "biketype = pd.get_dummies(df2['bike_type']) \n",
    "df2 = pd.concat([df2, biketype[['smart', 'electric']]], axis = 1)"
   ]
  },
  {
   "cell_type": "markdown",
   "metadata": {},
   "source": [
    "#### 4.6 Region (Start)"
   ]
  },
  {
   "cell_type": "code",
   "execution_count": 64,
   "metadata": {},
   "outputs": [
    {
     "data": {
      "text/plain": [
       "array(['DTLA', 'Port of LA', 'Westside', 'North Hollywood'], dtype=object)"
      ]
     },
     "execution_count": 64,
     "metadata": {},
     "output_type": "execute_result"
    }
   ],
   "source": [
    "df2['reg_start'].unique()"
   ]
  },
  {
   "cell_type": "code",
   "execution_count": 65,
   "metadata": {},
   "outputs": [],
   "source": [
    "region_start = pd.get_dummies(df2['reg_start']) \n",
    "df2 = pd.concat([df2, region_start[['Port of LA', 'DTLA', 'North Hollywood']]], axis = 1)"
   ]
  },
  {
   "cell_type": "code",
   "execution_count": 66,
   "metadata": {},
   "outputs": [
    {
     "data": {
      "image/png": "[encoded data removed]",
      "text/plain": [
       "<Figure size 432x288 with 1 Axes>"
      ]
     },
     "metadata": {},
     "output_type": "display_data"
    }
   ],
   "source": [
    "plt.pie([len(df[df['reg_start'] =='DTLA']), len(df[df['reg_start'] =='Port of LA']), len(df[df['reg_start'] =='Westside']), len(df[df['reg_start'] =='North Hollywood'])],\n",
    "       labels= ['DTLA', 'Port of LA', 'Westside', 'North Hollywood'], autopct='%2f%%')\n",
    "plt.show()"
   ]
  },
  {
   "cell_type": "markdown",
   "metadata": {},
   "source": [
    "#### 4.7 Region (End)"
   ]
  },
  {
   "cell_type": "code",
   "execution_count": 67,
   "metadata": {},
   "outputs": [
    {
     "data": {
      "text/plain": [
       "array(['DTLA', 'Port of LA', 'Westside', 'North Hollywood'], dtype=object)"
      ]
     },
     "execution_count": 67,
     "metadata": {},
     "output_type": "execute_result"
    }
   ],
   "source": [
    "df2['reg_end'].unique()"
   ]
  },
  {
   "cell_type": "code",
   "execution_count": 68,
   "metadata": {},
   "outputs": [],
   "source": [
    "region_end = pd.get_dummies(df2['reg_end'])\n",
    "region_end = region_end.rename(columns = {'DTLA': 'DTLA_end','Port of LA':'Port of LA_end', 'North Hollywood':'North Hollywood_end'})\n",
    "df2 = pd.concat([df2, region_end[['Port of LA_end', 'DTLA_end', 'North Hollywood_end']]], axis = 1)"
   ]
  },
  {
   "cell_type": "code",
   "execution_count": 69,
   "metadata": {},
   "outputs": [
    {
     "data": {
      "image/png": "[encoded data removed]",
      "text/plain": [
       "<Figure size 432x288 with 1 Axes>"
      ]
     },
     "metadata": {},
     "output_type": "display_data"
    }
   ],
   "source": [
    "plt.pie([len(df[df['reg_end'] =='DTLA']), len(df[df['reg_end'] =='Port of LA']), len(df[df['reg_end'] =='Westside']), len(df[df['reg_end'] =='North Hollywood'])],\n",
    "       labels= ['DTLA', 'Port of LA', 'Westside', 'North Hollywood'], autopct='%2f%%')\n",
    "plt.show()"
   ]
  },
  {
   "cell_type": "markdown",
   "metadata": {},
   "source": [
    "#### 4.8 Time "
   ]
  },
  {
   "cell_type": "code",
   "execution_count": 70,
   "metadata": {},
   "outputs": [
    {
     "data": {
      "image/png": "[encoded data removed]",
      "text/plain": [
       "<Figure size 1080x576 with 1 Axes>"
      ]
     },
     "metadata": {
      "needs_background": "light"
     },
     "output_type": "display_data"
    }
   ],
   "source": [
    "jumlahwaktu = df2.groupby(['time'])['trip_id'].count()\n",
    "west = df2.groupby(['reg_start', 'time'])['trip_id'].count().loc['Westside']\n",
    "west.loc[3] = 0\n",
    "pola = df2.groupby(['reg_start', 'time'])['trip_id'].count().loc['Port of LA']\n",
    "pola.loc[0] = 0\n",
    "pola.loc[2] = 0\n",
    "plt.figure(figsize = (15,8))\n",
    "plt.plot(range(0,24), jumlahwaktu)\n",
    "plt.plot(range(0,24), df2.groupby(['reg_start', 'time'])['trip_id'].count().loc['DTLA'])\n",
    "plt.plot(range(0,24), pola)\n",
    "plt.plot(range(0,24), west)\n",
    "plt.plot(range(0,24), df2.groupby(['reg_start', 'time'])['trip_id'].count().loc['North Hollywood'])\n",
    "plt.xticks(range(0,24))\n",
    "plt.grid(True)\n",
    "plt.title('Jumlah perjalanan per jam')\n",
    "plt.legend(['Total', 'DTLA', 'Port of LA', 'Westside', 'North Hollywood'])\n",
    "plt.show()"
   ]
  },
  {
   "cell_type": "markdown",
   "metadata": {},
   "source": [
    "Dari grafik di atas dapat dilihat bahwa peak hour untuk region Port of LA dan Westside,cenderung sama yaitu antara jam 11.00 - 15.00 sedangkan untuk daerah down town peak time nya adalah jam 17.00"
   ]
  },
  {
   "cell_type": "markdown",
   "metadata": {},
   "source": [
    "#### 4.9 Temperature"
   ]
  },
  {
   "cell_type": "code",
   "execution_count": 71,
   "metadata": {},
   "outputs": [
    {
     "data": {
      "image/png": "[encoded data removed]",
      "text/plain": [
       "<Figure size 432x288 with 1 Axes>"
      ]
     },
     "metadata": {},
     "output_type": "display_data"
    }
   ],
   "source": [
    "plt.pie([len(df[df['temp_class']==1]), len(df[df['temp_class']==2]), len(df[df['temp_class']==3])], autopct='%2f%%')\n",
    "plt.show()"
   ]
  },
  {
   "cell_type": "markdown",
   "metadata": {},
   "source": [
    "#### 4.10 Walk Score"
   ]
  },
  {
   "cell_type": "code",
   "execution_count": 72,
   "metadata": {},
   "outputs": [
    {
     "data": {
      "text/plain": [
       "count    226.000000\n",
       "mean      85.814159\n",
       "std       14.196118\n",
       "min       10.000000\n",
       "25%       82.000000\n",
       "50%       91.000000\n",
       "75%       94.000000\n",
       "max       99.000000\n",
       "Name: walk_score, dtype: float64"
      ]
     },
     "execution_count": 72,
     "metadata": {},
     "output_type": "execute_result"
    }
   ],
   "source": [
    "dfstat['walk_score'].describe()"
   ]
  },
  {
   "cell_type": "code",
   "execution_count": 73,
   "metadata": {},
   "outputs": [
    {
     "data": {
      "image/png": "[encoded data removed]",
      "text/plain": [
       "<Figure size 1152x432 with 2 Axes>"
      ]
     },
     "metadata": {
      "needs_background": "light"
     },
     "output_type": "display_data"
    }
   ],
   "source": [
    "plt.figure(figsize = (16,6))\n",
    "plt.subplot(121)\n",
    "plt.hist(dfstat['walk_score'], bins =100)\n",
    "plt.subplot(122)\n",
    "plt.hist(dfstat[dfstat['statreg']=='DTLA']['walk_score'], bins =50, alpha=0.6)\n",
    "plt.hist(dfstat[dfstat['statreg']=='Port of LA']['walk_score'], bins =50, alpha=0.6)\n",
    "plt.hist(dfstat[dfstat['statreg']=='North Hollywood']['walk_score'], bins =50, alpha=0.6)\n",
    "plt.hist(dfstat[dfstat['statreg']=='Westside']['walk_score'], bins =50, alpha=0.6)\n",
    "plt.legend(['DTLA', 'Port of LA', 'North Hollywood', 'Westside'])\n",
    "plt.show()"
   ]
  },
  {
   "cell_type": "markdown",
   "metadata": {},
   "source": [
    "Distribusi walk score berbentuk skew negatif. "
   ]
  },
  {
   "cell_type": "markdown",
   "metadata": {},
   "source": [
    "#### 4.11 Bike Score"
   ]
  },
  {
   "cell_type": "code",
   "execution_count": null,
   "metadata": {},
   "outputs": [],
   "source": [
    "dfstat['bike_score'].describe()"
   ]
  },
  {
   "cell_type": "code",
   "execution_count": null,
   "metadata": {},
   "outputs": [],
   "source": [
    "plt.figure(figsize = (16,6))\n",
    "plt.subplot(121)\n",
    "plt.hist(dfstat['bike_score'], bins =100)\n",
    "plt.subplot(122)\n",
    "plt.hist(dfstat[dfstat['statreg']=='DTLA']['bike_score'], bins =50, alpha=0.6)\n",
    "plt.hist(dfstat[dfstat['statreg']=='Port of LA']['bike_score'], bins =50, alpha=0.6)\n",
    "plt.hist(dfstat[dfstat['statreg']=='North Hollywood']['bike_score'], bins =50, alpha=0.6)\n",
    "plt.hist(dfstat[dfstat['statreg']=='Westside']['bike_score'], bins =50, alpha=0.6)\n",
    "plt.legend(['DTLA', 'Port of LA', 'North Hollywood', 'Westside'])\n",
    "plt.show()"
   ]
  },
  {
   "cell_type": "markdown",
   "metadata": {},
   "source": [
    "#### 4.12 Transit Score"
   ]
  },
  {
   "cell_type": "code",
   "execution_count": null,
   "metadata": {},
   "outputs": [],
   "source": [
    "dfstat['transit_score'].describe()"
   ]
  },
  {
   "cell_type": "code",
   "execution_count": null,
   "metadata": {},
   "outputs": [],
   "source": [
    "plt.figure(figsize = (16,6))\n",
    "plt.subplot(121)\n",
    "plt.hist(dfstat['transit_score'], bins =100)\n",
    "plt.subplot(122)\n",
    "plt.hist(dfstat[dfstat['statreg']=='DTLA']['transit_score'], bins =50, alpha=0.6)\n",
    "plt.hist(dfstat[dfstat['statreg']=='Port of LA']['transit_score'], bins =50, alpha=0.6)\n",
    "plt.hist(dfstat[dfstat['statreg']=='North Hollywood']['transit_score'], bins =50, alpha=0.6)\n",
    "plt.hist(dfstat[dfstat['statreg']=='Westside']['transit_score'], bins =50, alpha=0.6)\n",
    "plt.legend(['DTLA', 'Port of LA', 'North Hollywood', 'Westside'])\n",
    "plt.show()"
   ]
  },
  {
   "cell_type": "markdown",
   "metadata": {},
   "source": [
    "#### 4.13 Distance to Region Center"
   ]
  },
  {
   "cell_type": "code",
   "execution_count": null,
   "metadata": {},
   "outputs": [],
   "source": [
    "dfstat['dist_creg'].describe()"
   ]
  },
  {
   "cell_type": "code",
   "execution_count": null,
   "metadata": {},
   "outputs": [],
   "source": [
    "plt.figure(figsize = (16,6))\n",
    "plt.subplot(121)\n",
    "plt.hist(dfstat['dist_creg'], bins =100)\n",
    "plt.subplot(122)\n",
    "plt.hist(dfstat[dfstat['statreg']=='DTLA']['dist_creg'], bins =50, alpha=0.6)\n",
    "plt.hist(dfstat[dfstat['statreg']=='Port of LA']['dist_creg'], bins =50, alpha=0.6)\n",
    "plt.hist(dfstat[dfstat['statreg']=='North Hollywood']['dist_creg'], bins =50, alpha=0.6)\n",
    "plt.hist(dfstat[dfstat['statreg']=='Westside']['dist_creg'], bins =50, alpha=0.6)\n",
    "plt.legend(['DTLA', 'Port of LA', 'North Hollywood', 'Westside'])\n",
    "plt.show()"
   ]
  },
  {
   "cell_type": "markdown",
   "metadata": {},
   "source": [
    "<b> Menyimpan DataFrame ke CSV</b>"
   ]
  },
  {
   "cell_type": "code",
   "execution_count": null,
   "metadata": {},
   "outputs": [],
   "source": [
    "df2.to_csv('df2.csv')"
   ]
  },
  {
   "cell_type": "code",
   "execution_count": null,
   "metadata": {},
   "outputs": [],
   "source": [
    "dfstat.to_csv('dfstat.csv')"
   ]
  },
  {
   "cell_type": "code",
   "execution_count": null,
   "metadata": {},
   "outputs": [],
   "source": [
    "df3 = df2.drop(['trip_route_category', 'passholder_type', 'bike_type', 'reg_start', 'reg_end'], axis =1)\n",
    "df3.to_csv('df3.csv')"
   ]
  },
  {
   "cell_type": "markdown",
   "metadata": {},
   "source": [
    "### 5. Menggabungkan Dataframe Trips dan Stations\n",
    "\n",
    "Dengan tujuan membuat model yang dapat memprediksi besar demand di stasiun bike sharing berdasarkan hari dan karakteristik stasiun, dibentuk dataframe baru berdasarkan informasi yang sudah ada sebelumnya:"
   ]
  },
  {
   "cell_type": "code",
   "execution_count": null,
   "metadata": {},
   "outputs": [],
   "source": [
    "dfx = (df2[['trip_id', 'start_station', 'weekend', 'rain', 'temp_class',\n",
    "       'North Hollywood', 'Port of LA', 'DTLA']]).groupby(['start_station', 'weekend', 'rain', 'temp_class',\n",
    "       'North Hollywood', 'Port of LA', 'DTLA'], as_index=False).count()\n",
    "dfx = dfx.rename(columns={'trip_id':'total_trip', 'start_station':'station_id'})"
   ]
  },
  {
   "cell_type": "code",
   "execution_count": null,
   "metadata": {},
   "outputs": [],
   "source": [
    "dfx.head()"
   ]
  },
  {
   "cell_type": "code",
   "execution_count": null,
   "metadata": {},
   "outputs": [],
   "source": [
    "dfx['stat_name'] = dfx['station_id'].apply(lambda x: dfstat[dfstat['statid']==x]['name'].iloc[0])\n",
    "dfx['lat'] = dfx['station_id'].apply(lambda x: dfstat[dfstat['statid']==x]['statlat'].iloc[0])\n",
    "dfx['long'] = dfx['station_id'].apply(lambda x: dfstat[dfstat['statid']==x]['statlong'].iloc[0])\n",
    "dfx['walk_score'] = dfx['station_id'].apply(lambda x: dfstat[dfstat['statid']==x]['walk_score'].iloc[0])\n",
    "dfx['transit_score'] = dfx['station_id'].apply(lambda x: dfstat[dfstat['statid']==x]['transit_score'].iloc[0])\n",
    "dfx['bike_score'] = dfx['station_id'].apply(lambda x: dfstat[dfstat['statid']==x]['bike_score'].iloc[0])\n",
    "dfx['dregioncenter'] = dfx['station_id'].apply(lambda x: dfstat[dfstat['statid']==x]['dist_creg'].iloc[0])"
   ]
  },
  {
   "cell_type": "code",
   "execution_count": null,
   "metadata": {},
   "outputs": [],
   "source": [
    "dfx.head(15)"
   ]
  },
  {
   "cell_type": "markdown",
   "metadata": {},
   "source": [
    "Dari dataframe terbaru, kita mendapatkan satu variabel baru yang sebelumnya tidak ada: Jumlah Trip Per Stasiun. \n",
    "    \n",
    "Untuk itu dilakukan visualisasi dan transformasi terlebih dahulu:"
   ]
  },
  {
   "cell_type": "code",
   "execution_count": null,
   "metadata": {},
   "outputs": [],
   "source": [
    "plt.figure(figsize = (14,4))\n",
    "plt.hist(dfx['total_trip'], bins=200)\n",
    "plt.title ('Distribusi Jumlah Trip Per Stasiun')\n",
    "plt.show()"
   ]
  },
  {
   "cell_type": "markdown",
   "metadata": {},
   "source": [
    "Dapat dilihat bahwa data sangat positive skewed, untuk itu akan dilakukan transformasi log sebagai berikut:"
   ]
  },
  {
   "cell_type": "code",
   "execution_count": null,
   "metadata": {},
   "outputs": [],
   "source": [
    "transformerlog = FunctionTransformer(np.log10, validate=True)\n",
    "dfx['trip_log'] = transformerlog.transform(dfx[['total_trip']])"
   ]
  },
  {
   "cell_type": "code",
   "execution_count": null,
   "metadata": {},
   "outputs": [],
   "source": [
    "plt.figure(figsize = (14,4))\n",
    "plt.hist(dfx['trip_log'], bins=200)\n",
    "plt.title ('Distribusi Jumlah Trip Per Stasiun (Transformed)')\n",
    "plt.show()"
   ]
  },
  {
   "cell_type": "markdown",
   "metadata": {},
   "source": [
    "<b> save to csv </b>"
   ]
  },
  {
   "cell_type": "code",
   "execution_count": null,
   "metadata": {},
   "outputs": [],
   "source": [
    "dfx.to_csv('dfx1.csv')"
   ]
  }
 ],
 "metadata": {
  "kernelspec": {
   "display_name": "Python 3",
   "language": "python",
   "name": "python3"
  },
  "language_info": {
   "codemirror_mode": {
    "name": "ipython",
    "version": 3
   },
   "file_extension": ".py",
   "mimetype": "text/x-python",
   "name": "python",
   "nbconvert_exporter": "python",
   "pygments_lexer": "ipython3",
   "version": "3.8.0"
  }
 },
 "nbformat": 4,
 "nbformat_minor": 4
}
